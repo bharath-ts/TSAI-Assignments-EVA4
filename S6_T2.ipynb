{
  "nbformat": 4,
  "nbformat_minor": 0,
  "metadata": {
    "colab": {
      "name": "S6-T2.ipynb",
      "provenance": [],
      "collapsed_sections": [],
      "authorship_tag": "ABX9TyMJd+1a3bbD12/2zQxtV2TL",
      "include_colab_link": true
    },
    "kernelspec": {
      "name": "python3",
      "display_name": "Python 3"
    }
  },
  "cells": [
    {
      "cell_type": "markdown",
      "metadata": {
        "id": "view-in-github",
        "colab_type": "text"
      },
      "source": [
        "<a href=\"https://colab.research.google.com/github/bharathts1507/TSAI-Assignments-EVA4/blob/master/S6_T2.ipynb\" target=\"_parent\"><img src=\"https://colab.research.google.com/assets/colab-badge.svg\" alt=\"Open In Colab\"/></a>"
      ]
    },
    {
      "cell_type": "code",
      "metadata": {
        "id": "BDBIw7jrF-0c",
        "colab_type": "code",
        "colab": {}
      },
      "source": [
        "from __future__ import print_function\n",
        "import torch\n",
        "import torch.nn as nn\n",
        "import torch.nn.functional as F\n",
        "import torch.optim as optim\n",
        "from torchvision import datasets, transforms\n",
        "import numpy as np\n",
        "%matplotlib inline\n",
        "import matplotlib.pyplot as plt"
      ],
      "execution_count": 0,
      "outputs": []
    },
    {
      "cell_type": "code",
      "metadata": {
        "id": "l5epfqZPGDg3",
        "colab_type": "code",
        "colab": {}
      },
      "source": [
        "# Train Phase transformations\n",
        "train_transforms = transforms.Compose([\n",
        "                                      #  transforms.Resize((28, 28)),\n",
        "                                      #  transforms.ColorJitter(brightness=0.10, contrast=0.1, saturation=0.10, hue=0.1),\n",
        "                                       transforms.RandomRotation((-7.0, 7.0), fill=(1,)),\n",
        "                                       transforms.ToTensor(),\n",
        "                                       transforms.Normalize((0.1307,), (0.3081,)) # The mean and std have to be sequences (e.g., tuples), therefore you should add a comma after the values. \n",
        "                                       # Note the difference between (0.1307) and (0.1307,)\n",
        "                                       ])\n",
        "\n",
        "# Test Phase transformations\n",
        "test_transforms = transforms.Compose([\n",
        "                                      #  transforms.Resize((28, 28)),\n",
        "                                      #  transforms.ColorJitter(brightness=0.10, contrast=0.1, saturation=0.10, hue=0.1),\n",
        "                                       transforms.ToTensor(),\n",
        "                                       transforms.Normalize((0.1307,), (0.3081,))\n",
        "                                       ])\n"
      ],
      "execution_count": 0,
      "outputs": []
    },
    {
      "cell_type": "code",
      "metadata": {
        "id": "dgd-T-dGGDkX",
        "colab_type": "code",
        "colab": {}
      },
      "source": [
        "train = datasets.MNIST('./data', train=True, download=True, transform=train_transforms)\n",
        "test = datasets.MNIST('./data', train=False, download=True, transform=test_transforms)"
      ],
      "execution_count": 0,
      "outputs": []
    },
    {
      "cell_type": "code",
      "metadata": {
        "id": "r3Ie6WBGGDnX",
        "colab_type": "code",
        "outputId": "c43fb5c0-e363-4a17-dde6-adf72daa053c",
        "colab": {
          "base_uri": "https://localhost:8080/",
          "height": 34
        }
      },
      "source": [
        "SEED = 1\n",
        "\n",
        "# CUDA?\n",
        "cuda = torch.cuda.is_available()\n",
        "print(\"CUDA Available?\", cuda)\n",
        "\n",
        "# For reproducibility\n",
        "torch.manual_seed(SEED)\n",
        "\n",
        "if cuda:\n",
        "    torch.cuda.manual_seed(SEED)\n",
        "\n",
        "# dataloader arguments - something you'll fetch these from cmdprmt\n",
        "dataloader_args = dict(shuffle=True, batch_size=128, num_workers=4, pin_memory=True) if cuda else dict(shuffle=True, batch_size=64)\n",
        "\n",
        "# train dataloader\n",
        "train_loader = torch.utils.data.DataLoader(train, **dataloader_args)\n",
        "\n",
        "# test dataloader\n",
        "test_loader = torch.utils.data.DataLoader(test, **dataloader_args)"
      ],
      "execution_count": 36,
      "outputs": [
        {
          "output_type": "stream",
          "text": [
            "CUDA Available? False\n"
          ],
          "name": "stdout"
        }
      ]
    },
    {
      "cell_type": "code",
      "metadata": {
        "id": "2YY6RxY6GlFp",
        "colab_type": "code",
        "colab": {}
      },
      "source": [
        "\n",
        "dropout_value = 0.04\n",
        "class Net(nn.Module):\n",
        "    def __init__(self):\n",
        "        super(Net, self).__init__()\n",
        "        # Input Convolution Block\n",
        "        self.convblock1 = nn.Sequential(\n",
        "            nn.Conv2d(in_channels=1, out_channels=10, kernel_size=(3, 3), padding=1, bias=False),\n",
        "            nn.BatchNorm2d(10),\n",
        "            nn.Dropout(dropout_value),\n",
        "            nn.ReLU()\n",
        "        ) # input_side = 28, output_size = 28, RF = 3\n",
        "\n",
        "        # CONVOLUTION BLOCK 1\n",
        "        self.convblock2 = nn.Sequential(\n",
        "            nn.Conv2d(in_channels=10, out_channels=10, kernel_size=(3, 3), padding=1, bias=False),\n",
        "            nn.BatchNorm2d(10),\n",
        "            nn.Dropout(dropout_value),\n",
        "            nn.ReLU()\n",
        "        ) # output_size = 28, RF = 5\n",
        "\n",
        "        # TRANSITION BLOCK 1\n",
        "        self.pool1 = nn.MaxPool2d(2, 2) # output_size = 12, RF = 6\n",
        "\n",
        "        self.convblock3 = nn.Sequential(\n",
        "            nn.Conv2d(in_channels=10, out_channels=10, kernel_size=(3, 3), padding=0, bias=False),\n",
        "            nn.BatchNorm2d(10),\n",
        "            nn.Dropout(dropout_value),\n",
        "            nn.ReLU()\n",
        "        ) # output_size = 12, RF = 10\n",
        "\n",
        "        # CONVOLUTION BLOCK 2\n",
        "        self.convblock4 = nn.Sequential(\n",
        "            nn.Conv2d(in_channels=10, out_channels=10, kernel_size=(3, 3), padding=0, bias=False),\n",
        "            nn.BatchNorm2d(10),\n",
        "            nn.ReLU()\n",
        "        ) # output_size = 10, RF = 14\n",
        "        self.convblock5 = nn.Sequential(\n",
        "            nn.Conv2d(in_channels=10, out_channels=10, kernel_size=(3, 3), padding=0, bias=False),\n",
        "            nn.BatchNorm2d(10),\n",
        "            nn.Dropout(dropout_value),\n",
        "            nn.ReLU()\n",
        "        ) # output_size = 8, RF = 18\n",
        "\n",
        "        self.convblock6 = nn.Sequential(\n",
        "            nn.Conv2d(in_channels=10, out_channels=16, kernel_size=(3, 3), padding=0, bias=False),\n",
        "            nn.BatchNorm2d(16),\n",
        "            nn.Dropout(dropout_value),\n",
        "            nn.ReLU()\n",
        "        ) # output_size = 6, RF = 22\n",
        "\n",
        "        self.convblock7 = nn.Sequential(\n",
        "            nn.Conv2d(in_channels=16, out_channels=16, kernel_size=(3, 3), padding=0, bias=False),\n",
        "            nn.BatchNorm2d(16),\n",
        "            nn.Dropout(dropout_value),\n",
        "            nn.ReLU()\n",
        "        ) # output_size = 4, RF = 26\n",
        "\n",
        "        # OUTPUT BLOCK\n",
        "        self.gap = nn.AvgPool2d(kernel_size=(4,4)) \n",
        "\n",
        "        self.convblock8 = nn.Sequential(\n",
        "            nn.Conv2d(in_channels=16, out_channels=10, kernel_size=(1, 1), padding=0, bias=False),\n",
        "            # nn.ReLU() NEVER!\n",
        "        ) # output_size = 1, RF = 26\n",
        "\n",
        "    def forward(self, x):\n",
        "        x = self.convblock1(x)\n",
        "        x = self.convblock2(x)\n",
        "        x = self.pool1(x)\n",
        "        x = self.convblock3(x)\n",
        "        x = self.convblock4(x)\n",
        "        x = self.convblock5(x)\n",
        "        x = self.convblock6(x)\n",
        "        x = self.convblock7(x)\n",
        "        x = self.gap(x)\n",
        "        x = self.convblock8(x)\n",
        "        x = x.view(-1, 10)\n",
        "        return F.log_softmax(x, dim=-1)"
      ],
      "execution_count": 0,
      "outputs": []
    },
    {
      "cell_type": "code",
      "metadata": {
        "id": "UG2iWjUGGDqY",
        "colab_type": "code",
        "colab": {}
      },
      "source": [
        "# import torch.nn.functional as F\n",
        "# dropout_value = 0.1\n",
        "# class Net(nn.Module):\n",
        "#     def __init__(self):\n",
        "#         super(Net, self).__init__()\n",
        "#         # Input Block\n",
        "#         self.convblock1 = nn.Sequential(\n",
        "#             nn.Conv2d(in_channels=1, out_channels=10, kernel_size=(3, 3), padding=1, bias=False),\n",
        "#             nn.ReLU(),\n",
        "#             nn.BatchNorm2d(10),\n",
        "#             nn.Dropout(dropout_value)\n",
        "#         ) # output_size = 26, RF=3\n",
        "\n",
        "#         # CONVOLUTION BLOCK 1\n",
        "#         self.convblock2 = nn.Sequential(\n",
        "#             nn.Conv2d(in_channels=10, out_channels=20, kernel_size=(3, 3), padding=1, bias=False),\n",
        "#             nn.ReLU(),\n",
        "#             nn.BatchNorm2d(20),\n",
        "#             nn.Dropout(dropout_value)\n",
        "#         ) # output_size = 24, RF=5\n",
        "\n",
        "#         # TRANSITION BLOCK 1\n",
        "#         self.convblock3 = nn.Sequential(\n",
        "#             nn.Conv2d(in_channels=20, out_channels=10, kernel_size=(1, 1), padding=0, bias=False),\n",
        "#         ) # output_size = 24\n",
        "#         self.pool1 = nn.MaxPool2d(2, 2) # output_size = 12, RF=5, step=2\n",
        "\n",
        "#         # CONVOLUTION BLOCK 2\n",
        "#         self.convblock4 = nn.Sequential(\n",
        "#             nn.Conv2d(in_channels=10, out_channels=20, kernel_size=(3, 3), padding=0, bias=False),\n",
        "#             nn.ReLU(),            \n",
        "#             nn.BatchNorm2d(20),\n",
        "#             nn.Dropout(dropout_value)\n",
        "#         ) # output_size = 12, RF=9, step=2\n",
        "#         self.convblock5 = nn.Sequential(\n",
        "#             nn.Conv2d(in_channels=20, out_channels=32, kernel_size=(3, 3), padding=0, bias=False),\n",
        "#             nn.ReLU(),            \n",
        "#             nn.BatchNorm2d(32),\n",
        "#             nn.Dropout(dropout_value)\n",
        "#         ) # output_size = 6, RF=13, step=2\n",
        "#         # self.convblock6 = nn.Sequential(\n",
        "#         #     nn.Conv2d(in_channels=32, out_channels=16, kernel_size=(3, 3), padding=0, bias=False),\n",
        "#         #     nn.ReLU(),            \n",
        "#         #     nn.BatchNorm2d(16),\n",
        "#         #     nn.Dropout(dropout_value)\n",
        "#         # ) # output_size = 6\n",
        "#         # self.convblock7 = nn.Sequential(\n",
        "#         #     nn.Conv2d(in_channels=16, out_channels=16, kernel_size=(3, 3), padding=1, bias=False),\n",
        "#         #     nn.ReLU(),            \n",
        "#         #     nn.BatchNorm2d(16),\n",
        "#         #     nn.Dropout(dropout_value)\n",
        "#         # ) # output_size = 6\n",
        "        \n",
        "#         # OUTPUT BLOCK\n",
        "#         self.gap = nn.Sequential(\n",
        "#             nn.AvgPool2d(kernel_size=6)\n",
        "#         ) # output_size = 1, RF= 23, step=2\n",
        "\n",
        "#         self.convblock8 = nn.Sequential(\n",
        "#             nn.Conv2d(in_channels=32, out_channels=10, kernel_size=(1, 1), padding=0, bias=False),\n",
        "#             # nn.BatchNorm2d(10),\n",
        "#             # nn.ReLU(),\n",
        "#             # nn.Dropout(dropout_value)\n",
        "#         ) \n",
        "\n",
        "\n",
        "#         self.dropout = nn.Dropout(dropout_value)\n",
        "\n",
        "#     def forward(self, x):\n",
        "#         x = self.convblock1(x)\n",
        "#         x = self.convblock2(x)\n",
        "#         x = self.convblock3(x)\n",
        "#         x = self.pool1(x)\n",
        "#         x = self.convblock4(x)\n",
        "#         x = self.convblock5(x)\n",
        "#         # x = self.convblock6(x)\n",
        "#         # x = self.convblock7(x)\n",
        "#         x = self.gap(x)        \n",
        "#         x = self.convblock8(x)\n",
        "\n",
        "#         x = x.view(-1, 10)\n",
        "#         return F.log_softmax(x, dim=-1)"
      ],
      "execution_count": 0,
      "outputs": []
    },
    {
      "cell_type": "code",
      "metadata": {
        "id": "3xWEA4tUGDtf",
        "colab_type": "code",
        "outputId": "f330fccb-61eb-4c8c-f7d4-ffc5a44ffc97",
        "colab": {
          "base_uri": "https://localhost:8080/",
          "height": 782
        }
      },
      "source": [
        "!pip install torchsummary\n",
        "from torchsummary import summary\n",
        "use_cuda = torch.cuda.is_available()\n",
        "device = torch.device(\"cuda\" if use_cuda else \"cpu\")\n",
        "print(device)\n",
        "model = Net().to(device)\n",
        "summary(model, input_size=(1, 28, 28))"
      ],
      "execution_count": 38,
      "outputs": [
        {
          "output_type": "stream",
          "text": [
            "Requirement already satisfied: torchsummary in /usr/local/lib/python3.6/dist-packages (1.5.1)\n",
            "cpu\n",
            "----------------------------------------------------------------\n",
            "        Layer (type)               Output Shape         Param #\n",
            "================================================================\n",
            "            Conv2d-1           [-1, 10, 28, 28]              90\n",
            "       BatchNorm2d-2           [-1, 10, 28, 28]              20\n",
            "           Dropout-3           [-1, 10, 28, 28]               0\n",
            "              ReLU-4           [-1, 10, 28, 28]               0\n",
            "            Conv2d-5           [-1, 10, 28, 28]             900\n",
            "       BatchNorm2d-6           [-1, 10, 28, 28]              20\n",
            "           Dropout-7           [-1, 10, 28, 28]               0\n",
            "              ReLU-8           [-1, 10, 28, 28]               0\n",
            "         MaxPool2d-9           [-1, 10, 14, 14]               0\n",
            "           Conv2d-10           [-1, 10, 12, 12]             900\n",
            "      BatchNorm2d-11           [-1, 10, 12, 12]              20\n",
            "          Dropout-12           [-1, 10, 12, 12]               0\n",
            "             ReLU-13           [-1, 10, 12, 12]               0\n",
            "           Conv2d-14           [-1, 10, 10, 10]             900\n",
            "      BatchNorm2d-15           [-1, 10, 10, 10]              20\n",
            "             ReLU-16           [-1, 10, 10, 10]               0\n",
            "           Conv2d-17             [-1, 10, 8, 8]             900\n",
            "      BatchNorm2d-18             [-1, 10, 8, 8]              20\n",
            "          Dropout-19             [-1, 10, 8, 8]               0\n",
            "             ReLU-20             [-1, 10, 8, 8]               0\n",
            "           Conv2d-21             [-1, 16, 6, 6]           1,440\n",
            "      BatchNorm2d-22             [-1, 16, 6, 6]              32\n",
            "          Dropout-23             [-1, 16, 6, 6]               0\n",
            "             ReLU-24             [-1, 16, 6, 6]               0\n",
            "           Conv2d-25             [-1, 16, 4, 4]           2,304\n",
            "      BatchNorm2d-26             [-1, 16, 4, 4]              32\n",
            "          Dropout-27             [-1, 16, 4, 4]               0\n",
            "             ReLU-28             [-1, 16, 4, 4]               0\n",
            "        AvgPool2d-29             [-1, 16, 1, 1]               0\n",
            "           Conv2d-30             [-1, 10, 1, 1]             160\n",
            "================================================================\n",
            "Total params: 7,758\n",
            "Trainable params: 7,758\n",
            "Non-trainable params: 0\n",
            "----------------------------------------------------------------\n",
            "Input size (MB): 0.00\n",
            "Forward/backward pass size (MB): 0.61\n",
            "Params size (MB): 0.03\n",
            "Estimated Total Size (MB): 0.64\n",
            "----------------------------------------------------------------\n"
          ],
          "name": "stdout"
        }
      ]
    },
    {
      "cell_type": "code",
      "metadata": {
        "id": "MyYmGhK7GDwj",
        "colab_type": "code",
        "colab": {}
      },
      "source": [
        "# from tqdm import tqdm\n",
        "\n",
        "# train_losses = []\n",
        "# test_losses = []\n",
        "# train_acc = []\n",
        "# test_acc = []\n",
        "\n",
        "# def train(model, device, train_loader, optimizer, epoch):\n",
        "#   model.train()\n",
        "#   pbar = tqdm(train_loader)\n",
        "#   correct = 0\n",
        "#   processed = 0\n",
        "#   for batch_idx, (data, target) in enumerate(pbar):\n",
        "#     # get samples\n",
        "#     data, target = data.to(device), target.to(device)\n",
        "\n",
        "#     # Init\n",
        "#     optimizer.zero_grad()\n",
        "#     # In PyTorch, we need to set the gradients to zero before starting to do backpropragation because PyTorch accumulates the gradients on subsequent backward passes. \n",
        "#     # Because of this, when you start your training loop, ideally you should zero out the gradients so that you do the parameter update correctly.\n",
        "\n",
        "#     # Predict\n",
        "#     y_pred = model(data)\n",
        "\n",
        "#     # Calculate loss\n",
        "#     loss = F.nll_loss(y_pred, target)\n",
        "#     train_losses.append(loss)\n",
        "\n",
        "#     # Backpropagation\n",
        "#     loss.backward()\n",
        "#     optimizer.step()\n",
        "\n",
        "#     # Update pbar-tqdm\n",
        "    \n",
        "#     pred = y_pred.argmax(dim=1, keepdim=True)  # get the index of the max log-probability\n",
        "#     correct += pred.eq(target.view_as(pred)).sum().item()\n",
        "#     processed += len(data)\n",
        "\n",
        "#     # print('\\nTrain set: Average loss: {:.4f}, Accuracy: {}/{} ({:.2f}%)\\n'.format(\n",
        "#     #     loss, correct, len(train_loader.dataset),\n",
        "#     #     100. * correct / len(train_loader.dataset)))\n",
        "    \n",
        "\n",
        "#     pbar.set_description(desc= f'Loss={loss.item()} Batch_id={batch_idx} Accuracy={100*correct/processed:0.2f}')\n",
        "#     train_acc.append(100*correct/processed)\n",
        "\n",
        "# def test(model, device, test_loader):\n",
        "#     model.eval()\n",
        "#     test_loss = 0\n",
        "#     correct = 0\n",
        "#     with torch.no_grad():\n",
        "#         for data, target in test_loader:\n",
        "#             data, target = data.to(device), target.to(device)\n",
        "#             output = model(data)\n",
        "#             test_loss += F.nll_loss(output, target, reduction='sum').item()  # sum up batch loss\n",
        "#             pred = output.argmax(dim=1, keepdim=True)  # get the index of the max log-probability\n",
        "#             correct += pred.eq(target.view_as(pred)).sum().item()\n",
        "\n",
        "#     test_loss /= len(test_loader.dataset)\n",
        "#     test_losses.append(test_loss)\n",
        "\n",
        "#     print('\\nTest set: Average loss: {:.4f}, Accuracy: {}/{} ({:.2f}%)\\n'.format(\n",
        "#         test_loss, correct, len(test_loader.dataset),\n",
        "#         100. * correct / len(test_loader.dataset)))\n",
        "    \n",
        "#     test_acc.append(100. * correct / len(test_loader.dataset))"
      ],
      "execution_count": 0,
      "outputs": []
    },
    {
      "cell_type": "code",
      "metadata": {
        "id": "mTR1vPvdNBhS",
        "colab_type": "code",
        "colab": {}
      },
      "source": [
        "from tqdm import tqdm\n",
        "\n",
        "train_losses = [[],[],[],[]]\n",
        "train_acc = [[],[],[],[]]\n",
        "test_losses = [[],[],[],[]]\n",
        "test_acc = [[],[],[],[]]\n",
        "\n",
        "def train(model, device, train_loader, optimizer, epoch, L1_weight_decay=0, select_list=0):\n",
        "  model.train()\n",
        "  pbar = tqdm(train_loader)\n",
        "  correct = 0\n",
        "  processed = 0\n",
        "  for batch_idx, (data, target) in enumerate(pbar):\n",
        "    # get samples\n",
        "    data, target = data.to(device), target.to(device)\n",
        "\n",
        "    # Init\n",
        "    optimizer.zero_grad()\n",
        "    # In PyTorch, we need to set the gradients to zero before starting to do backpropragation because PyTorch accumulates the gradients on subsequent backward passes. \n",
        "    # Because of this, when you start your training loop, ideally you should zero out the gradients so that you do the parameter update correctly.\n",
        "\n",
        "    # Predict\n",
        "    y_pred = model(data)\n",
        "\n",
        "    # Calculate loss\n",
        "    loss = F.nll_loss(y_pred, target)\n",
        "\n",
        "    # L1 loss - if required\n",
        "    if L1_weight_decay:\n",
        "        l1_crit = nn.L1Loss(size_average=False)\n",
        "        reg_loss = 0\n",
        "        for param in model.parameters():\n",
        "            # https://pytorch.org/docs/stable/tensors.html#torch.Tensor.norm\n",
        "            # reg_loss += param.norm(p=1) # can be viable alternative, but have to experiment\n",
        "        # below is not memory efficient as it will create new vector everytime\n",
        "            zero_vector = torch.rand_like(param) * 0\n",
        "            reg_loss += l1_crit(param, zero_vector)        \n",
        "        loss += L1_weight_decay * reg_loss  # add L1 norm regularizer \n",
        "    train_losses[select_list].append(loss)\n",
        "\n",
        "\n",
        "    # Backpropagation\n",
        "    loss.backward()\n",
        "    optimizer.step()\n",
        "\n",
        "    # Update pbar-tqdm\n",
        "    \n",
        "    pred = y_pred.argmax(dim=1, keepdim=True)  # get the index of the max log-probability\n",
        "    correct += pred.eq(target.view_as(pred)).sum().item()\n",
        "    processed += len(data)\n",
        "\n",
        "    pbar.set_description(desc= f'Loss={loss.item()} Batch_id={batch_idx} Accuracy={100*correct/processed:0.2f}')\n",
        "    train_acc[select_list].append(100*correct/processed)\n",
        "\n",
        "def test(model, device, test_loader, select_list=0):\n",
        "    model.eval()\n",
        "    test_loss = 0\n",
        "    correct = 0\n",
        "    with torch.no_grad():\n",
        "        for data, target in test_loader:\n",
        "            data, target = data.to(device), target.to(device)\n",
        "            output = model(data)\n",
        "            test_loss += F.nll_loss(output, target, reduction='sum').item()  # sum up batch loss\n",
        "            pred = output.argmax(dim=1, keepdim=True)  # get the index of the max log-probability\n",
        "            correct += pred.eq(target.view_as(pred)).sum().item()\n",
        "\n",
        "    test_loss /= len(test_loader.dataset)\n",
        "    test_losses[select_list].append(test_loss)\n",
        "\n",
        "    print('\\nTest set: Average loss: {:.4f}, Accuracy: {}/{} ({:.2f}%)\\n'.format(\n",
        "        test_loss, correct, len(test_loader.dataset),\n",
        "        100. * correct / len(test_loader.dataset)))\n",
        "    \n",
        "    test_acc[select_list].append(100. * correct / len(test_loader.dataset))"
      ],
      "execution_count": 0,
      "outputs": []
    },
    {
      "cell_type": "code",
      "metadata": {
        "id": "7NOI17KFNETq",
        "colab_type": "code",
        "colab": {}
      },
      "source": [
        "# summarize history for accuracy\n",
        "def plot_history(lists, labels, title=None, xlabel='epochs', ylabel=None, save=False):\n",
        "    '''\n",
        "    Take list of sequences and their respective label and plot them\n",
        "    '''\n",
        "    if title:\n",
        "        plt.title(title)\n",
        "    if xlabel:\n",
        "        plt.xlabel(xlabel)\n",
        "    if ylabel:\n",
        "        plt.ylabel(ylabel)\n",
        "    for vals, label in zip(lists, labels):\n",
        "        plt.plot(vals, label=label)\n",
        "    plt.legend(loc='best')\n",
        "    if save:\n",
        "        if title:\n",
        "            plt.savefig(title)\n",
        "            print('Fig Saved')\n",
        "        else:\n",
        "            print('Unable to save plot')\n",
        "    plt.show()\n",
        "\n",
        "\n",
        "labels = ['Without L1 or L2', 'Only L1 Reg', 'Only L2 Reg', 'Both L1 and L2']"
      ],
      "execution_count": 0,
      "outputs": []
    },
    {
      "cell_type": "code",
      "metadata": {
        "id": "Dx9Kxo9VNGlT",
        "colab_type": "code",
        "colab": {}
      },
      "source": [
        "def mis_classfied(model, test_loader, num=25):  \n",
        "    misclassified_images = torch.rand(25,28,28) * 0\n",
        "    ground_truth = torch.rand(25,1)*0\n",
        "    predicted = torch.rand(25,1)*0\n",
        "    num_false_images = 0\n",
        "\n",
        "    model.eval()\n",
        "    device = torch.device(\"cuda\" if use_cuda else \"cpu\")\n",
        "\n",
        "    with torch.no_grad():\n",
        "        for data, target in test_loader:\n",
        "            data, target = data.to(device), target.to(device)\n",
        "            output = model(data)\n",
        "            pred = output.argmax(dim=1, keepdim=True)  # get the index of the max log-probability\n",
        "            false_picker = torch.flatten(pred)-target\n",
        "            index = 0\n",
        "            for val in false_picker:\n",
        "                if (val != 0):\n",
        "                    misclassified_images[num_false_images] = data[index, 0, :, :]\n",
        "                    ground_truth[num_false_images] = target[index]\n",
        "                    predicted[num_false_images] = pred[index]\n",
        "                    num_false_images = num_false_images + 1\n",
        "                    if (num_false_images >= 25): \n",
        "                        break\n",
        "\n",
        "                index = index + 1\n",
        "               \n",
        "            if (num_false_images >= num):\n",
        "                  break\n",
        "    return misclassified_images, ground_truth, predicted"
      ],
      "execution_count": 0,
      "outputs": []
    },
    {
      "cell_type": "code",
      "metadata": {
        "id": "9LbfrzH1NGn3",
        "colab_type": "code",
        "colab": {}
      },
      "source": [
        "def plot_misclassified(misclassified_images, ground_truth, predicted, title=''):\n",
        "    num_img_rows = 5\n",
        "    num_img_cols = 5\n",
        "\n",
        "    fig = plt.figure()\n",
        "    fig.set_figheight(10)\n",
        "    fig.set_figwidth(10)\n",
        "    fig.suptitle(title) #super title\n",
        "\n",
        "    for i in range(25):\n",
        "        plt.subplot(5,5,i+1)\n",
        "        # plt.tight_layout()\n",
        "        plt.imshow(misclassified_images[i,:,:], cmap='gray', interpolation='none')\n",
        "        plt.title(\"Actual:{},Pred:{}\".format(ground_truth[i].numpy(), predicted[i].numpy()))\n",
        "        plt.xticks([])\n",
        "        plt.yticks([])"
      ],
      "execution_count": 0,
      "outputs": []
    },
    {
      "cell_type": "code",
      "metadata": {
        "id": "yIB-BgMXNKP7",
        "colab_type": "code",
        "colab": {}
      },
      "source": [
        "# EPOCHS = 40\n",
        "# L2_weight_decay = 0.0005\n",
        "\n",
        "def run_epochs(EPOCHS=40, L1_weight_decay=0, L2_weight_decay=0, select_list=0):\n",
        "    model =  Net().to(device)\n",
        "\n",
        "    for epoch in range(EPOCHS):\n",
        "        print(\"EPOCH:\", epoch)\n",
        "        if epoch < 10:\n",
        "            print('Learning rate :',0.03)\n",
        "            optimizer = optim.SGD(model.parameters(), lr=0.03, momentum=0.9, weight_decay=L2_weight_decay)\n",
        "        elif epoch < 25:\n",
        "            print('Learning rate :',0.003)\n",
        "            optimizer = optim.SGD(model.parameters(), lr=0.003, momentum=0.9, weight_decay=L2_weight_decay)\n",
        "        else:\n",
        "            print('Learning rate :',0.0003)\n",
        "            optimizer = optim.SGD(model.parameters(), lr=0.0003, momentum=0.9, weight_decay=L2_weight_decay)\n",
        "\n",
        "        train(model, device, train_loader, optimizer, epoch, L1_weight_decay=0, select_list=select_list)  # quick fix\n",
        "        test(model, device, test_loader, select_list=select_list) # quick fix\n",
        "    return model"
      ],
      "execution_count": 0,
      "outputs": []
    },
    {
      "cell_type": "code",
      "metadata": {
        "id": "AHL6KBVjNKSb",
        "colab_type": "code",
        "outputId": "6877cacd-3eae-4b78-a81b-d11c780cdc08",
        "colab": {
          "base_uri": "https://localhost:8080/",
          "height": 1000
        }
      },
      "source": [
        "\n",
        "# No L1 or L2\n",
        "model = run_epochs()"
      ],
      "execution_count": 0,
      "outputs": [
        {
          "output_type": "stream",
          "text": [
            "Loss=2.3505678176879883 Batch_id=0 Accuracy=9.38:   0%|          | 1/938 [00:00<01:55,  8.15it/s]"
          ],
          "name": "stderr"
        },
        {
          "output_type": "stream",
          "text": [
            "EPOCH: 0\n",
            "Learning rate : 0.03\n"
          ],
          "name": "stdout"
        },
        {
          "output_type": "stream",
          "text": [
            "Loss=0.02517308108508587 Batch_id=937 Accuracy=93.68: 100%|██████████| 938/938 [01:33<00:00, 10.01it/s]\n",
            "Loss=0.043057795614004135 Batch_id=1 Accuracy=98.44:   0%|          | 2/938 [00:00<01:31, 10.26it/s]"
          ],
          "name": "stderr"
        },
        {
          "output_type": "stream",
          "text": [
            "\n",
            "Test set: Average loss: 0.0464, Accuracy: 9842/10000 (98.42%)\n",
            "\n",
            "EPOCH: 1\n",
            "Learning rate : 0.03\n"
          ],
          "name": "stdout"
        },
        {
          "output_type": "stream",
          "text": [
            "Loss=0.009120987728238106 Batch_id=937 Accuracy=97.98: 100%|██████████| 938/938 [01:34<00:00,  9.92it/s]\n",
            "Loss=0.03542046993970871 Batch_id=0 Accuracy=98.44:   0%|          | 1/938 [00:00<01:41,  9.24it/s]"
          ],
          "name": "stderr"
        },
        {
          "output_type": "stream",
          "text": [
            "\n",
            "Test set: Average loss: 0.0458, Accuracy: 9852/10000 (98.52%)\n",
            "\n",
            "EPOCH: 2\n",
            "Learning rate : 0.03\n"
          ],
          "name": "stdout"
        },
        {
          "output_type": "stream",
          "text": [
            "Loss=0.008493755012750626 Batch_id=937 Accuracy=98.24: 100%|██████████| 938/938 [01:34<00:00, 10.60it/s]\n",
            "Loss=0.016490323469042778 Batch_id=0 Accuracy=100.00:   0%|          | 1/938 [00:00<01:34,  9.96it/s]"
          ],
          "name": "stderr"
        },
        {
          "output_type": "stream",
          "text": [
            "\n",
            "Test set: Average loss: 0.0329, Accuracy: 9898/10000 (98.98%)\n",
            "\n",
            "EPOCH: 3\n",
            "Learning rate : 0.03\n"
          ],
          "name": "stdout"
        },
        {
          "output_type": "stream",
          "text": [
            "Loss=0.02412530593574047 Batch_id=937 Accuracy=98.44: 100%|██████████| 938/938 [01:34<00:00,  9.94it/s]\n",
            "Loss=0.073514424264431 Batch_id=1 Accuracy=98.44:   0%|          | 1/938 [00:00<01:35,  9.83it/s]   "
          ],
          "name": "stderr"
        },
        {
          "output_type": "stream",
          "text": [
            "\n",
            "Test set: Average loss: 0.0260, Accuracy: 9911/10000 (99.11%)\n",
            "\n",
            "EPOCH: 4\n",
            "Learning rate : 0.03\n"
          ],
          "name": "stdout"
        },
        {
          "output_type": "stream",
          "text": [
            "Loss=0.0026757039595395327 Batch_id=937 Accuracy=98.64: 100%|██████████| 938/938 [01:34<00:00,  9.92it/s]\n",
            "Loss=0.003797139972448349 Batch_id=0 Accuracy=100.00:   0%|          | 1/938 [00:00<01:38,  9.47it/s]"
          ],
          "name": "stderr"
        },
        {
          "output_type": "stream",
          "text": [
            "\n",
            "Test set: Average loss: 0.0233, Accuracy: 9929/10000 (99.29%)\n",
            "\n",
            "EPOCH: 5\n",
            "Learning rate : 0.03\n"
          ],
          "name": "stdout"
        },
        {
          "output_type": "stream",
          "text": [
            "Loss=0.2918512225151062 Batch_id=937 Accuracy=98.70: 100%|██████████| 938/938 [01:35<00:00,  9.82it/s]\n",
            "Loss=0.002229457488283515 Batch_id=0 Accuracy=100.00:   0%|          | 1/938 [00:00<01:43,  9.09it/s]"
          ],
          "name": "stderr"
        },
        {
          "output_type": "stream",
          "text": [
            "\n",
            "Test set: Average loss: 0.0191, Accuracy: 9940/10000 (99.40%)\n",
            "\n",
            "EPOCH: 6\n",
            "Learning rate : 0.03\n"
          ],
          "name": "stdout"
        },
        {
          "output_type": "stream",
          "text": [
            "Loss=0.003140363609418273 Batch_id=937 Accuracy=98.80: 100%|██████████| 938/938 [01:35<00:00,  9.85it/s]\n",
            "Loss=0.015866266563534737 Batch_id=1 Accuracy=100.00:   0%|          | 1/938 [00:00<01:36,  9.76it/s]"
          ],
          "name": "stderr"
        },
        {
          "output_type": "stream",
          "text": [
            "\n",
            "Test set: Average loss: 0.0239, Accuracy: 9922/10000 (99.22%)\n",
            "\n",
            "EPOCH: 7\n",
            "Learning rate : 0.03\n"
          ],
          "name": "stdout"
        },
        {
          "output_type": "stream",
          "text": [
            "Loss=0.00911177508533001 Batch_id=937 Accuracy=98.94: 100%|██████████| 938/938 [01:35<00:00,  9.85it/s]\n",
            "Loss=0.0014125372981652617 Batch_id=0 Accuracy=100.00:   0%|          | 1/938 [00:00<01:37,  9.61it/s]"
          ],
          "name": "stderr"
        },
        {
          "output_type": "stream",
          "text": [
            "\n",
            "Test set: Average loss: 0.0205, Accuracy: 9934/10000 (99.34%)\n",
            "\n",
            "EPOCH: 8\n",
            "Learning rate : 0.03\n"
          ],
          "name": "stdout"
        },
        {
          "output_type": "stream",
          "text": [
            "Loss=0.0028715182561427355 Batch_id=937 Accuracy=98.86: 100%|██████████| 938/938 [01:34<00:00,  9.93it/s]\n",
            "Loss=0.019437864422798157 Batch_id=0 Accuracy=100.00:   0%|          | 1/938 [00:00<01:38,  9.56it/s]"
          ],
          "name": "stderr"
        },
        {
          "output_type": "stream",
          "text": [
            "\n",
            "Test set: Average loss: 0.0234, Accuracy: 9930/10000 (99.30%)\n",
            "\n",
            "EPOCH: 9\n",
            "Learning rate : 0.03\n"
          ],
          "name": "stdout"
        },
        {
          "output_type": "stream",
          "text": [
            "Loss=0.02235347405076027 Batch_id=937 Accuracy=98.94: 100%|██████████| 938/938 [01:32<00:00, 10.13it/s]\n",
            "Loss=0.02960946224629879 Batch_id=1 Accuracy=98.44:   0%|          | 2/938 [00:00<01:27, 10.72it/s]"
          ],
          "name": "stderr"
        },
        {
          "output_type": "stream",
          "text": [
            "\n",
            "Test set: Average loss: 0.0200, Accuracy: 9934/10000 (99.34%)\n",
            "\n",
            "EPOCH: 10\n",
            "Learning rate : 0.003\n"
          ],
          "name": "stdout"
        },
        {
          "output_type": "stream",
          "text": [
            "Loss=0.10256300866603851 Batch_id=937 Accuracy=99.20: 100%|██████████| 938/938 [01:37<00:00, 10.64it/s]\n",
            "Loss=0.009310315363109112 Batch_id=1 Accuracy=98.44:   0%|          | 2/938 [00:00<01:30, 10.36it/s]"
          ],
          "name": "stderr"
        },
        {
          "output_type": "stream",
          "text": [
            "\n",
            "Test set: Average loss: 0.0163, Accuracy: 9945/10000 (99.45%)\n",
            "\n",
            "EPOCH: 11\n",
            "Learning rate : 0.003\n"
          ],
          "name": "stdout"
        },
        {
          "output_type": "stream",
          "text": [
            "Loss=0.013642320409417152 Batch_id=937 Accuracy=99.18: 100%|██████████| 938/938 [01:36<00:00,  9.75it/s]\n",
            "Loss=0.0032224718015640974 Batch_id=0 Accuracy=100.00:   0%|          | 1/938 [00:00<01:49,  8.52it/s]"
          ],
          "name": "stderr"
        },
        {
          "output_type": "stream",
          "text": [
            "\n",
            "Test set: Average loss: 0.0150, Accuracy: 9947/10000 (99.47%)\n",
            "\n",
            "EPOCH: 12\n",
            "Learning rate : 0.003\n"
          ],
          "name": "stdout"
        },
        {
          "output_type": "stream",
          "text": [
            "Loss=0.17142514884471893 Batch_id=937 Accuracy=99.28: 100%|██████████| 938/938 [01:34<00:00,  9.92it/s]\n",
            "Loss=0.001753029297105968 Batch_id=1 Accuracy=100.00:   0%|          | 1/938 [00:00<01:34,  9.96it/s]"
          ],
          "name": "stderr"
        },
        {
          "output_type": "stream",
          "text": [
            "\n",
            "Test set: Average loss: 0.0149, Accuracy: 9947/10000 (99.47%)\n",
            "\n",
            "EPOCH: 13\n",
            "Learning rate : 0.003\n"
          ],
          "name": "stdout"
        },
        {
          "output_type": "stream",
          "text": [
            "Loss=0.006573658902198076 Batch_id=937 Accuracy=99.32: 100%|██████████| 938/938 [01:33<00:00, 11.15it/s]\n",
            "Loss=0.03157837316393852 Batch_id=1 Accuracy=100.00:   0%|          | 2/938 [00:00<01:27, 10.66it/s]"
          ],
          "name": "stderr"
        },
        {
          "output_type": "stream",
          "text": [
            "\n",
            "Test set: Average loss: 0.0147, Accuracy: 9948/10000 (99.48%)\n",
            "\n",
            "EPOCH: 14\n",
            "Learning rate : 0.003\n"
          ],
          "name": "stdout"
        },
        {
          "output_type": "stream",
          "text": [
            "Loss=0.31973502039909363 Batch_id=937 Accuracy=99.32: 100%|██████████| 938/938 [01:33<00:00, 10.00it/s]\n",
            "Loss=0.04024681821465492 Batch_id=0 Accuracy=96.88:   0%|          | 1/938 [00:00<01:37,  9.57it/s]"
          ],
          "name": "stderr"
        },
        {
          "output_type": "stream",
          "text": [
            "\n",
            "Test set: Average loss: 0.0144, Accuracy: 9948/10000 (99.48%)\n",
            "\n",
            "EPOCH: 15\n",
            "Learning rate : 0.003\n"
          ],
          "name": "stdout"
        },
        {
          "output_type": "stream",
          "text": [
            "Loss=0.0033372375182807446 Batch_id=937 Accuracy=99.30: 100%|██████████| 938/938 [01:34<00:00, 11.10it/s]\n",
            "Loss=0.0225546732544899 Batch_id=1 Accuracy=97.66:   0%|          | 2/938 [00:00<01:27, 10.65it/s]"
          ],
          "name": "stderr"
        },
        {
          "output_type": "stream",
          "text": [
            "\n",
            "Test set: Average loss: 0.0153, Accuracy: 9946/10000 (99.46%)\n",
            "\n",
            "EPOCH: 16\n",
            "Learning rate : 0.003\n"
          ],
          "name": "stdout"
        },
        {
          "output_type": "stream",
          "text": [
            "Loss=0.053173623979091644 Batch_id=937 Accuracy=99.33: 100%|██████████| 938/938 [01:36<00:00, 10.98it/s]\n",
            "Loss=0.01287767756730318 Batch_id=1 Accuracy=100.00:   0%|          | 1/938 [00:00<01:35,  9.84it/s]  "
          ],
          "name": "stderr"
        },
        {
          "output_type": "stream",
          "text": [
            "\n",
            "Test set: Average loss: 0.0147, Accuracy: 9945/10000 (99.45%)\n",
            "\n",
            "EPOCH: 17\n",
            "Learning rate : 0.003\n"
          ],
          "name": "stdout"
        },
        {
          "output_type": "stream",
          "text": [
            "Loss=0.009646359831094742 Batch_id=937 Accuracy=99.28: 100%|██████████| 938/938 [01:33<00:00,  9.99it/s]\n",
            "Loss=0.0028107864782214165 Batch_id=0 Accuracy=100.00:   0%|          | 1/938 [00:00<01:35,  9.82it/s]"
          ],
          "name": "stderr"
        },
        {
          "output_type": "stream",
          "text": [
            "\n",
            "Test set: Average loss: 0.0138, Accuracy: 9954/10000 (99.54%)\n",
            "\n",
            "EPOCH: 18\n",
            "Learning rate : 0.003\n"
          ],
          "name": "stdout"
        },
        {
          "output_type": "stream",
          "text": [
            "Loss=0.07154850661754608 Batch_id=937 Accuracy=99.30: 100%|██████████| 938/938 [01:34<00:00, 10.99it/s]\n",
            "Loss=0.0015415129018947482 Batch_id=0 Accuracy=100.00:   0%|          | 1/938 [00:00<01:39,  9.45it/s]"
          ],
          "name": "stderr"
        },
        {
          "output_type": "stream",
          "text": [
            "\n",
            "Test set: Average loss: 0.0146, Accuracy: 9948/10000 (99.48%)\n",
            "\n",
            "EPOCH: 19\n",
            "Learning rate : 0.003\n"
          ],
          "name": "stdout"
        },
        {
          "output_type": "stream",
          "text": [
            "Loss=0.11421487480401993 Batch_id=937 Accuracy=99.34: 100%|██████████| 938/938 [01:34<00:00,  9.95it/s]\n",
            "Loss=0.05371738225221634 Batch_id=0 Accuracy=98.44:   0%|          | 1/938 [00:00<01:45,  8.92it/s]"
          ],
          "name": "stderr"
        },
        {
          "output_type": "stream",
          "text": [
            "\n",
            "Test set: Average loss: 0.0138, Accuracy: 9951/10000 (99.51%)\n",
            "\n",
            "EPOCH: 20\n",
            "Learning rate : 0.003\n"
          ],
          "name": "stdout"
        },
        {
          "output_type": "stream",
          "text": [
            "Loss=0.07680206000804901 Batch_id=937 Accuracy=99.31: 100%|██████████| 938/938 [01:34<00:00,  9.94it/s]\n",
            "Loss=0.02197420597076416 Batch_id=0 Accuracy=98.44:   0%|          | 1/938 [00:00<01:40,  9.35it/s]"
          ],
          "name": "stderr"
        },
        {
          "output_type": "stream",
          "text": [
            "\n",
            "Test set: Average loss: 0.0149, Accuracy: 9946/10000 (99.46%)\n",
            "\n",
            "EPOCH: 21\n",
            "Learning rate : 0.003\n"
          ],
          "name": "stdout"
        },
        {
          "output_type": "stream",
          "text": [
            "Loss=0.0024631298147141933 Batch_id=937 Accuracy=99.34: 100%|██████████| 938/938 [01:34<00:00, 10.78it/s]\n",
            "Loss=0.0048365299589931965 Batch_id=1 Accuracy=99.22:   0%|          | 2/938 [00:00<01:31, 10.28it/s]"
          ],
          "name": "stderr"
        },
        {
          "output_type": "stream",
          "text": [
            "\n",
            "Test set: Average loss: 0.0154, Accuracy: 9947/10000 (99.47%)\n",
            "\n",
            "EPOCH: 22\n",
            "Learning rate : 0.003\n"
          ],
          "name": "stdout"
        },
        {
          "output_type": "stream",
          "text": [
            "Loss=0.005876655224710703 Batch_id=937 Accuracy=99.30: 100%|██████████| 938/938 [01:33<00:00, 10.08it/s]\n",
            "Loss=0.018464509397745132 Batch_id=1 Accuracy=100.00:   0%|          | 2/938 [00:00<01:26, 10.88it/s]"
          ],
          "name": "stderr"
        },
        {
          "output_type": "stream",
          "text": [
            "\n",
            "Test set: Average loss: 0.0142, Accuracy: 9945/10000 (99.45%)\n",
            "\n",
            "EPOCH: 23\n",
            "Learning rate : 0.003\n"
          ],
          "name": "stdout"
        },
        {
          "output_type": "stream",
          "text": [
            "Loss=0.001449784031137824 Batch_id=937 Accuracy=99.33: 100%|██████████| 938/938 [01:37<00:00, 10.68it/s]\n",
            "Loss=0.04383188486099243 Batch_id=0 Accuracy=98.44:   0%|          | 1/938 [00:00<01:33,  9.98it/s]"
          ],
          "name": "stderr"
        },
        {
          "output_type": "stream",
          "text": [
            "\n",
            "Test set: Average loss: 0.0141, Accuracy: 9952/10000 (99.52%)\n",
            "\n",
            "EPOCH: 24\n",
            "Learning rate : 0.003\n"
          ],
          "name": "stdout"
        },
        {
          "output_type": "stream",
          "text": [
            "Loss=0.015401684679090977 Batch_id=937 Accuracy=99.34: 100%|██████████| 938/938 [01:35<00:00,  9.82it/s]\n",
            "Loss=0.016537679359316826 Batch_id=1 Accuracy=99.22:   0%|          | 2/938 [00:00<01:29, 10.45it/s]"
          ],
          "name": "stderr"
        },
        {
          "output_type": "stream",
          "text": [
            "\n",
            "Test set: Average loss: 0.0135, Accuracy: 9950/10000 (99.50%)\n",
            "\n",
            "EPOCH: 25\n",
            "Learning rate : 0.0003\n"
          ],
          "name": "stdout"
        },
        {
          "output_type": "stream",
          "text": [
            "Loss=0.0015518602449446917 Batch_id=937 Accuracy=99.33: 100%|██████████| 938/938 [01:35<00:00,  9.79it/s]\n",
            "Loss=0.06440240889787674 Batch_id=0 Accuracy=95.31:   0%|          | 1/938 [00:00<01:37,  9.62it/s]"
          ],
          "name": "stderr"
        },
        {
          "output_type": "stream",
          "text": [
            "\n",
            "Test set: Average loss: 0.0142, Accuracy: 9945/10000 (99.45%)\n",
            "\n",
            "EPOCH: 26\n",
            "Learning rate : 0.0003\n"
          ],
          "name": "stdout"
        },
        {
          "output_type": "stream",
          "text": [
            "Loss=0.04015525430440903 Batch_id=937 Accuracy=99.36: 100%|██████████| 938/938 [01:34<00:00,  9.95it/s]\n",
            "Loss=0.004789422266185284 Batch_id=1 Accuracy=99.22:   0%|          | 1/938 [00:00<01:36,  9.67it/s]"
          ],
          "name": "stderr"
        },
        {
          "output_type": "stream",
          "text": [
            "\n",
            "Test set: Average loss: 0.0136, Accuracy: 9953/10000 (99.53%)\n",
            "\n",
            "EPOCH: 27\n",
            "Learning rate : 0.0003\n"
          ],
          "name": "stdout"
        },
        {
          "output_type": "stream",
          "text": [
            "Loss=0.005802853964269161 Batch_id=937 Accuracy=99.40: 100%|██████████| 938/938 [01:35<00:00,  9.82it/s]\n",
            "Loss=0.006398696452379227 Batch_id=1 Accuracy=100.00:   0%|          | 1/938 [00:00<01:34,  9.96it/s]"
          ],
          "name": "stderr"
        },
        {
          "output_type": "stream",
          "text": [
            "\n",
            "Test set: Average loss: 0.0135, Accuracy: 9952/10000 (99.52%)\n",
            "\n",
            "EPOCH: 28\n",
            "Learning rate : 0.0003\n"
          ],
          "name": "stdout"
        },
        {
          "output_type": "stream",
          "text": [
            "Loss=0.004761144984513521 Batch_id=937 Accuracy=99.37: 100%|██████████| 938/938 [01:33<00:00,  9.98it/s]\n",
            "Loss=0.011272403411567211 Batch_id=0 Accuracy=100.00:   0%|          | 1/938 [00:00<01:41,  9.20it/s]"
          ],
          "name": "stderr"
        },
        {
          "output_type": "stream",
          "text": [
            "\n",
            "Test set: Average loss: 0.0134, Accuracy: 9945/10000 (99.45%)\n",
            "\n",
            "EPOCH: 29\n",
            "Learning rate : 0.0003\n"
          ],
          "name": "stdout"
        },
        {
          "output_type": "stream",
          "text": [
            "Loss=0.0029098214581608772 Batch_id=937 Accuracy=99.39: 100%|██████████| 938/938 [01:33<00:00, 10.07it/s]\n",
            "Loss=0.003757225116714835 Batch_id=0 Accuracy=100.00:   0%|          | 1/938 [00:00<01:38,  9.48it/s]"
          ],
          "name": "stderr"
        },
        {
          "output_type": "stream",
          "text": [
            "\n",
            "Test set: Average loss: 0.0136, Accuracy: 9950/10000 (99.50%)\n",
            "\n",
            "EPOCH: 30\n",
            "Learning rate : 0.0003\n"
          ],
          "name": "stdout"
        },
        {
          "output_type": "stream",
          "text": [
            "Loss=0.005251748487353325 Batch_id=937 Accuracy=99.38: 100%|██████████| 938/938 [01:36<00:00, 10.37it/s]\n",
            "Loss=0.059150949120521545 Batch_id=0 Accuracy=98.44:   0%|          | 1/938 [00:00<01:33,  9.97it/s]"
          ],
          "name": "stderr"
        },
        {
          "output_type": "stream",
          "text": [
            "\n",
            "Test set: Average loss: 0.0144, Accuracy: 9947/10000 (99.47%)\n",
            "\n",
            "EPOCH: 31\n",
            "Learning rate : 0.0003\n"
          ],
          "name": "stdout"
        },
        {
          "output_type": "stream",
          "text": [
            "Loss=0.000899007951375097 Batch_id=937 Accuracy=99.40: 100%|██████████| 938/938 [01:35<00:00,  9.83it/s]\n",
            "Loss=0.0074062589555978775 Batch_id=0 Accuracy=100.00:   0%|          | 1/938 [00:00<01:41,  9.26it/s]"
          ],
          "name": "stderr"
        },
        {
          "output_type": "stream",
          "text": [
            "\n",
            "Test set: Average loss: 0.0133, Accuracy: 9949/10000 (99.49%)\n",
            "\n",
            "EPOCH: 32\n",
            "Learning rate : 0.0003\n"
          ],
          "name": "stdout"
        },
        {
          "output_type": "stream",
          "text": [
            "Loss=0.007755790837109089 Batch_id=937 Accuracy=99.37: 100%|██████████| 938/938 [01:35<00:00,  9.86it/s]\n",
            "Loss=0.013353089801967144 Batch_id=1 Accuracy=100.00:   0%|          | 2/938 [00:00<01:28, 10.53it/s]"
          ],
          "name": "stderr"
        },
        {
          "output_type": "stream",
          "text": [
            "\n",
            "Test set: Average loss: 0.0134, Accuracy: 9952/10000 (99.52%)\n",
            "\n",
            "EPOCH: 33\n",
            "Learning rate : 0.0003\n"
          ],
          "name": "stdout"
        },
        {
          "output_type": "stream",
          "text": [
            "Loss=0.018600624054670334 Batch_id=937 Accuracy=99.41: 100%|██████████| 938/938 [01:35<00:00, 10.77it/s]\n",
            "Loss=0.001744627021253109 Batch_id=1 Accuracy=99.22:   0%|          | 1/938 [00:00<01:35,  9.86it/s]"
          ],
          "name": "stderr"
        },
        {
          "output_type": "stream",
          "text": [
            "\n",
            "Test set: Average loss: 0.0134, Accuracy: 9952/10000 (99.52%)\n",
            "\n",
            "EPOCH: 34\n",
            "Learning rate : 0.0003\n"
          ],
          "name": "stdout"
        },
        {
          "output_type": "stream",
          "text": [
            "Loss=0.016202658414840698 Batch_id=937 Accuracy=99.40: 100%|██████████| 938/938 [01:34<00:00,  9.88it/s]\n",
            "Loss=0.05885231867432594 Batch_id=0 Accuracy=98.44:   0%|          | 1/938 [00:00<02:21,  6.61it/s]"
          ],
          "name": "stderr"
        },
        {
          "output_type": "stream",
          "text": [
            "\n",
            "Test set: Average loss: 0.0138, Accuracy: 9948/10000 (99.48%)\n",
            "\n",
            "EPOCH: 35\n",
            "Learning rate : 0.0003\n"
          ],
          "name": "stdout"
        },
        {
          "output_type": "stream",
          "text": [
            "Loss=0.023323241621255875 Batch_id=937 Accuracy=99.34: 100%|██████████| 938/938 [01:34<00:00,  9.96it/s]\n",
            "Loss=0.010982813313603401 Batch_id=0 Accuracy=100.00:   0%|          | 1/938 [00:00<01:36,  9.69it/s]"
          ],
          "name": "stderr"
        },
        {
          "output_type": "stream",
          "text": [
            "\n",
            "Test set: Average loss: 0.0134, Accuracy: 9949/10000 (99.49%)\n",
            "\n",
            "EPOCH: 36\n",
            "Learning rate : 0.0003\n"
          ],
          "name": "stdout"
        },
        {
          "output_type": "stream",
          "text": [
            "Loss=0.16911892592906952 Batch_id=937 Accuracy=99.44: 100%|██████████| 938/938 [01:34<00:00,  9.94it/s]\n",
            "Loss=0.0015194768784567714 Batch_id=0 Accuracy=100.00:   0%|          | 1/938 [00:00<01:35,  9.81it/s]"
          ],
          "name": "stderr"
        },
        {
          "output_type": "stream",
          "text": [
            "\n",
            "Test set: Average loss: 0.0143, Accuracy: 9952/10000 (99.52%)\n",
            "\n",
            "EPOCH: 37\n",
            "Learning rate : 0.0003\n"
          ],
          "name": "stdout"
        },
        {
          "output_type": "stream",
          "text": [
            "Loss=0.10705944150686264 Batch_id=937 Accuracy=99.39: 100%|██████████| 938/938 [01:34<00:00,  9.88it/s]\n",
            "Loss=0.004924635402858257 Batch_id=0 Accuracy=100.00:   0%|          | 1/938 [00:00<01:48,  8.60it/s]"
          ],
          "name": "stderr"
        },
        {
          "output_type": "stream",
          "text": [
            "\n",
            "Test set: Average loss: 0.0139, Accuracy: 9949/10000 (99.49%)\n",
            "\n",
            "EPOCH: 38\n",
            "Learning rate : 0.0003\n"
          ],
          "name": "stdout"
        },
        {
          "output_type": "stream",
          "text": [
            "Loss=0.0012186591047793627 Batch_id=937 Accuracy=99.37: 100%|██████████| 938/938 [01:34<00:00,  9.94it/s]\n",
            "Loss=0.006604460999369621 Batch_id=0 Accuracy=100.00:   0%|          | 1/938 [00:00<01:37,  9.60it/s]"
          ],
          "name": "stderr"
        },
        {
          "output_type": "stream",
          "text": [
            "\n",
            "Test set: Average loss: 0.0134, Accuracy: 9951/10000 (99.51%)\n",
            "\n",
            "EPOCH: 39\n",
            "Learning rate : 0.0003\n"
          ],
          "name": "stdout"
        },
        {
          "output_type": "stream",
          "text": [
            "Loss=0.0803697481751442 Batch_id=937 Accuracy=99.38: 100%|██████████| 938/938 [01:35<00:00,  9.86it/s]\n"
          ],
          "name": "stderr"
        },
        {
          "output_type": "stream",
          "text": [
            "\n",
            "Test set: Average loss: 0.0136, Accuracy: 9949/10000 (99.49%)\n",
            "\n"
          ],
          "name": "stdout"
        }
      ]
    },
    {
      "cell_type": "code",
      "metadata": {
        "id": "Utzym3rKNT9v",
        "colab_type": "code",
        "outputId": "8f8e5cdb-98a1-4a11-e297-6829a7960800",
        "colab": {
          "base_uri": "https://localhost:8080/",
          "height": 650
        }
      },
      "source": [
        "plot_misclassified(*mis_classfied(model, test_loader), 'Without L1 or L2 Norm')"
      ],
      "execution_count": 0,
      "outputs": [
        {
          "output_type": "display_data",
          "data": {
            "image/png": "[encoded data removed]",
            "text/plain": [
              "<Figure size 720x720 with 25 Axes>"
            ]
          },
          "metadata": {
            "tags": []
          }
        }
      ]
    },
    {
      "cell_type": "code",
      "metadata": {
        "id": "EpHO2YG2NWyM",
        "colab_type": "code",
        "outputId": "58112595-d7b1-4157-ab1c-3fa0339be474",
        "colab": {
          "base_uri": "https://localhost:8080/",
          "height": 1000
        }
      },
      "source": [
        "\n",
        "# Only L1\n",
        "model = run_epochs(L1_weight_decay=0.0005, select_list=1)"
      ],
      "execution_count": 0,
      "outputs": [
        {
          "output_type": "stream",
          "text": [
            "Loss=2.3415560722351074 Batch_id=0 Accuracy=7.81:   0%|          | 1/938 [00:00<01:52,  8.30it/s]"
          ],
          "name": "stderr"
        },
        {
          "output_type": "stream",
          "text": [
            "EPOCH: 0\n",
            "Learning rate : 0.03\n"
          ],
          "name": "stdout"
        },
        {
          "output_type": "stream",
          "text": [
            "Loss=0.039426956325769424 Batch_id=937 Accuracy=93.00: 100%|██████████| 938/938 [01:32<00:00, 10.12it/s]\n",
            "Loss=0.07476428151130676 Batch_id=0 Accuracy=98.44:   0%|          | 1/938 [00:00<01:36,  9.71it/s]"
          ],
          "name": "stderr"
        },
        {
          "output_type": "stream",
          "text": [
            "\n",
            "Test set: Average loss: 0.0537, Accuracy: 9828/10000 (98.28%)\n",
            "\n",
            "EPOCH: 1\n",
            "Learning rate : 0.03\n"
          ],
          "name": "stdout"
        },
        {
          "output_type": "stream",
          "text": [
            "Loss=0.036056775599718094 Batch_id=937 Accuracy=97.86: 100%|██████████| 938/938 [01:34<00:00,  9.91it/s]\n",
            "Loss=0.03816889226436615 Batch_id=1 Accuracy=99.22:   0%|          | 2/938 [00:00<01:28, 10.60it/s]"
          ],
          "name": "stderr"
        },
        {
          "output_type": "stream",
          "text": [
            "\n",
            "Test set: Average loss: 0.0309, Accuracy: 9903/10000 (99.03%)\n",
            "\n",
            "EPOCH: 2\n",
            "Learning rate : 0.03\n"
          ],
          "name": "stdout"
        },
        {
          "output_type": "stream",
          "text": [
            "Loss=0.011583913117647171 Batch_id=937 Accuracy=98.21: 100%|██████████| 938/938 [01:34<00:00, 10.62it/s]\n",
            "Loss=0.023040752857923508 Batch_id=0 Accuracy=98.44:   0%|          | 1/938 [00:00<01:40,  9.34it/s]"
          ],
          "name": "stderr"
        },
        {
          "output_type": "stream",
          "text": [
            "\n",
            "Test set: Average loss: 0.0274, Accuracy: 9917/10000 (99.17%)\n",
            "\n",
            "EPOCH: 3\n",
            "Learning rate : 0.03\n"
          ],
          "name": "stdout"
        },
        {
          "output_type": "stream",
          "text": [
            "Loss=0.0398704819381237 Batch_id=937 Accuracy=98.41: 100%|██████████| 938/938 [01:33<00:00, 10.00it/s]\n",
            "Loss=0.11866215616464615 Batch_id=0 Accuracy=98.44:   0%|          | 1/938 [00:00<01:37,  9.65it/s]"
          ],
          "name": "stderr"
        },
        {
          "output_type": "stream",
          "text": [
            "\n",
            "Test set: Average loss: 0.0277, Accuracy: 9909/10000 (99.09%)\n",
            "\n",
            "EPOCH: 4\n",
            "Learning rate : 0.03\n"
          ],
          "name": "stdout"
        },
        {
          "output_type": "stream",
          "text": [
            "Loss=0.024600539356470108 Batch_id=937 Accuracy=98.54: 100%|██████████| 938/938 [01:36<00:00,  9.77it/s]\n",
            "Loss=0.15259215235710144 Batch_id=0 Accuracy=95.31:   0%|          | 1/938 [00:00<01:47,  8.68it/s]"
          ],
          "name": "stderr"
        },
        {
          "output_type": "stream",
          "text": [
            "\n",
            "Test set: Average loss: 0.0256, Accuracy: 9923/10000 (99.23%)\n",
            "\n",
            "EPOCH: 5\n",
            "Learning rate : 0.03\n"
          ],
          "name": "stdout"
        },
        {
          "output_type": "stream",
          "text": [
            "Loss=0.001112518017180264 Batch_id=937 Accuracy=98.63: 100%|██████████| 938/938 [01:36<00:00,  9.68it/s]\n",
            "Loss=0.015738733112812042 Batch_id=0 Accuracy=98.44:   0%|          | 1/938 [00:00<01:36,  9.76it/s]"
          ],
          "name": "stderr"
        },
        {
          "output_type": "stream",
          "text": [
            "\n",
            "Test set: Average loss: 0.0256, Accuracy: 9919/10000 (99.19%)\n",
            "\n",
            "EPOCH: 6\n",
            "Learning rate : 0.03\n"
          ],
          "name": "stdout"
        },
        {
          "output_type": "stream",
          "text": [
            "Loss=0.140480175614357 Batch_id=937 Accuracy=98.76: 100%|██████████| 938/938 [01:35<00:00,  9.83it/s]\n",
            "Loss=0.0051971315406262875 Batch_id=0 Accuracy=100.00:   0%|          | 1/938 [00:00<01:34,  9.93it/s]"
          ],
          "name": "stderr"
        },
        {
          "output_type": "stream",
          "text": [
            "\n",
            "Test set: Average loss: 0.0221, Accuracy: 9926/10000 (99.26%)\n",
            "\n",
            "EPOCH: 7\n",
            "Learning rate : 0.03\n"
          ],
          "name": "stdout"
        },
        {
          "output_type": "stream",
          "text": [
            "Loss=0.05259128659963608 Batch_id=937 Accuracy=98.81: 100%|██████████| 938/938 [01:34<00:00,  9.89it/s]\n",
            "Loss=0.007976623252034187 Batch_id=1 Accuracy=99.22:   0%|          | 1/938 [00:00<01:35,  9.80it/s]"
          ],
          "name": "stderr"
        },
        {
          "output_type": "stream",
          "text": [
            "\n",
            "Test set: Average loss: 0.0255, Accuracy: 9921/10000 (99.21%)\n",
            "\n",
            "EPOCH: 8\n",
            "Learning rate : 0.03\n"
          ],
          "name": "stdout"
        },
        {
          "output_type": "stream",
          "text": [
            "Loss=0.006784352008253336 Batch_id=937 Accuracy=98.87: 100%|██████████| 938/938 [01:35<00:00,  9.82it/s]\n",
            "Loss=0.04621988534927368 Batch_id=0 Accuracy=96.88:   0%|          | 1/938 [00:00<01:38,  9.54it/s]"
          ],
          "name": "stderr"
        },
        {
          "output_type": "stream",
          "text": [
            "\n",
            "Test set: Average loss: 0.0228, Accuracy: 9926/10000 (99.26%)\n",
            "\n",
            "EPOCH: 9\n",
            "Learning rate : 0.03\n"
          ],
          "name": "stdout"
        },
        {
          "output_type": "stream",
          "text": [
            "Loss=0.025253815576434135 Batch_id=937 Accuracy=98.90: 100%|██████████| 938/938 [01:34<00:00, 10.90it/s]\n",
            "Loss=0.002649433445185423 Batch_id=0 Accuracy=100.00:   0%|          | 1/938 [00:00<01:35,  9.82it/s]"
          ],
          "name": "stderr"
        },
        {
          "output_type": "stream",
          "text": [
            "\n",
            "Test set: Average loss: 0.0227, Accuracy: 9932/10000 (99.32%)\n",
            "\n",
            "EPOCH: 10\n",
            "Learning rate : 0.003\n"
          ],
          "name": "stdout"
        },
        {
          "output_type": "stream",
          "text": [
            "Loss=0.009618151932954788 Batch_id=937 Accuracy=99.15: 100%|██████████| 938/938 [01:32<00:00, 10.94it/s]\n",
            "Loss=0.016411036252975464 Batch_id=1 Accuracy=98.44:   0%|          | 2/938 [00:00<01:26, 10.79it/s]"
          ],
          "name": "stderr"
        },
        {
          "output_type": "stream",
          "text": [
            "\n",
            "Test set: Average loss: 0.0184, Accuracy: 9945/10000 (99.45%)\n",
            "\n",
            "EPOCH: 11\n",
            "Learning rate : 0.003\n"
          ],
          "name": "stdout"
        },
        {
          "output_type": "stream",
          "text": [
            "Loss=0.008778470568358898 Batch_id=937 Accuracy=99.23: 100%|██████████| 938/938 [01:36<00:00,  9.70it/s]\n",
            "Loss=0.0026887657586485147 Batch_id=1 Accuracy=100.00:   0%|          | 2/938 [00:00<01:30, 10.40it/s]"
          ],
          "name": "stderr"
        },
        {
          "output_type": "stream",
          "text": [
            "\n",
            "Test set: Average loss: 0.0177, Accuracy: 9941/10000 (99.41%)\n",
            "\n",
            "EPOCH: 12\n",
            "Learning rate : 0.003\n"
          ],
          "name": "stdout"
        },
        {
          "output_type": "stream",
          "text": [
            "Loss=0.04333919286727905 Batch_id=937 Accuracy=99.25: 100%|██████████| 938/938 [01:35<00:00,  9.77it/s]\n",
            "Loss=0.012889588251709938 Batch_id=0 Accuracy=100.00:   0%|          | 1/938 [00:00<01:36,  9.71it/s]"
          ],
          "name": "stderr"
        },
        {
          "output_type": "stream",
          "text": [
            "\n",
            "Test set: Average loss: 0.0181, Accuracy: 9940/10000 (99.40%)\n",
            "\n",
            "EPOCH: 13\n",
            "Learning rate : 0.003\n"
          ],
          "name": "stdout"
        },
        {
          "output_type": "stream",
          "text": [
            "Loss=0.06224575266242027 Batch_id=937 Accuracy=99.27: 100%|██████████| 938/938 [01:36<00:00, 10.93it/s]\n",
            "Loss=0.019284969195723534 Batch_id=1 Accuracy=99.22:   0%|          | 2/938 [00:00<01:30, 10.31it/s]"
          ],
          "name": "stderr"
        },
        {
          "output_type": "stream",
          "text": [
            "\n",
            "Test set: Average loss: 0.0165, Accuracy: 9947/10000 (99.47%)\n",
            "\n",
            "EPOCH: 14\n",
            "Learning rate : 0.003\n"
          ],
          "name": "stdout"
        },
        {
          "output_type": "stream",
          "text": [
            "Loss=0.0066538723185658455 Batch_id=937 Accuracy=99.24: 100%|██████████| 938/938 [01:36<00:00,  9.74it/s]\n",
            "Loss=0.0047812508419156075 Batch_id=0 Accuracy=100.00:   0%|          | 1/938 [00:00<01:36,  9.74it/s]"
          ],
          "name": "stderr"
        },
        {
          "output_type": "stream",
          "text": [
            "\n",
            "Test set: Average loss: 0.0175, Accuracy: 9944/10000 (99.44%)\n",
            "\n",
            "EPOCH: 15\n",
            "Learning rate : 0.003\n"
          ],
          "name": "stdout"
        },
        {
          "output_type": "stream",
          "text": [
            "Loss=0.029514601454138756 Batch_id=937 Accuracy=99.29: 100%|██████████| 938/938 [01:34<00:00,  9.89it/s]\n",
            "Loss=0.008485520258545876 Batch_id=0 Accuracy=100.00:   0%|          | 1/938 [00:00<01:42,  9.16it/s]"
          ],
          "name": "stderr"
        },
        {
          "output_type": "stream",
          "text": [
            "\n",
            "Test set: Average loss: 0.0171, Accuracy: 9943/10000 (99.43%)\n",
            "\n",
            "EPOCH: 16\n",
            "Learning rate : 0.003\n"
          ],
          "name": "stdout"
        },
        {
          "output_type": "stream",
          "text": [
            "Loss=0.13307005167007446 Batch_id=937 Accuracy=99.23: 100%|██████████| 938/938 [01:34<00:00, 11.24it/s]\n",
            "Loss=0.033947672694921494 Batch_id=1 Accuracy=100.00:   0%|          | 2/938 [00:00<01:28, 10.53it/s]"
          ],
          "name": "stderr"
        },
        {
          "output_type": "stream",
          "text": [
            "\n",
            "Test set: Average loss: 0.0165, Accuracy: 9946/10000 (99.46%)\n",
            "\n",
            "EPOCH: 17\n",
            "Learning rate : 0.003\n"
          ],
          "name": "stdout"
        },
        {
          "output_type": "stream",
          "text": [
            "Loss=0.14407561719417572 Batch_id=937 Accuracy=99.31: 100%|██████████| 938/938 [01:36<00:00,  9.71it/s]\n",
            "Loss=0.010272204875946045 Batch_id=0 Accuracy=100.00:   0%|          | 1/938 [00:00<01:41,  9.20it/s]"
          ],
          "name": "stderr"
        },
        {
          "output_type": "stream",
          "text": [
            "\n",
            "Test set: Average loss: 0.0169, Accuracy: 9942/10000 (99.42%)\n",
            "\n",
            "EPOCH: 18\n",
            "Learning rate : 0.003\n"
          ],
          "name": "stdout"
        },
        {
          "output_type": "stream",
          "text": [
            "Loss=0.003352014347910881 Batch_id=937 Accuracy=99.32: 100%|██████████| 938/938 [01:34<00:00,  9.97it/s]\n",
            "Loss=0.0009964508935809135 Batch_id=0 Accuracy=100.00:   0%|          | 1/938 [00:00<01:40,  9.32it/s]"
          ],
          "name": "stderr"
        },
        {
          "output_type": "stream",
          "text": [
            "\n",
            "Test set: Average loss: 0.0167, Accuracy: 9946/10000 (99.46%)\n",
            "\n",
            "EPOCH: 19\n",
            "Learning rate : 0.003\n"
          ],
          "name": "stdout"
        },
        {
          "output_type": "stream",
          "text": [
            "Loss=0.02729402668774128 Batch_id=937 Accuracy=99.34: 100%|██████████| 938/938 [01:35<00:00,  9.86it/s]\n",
            "Loss=0.00329010677523911 Batch_id=0 Accuracy=100.00:   0%|          | 1/938 [00:00<01:34,  9.95it/s]"
          ],
          "name": "stderr"
        },
        {
          "output_type": "stream",
          "text": [
            "\n",
            "Test set: Average loss: 0.0162, Accuracy: 9947/10000 (99.47%)\n",
            "\n",
            "EPOCH: 20\n",
            "Learning rate : 0.003\n"
          ],
          "name": "stdout"
        },
        {
          "output_type": "stream",
          "text": [
            "Loss=0.0042863464914262295 Batch_id=937 Accuracy=99.25: 100%|██████████| 938/938 [01:36<00:00,  9.76it/s]\n",
            "Loss=0.017264435067772865 Batch_id=0 Accuracy=98.44:   0%|          | 1/938 [00:00<01:37,  9.61it/s]"
          ],
          "name": "stderr"
        },
        {
          "output_type": "stream",
          "text": [
            "\n",
            "Test set: Average loss: 0.0164, Accuracy: 9946/10000 (99.46%)\n",
            "\n",
            "EPOCH: 21\n",
            "Learning rate : 0.003\n"
          ],
          "name": "stdout"
        },
        {
          "output_type": "stream",
          "text": [
            "Loss=0.01356525719165802 Batch_id=937 Accuracy=99.30: 100%|██████████| 938/938 [01:35<00:00,  9.81it/s]\n",
            "Loss=0.011441055685281754 Batch_id=0 Accuracy=100.00:   0%|          | 1/938 [00:00<01:35,  9.83it/s]"
          ],
          "name": "stderr"
        },
        {
          "output_type": "stream",
          "text": [
            "\n",
            "Test set: Average loss: 0.0165, Accuracy: 9944/10000 (99.44%)\n",
            "\n",
            "EPOCH: 22\n",
            "Learning rate : 0.003\n"
          ],
          "name": "stdout"
        },
        {
          "output_type": "stream",
          "text": [
            "Loss=0.0007877058233134449 Batch_id=937 Accuracy=99.36: 100%|██████████| 938/938 [01:36<00:00,  9.75it/s]\n",
            "Loss=0.002474075648933649 Batch_id=0 Accuracy=100.00:   0%|          | 1/938 [00:00<01:39,  9.41it/s]"
          ],
          "name": "stderr"
        },
        {
          "output_type": "stream",
          "text": [
            "\n",
            "Test set: Average loss: 0.0168, Accuracy: 9944/10000 (99.44%)\n",
            "\n",
            "EPOCH: 23\n",
            "Learning rate : 0.003\n"
          ],
          "name": "stdout"
        },
        {
          "output_type": "stream",
          "text": [
            "Loss=0.00038885639514774084 Batch_id=937 Accuracy=99.30: 100%|██████████| 938/938 [01:36<00:00,  9.73it/s]\n",
            "Loss=0.0042030224576592445 Batch_id=1 Accuracy=100.00:   0%|          | 0/938 [00:00<?, ?it/s]"
          ],
          "name": "stderr"
        },
        {
          "output_type": "stream",
          "text": [
            "\n",
            "Test set: Average loss: 0.0176, Accuracy: 9941/10000 (99.41%)\n",
            "\n",
            "EPOCH: 24\n",
            "Learning rate : 0.003\n"
          ],
          "name": "stdout"
        },
        {
          "output_type": "stream",
          "text": [
            "Loss=0.008865268900990486 Batch_id=937 Accuracy=99.31: 100%|██████████| 938/938 [01:34<00:00, 10.68it/s]\n",
            "Loss=0.06455926597118378 Batch_id=0 Accuracy=96.88:   0%|          | 1/938 [00:00<01:36,  9.75it/s]"
          ],
          "name": "stderr"
        },
        {
          "output_type": "stream",
          "text": [
            "\n",
            "Test set: Average loss: 0.0169, Accuracy: 9944/10000 (99.44%)\n",
            "\n",
            "EPOCH: 25\n",
            "Learning rate : 0.0003\n"
          ],
          "name": "stdout"
        },
        {
          "output_type": "stream",
          "text": [
            "Loss=0.006924041546881199 Batch_id=937 Accuracy=99.34: 100%|██████████| 938/938 [01:34<00:00, 10.94it/s]\n",
            "Loss=0.0032222922891378403 Batch_id=0 Accuracy=100.00:   0%|          | 1/938 [00:00<01:37,  9.60it/s]"
          ],
          "name": "stderr"
        },
        {
          "output_type": "stream",
          "text": [
            "\n",
            "Test set: Average loss: 0.0165, Accuracy: 9944/10000 (99.44%)\n",
            "\n",
            "EPOCH: 26\n",
            "Learning rate : 0.0003\n"
          ],
          "name": "stdout"
        },
        {
          "output_type": "stream",
          "text": [
            "Loss=0.10296858847141266 Batch_id=937 Accuracy=99.34: 100%|██████████| 938/938 [01:35<00:00,  9.85it/s]\n",
            "Loss=0.0013662293786183 Batch_id=1 Accuracy=100.00:   0%|          | 2/938 [00:00<01:31, 10.18it/s]"
          ],
          "name": "stderr"
        },
        {
          "output_type": "stream",
          "text": [
            "\n",
            "Test set: Average loss: 0.0168, Accuracy: 9943/10000 (99.43%)\n",
            "\n",
            "EPOCH: 27\n",
            "Learning rate : 0.0003\n"
          ],
          "name": "stdout"
        },
        {
          "output_type": "stream",
          "text": [
            "Loss=0.021642595529556274 Batch_id=937 Accuracy=99.32: 100%|██████████| 938/938 [01:35<00:00, 10.90it/s]\n",
            "Loss=0.06589778512716293 Batch_id=0 Accuracy=98.44:   0%|          | 1/938 [00:00<01:40,  9.36it/s]"
          ],
          "name": "stderr"
        },
        {
          "output_type": "stream",
          "text": [
            "\n",
            "Test set: Average loss: 0.0162, Accuracy: 9945/10000 (99.45%)\n",
            "\n",
            "EPOCH: 28\n",
            "Learning rate : 0.0003\n"
          ],
          "name": "stdout"
        },
        {
          "output_type": "stream",
          "text": [
            "Loss=0.014872285537421703 Batch_id=937 Accuracy=99.33: 100%|██████████| 938/938 [01:34<00:00,  9.91it/s]\n",
            "Loss=0.013636340387165546 Batch_id=0 Accuracy=98.44:   0%|          | 1/938 [00:00<01:33, 10.00it/s]"
          ],
          "name": "stderr"
        },
        {
          "output_type": "stream",
          "text": [
            "\n",
            "Test set: Average loss: 0.0170, Accuracy: 9941/10000 (99.41%)\n",
            "\n",
            "EPOCH: 29\n",
            "Learning rate : 0.0003\n"
          ],
          "name": "stdout"
        },
        {
          "output_type": "stream",
          "text": [
            "Loss=0.003770996816456318 Batch_id=937 Accuracy=99.38: 100%|██████████| 938/938 [01:40<00:00,  9.38it/s]\n",
            "Loss=0.0004775035195052624 Batch_id=0 Accuracy=100.00:   0%|          | 1/938 [00:00<01:40,  9.28it/s]"
          ],
          "name": "stderr"
        },
        {
          "output_type": "stream",
          "text": [
            "\n",
            "Test set: Average loss: 0.0163, Accuracy: 9947/10000 (99.47%)\n",
            "\n",
            "EPOCH: 30\n",
            "Learning rate : 0.0003\n"
          ],
          "name": "stdout"
        },
        {
          "output_type": "stream",
          "text": [
            "Loss=0.020223798230290413 Batch_id=937 Accuracy=99.31: 100%|██████████| 938/938 [01:36<00:00,  9.71it/s]\n",
            "Loss=0.00310062849894166 Batch_id=1 Accuracy=100.00:   0%|          | 1/938 [00:00<01:35,  9.84it/s] "
          ],
          "name": "stderr"
        },
        {
          "output_type": "stream",
          "text": [
            "\n",
            "Test set: Average loss: 0.0170, Accuracy: 9943/10000 (99.43%)\n",
            "\n",
            "EPOCH: 31\n",
            "Learning rate : 0.0003\n"
          ],
          "name": "stdout"
        },
        {
          "output_type": "stream",
          "text": [
            "Loss=0.0019032469717785716 Batch_id=937 Accuracy=99.37: 100%|██████████| 938/938 [01:36<00:00,  9.75it/s]\n",
            "Loss=0.06442177295684814 Batch_id=0 Accuracy=98.44:   0%|          | 1/938 [00:00<01:35,  9.76it/s]"
          ],
          "name": "stderr"
        },
        {
          "output_type": "stream",
          "text": [
            "\n",
            "Test set: Average loss: 0.0162, Accuracy: 9944/10000 (99.44%)\n",
            "\n",
            "EPOCH: 32\n",
            "Learning rate : 0.0003\n"
          ],
          "name": "stdout"
        },
        {
          "output_type": "stream",
          "text": [
            "Loss=0.007483909372240305 Batch_id=937 Accuracy=99.34: 100%|██████████| 938/938 [01:37<00:00,  9.63it/s]\n",
            "Loss=0.05939944460988045 Batch_id=0 Accuracy=98.44:   0%|          | 1/938 [00:00<01:36,  9.76it/s]"
          ],
          "name": "stderr"
        },
        {
          "output_type": "stream",
          "text": [
            "\n",
            "Test set: Average loss: 0.0158, Accuracy: 9946/10000 (99.46%)\n",
            "\n",
            "EPOCH: 33\n",
            "Learning rate : 0.0003\n"
          ],
          "name": "stdout"
        },
        {
          "output_type": "stream",
          "text": [
            "Loss=0.1509944200515747 Batch_id=937 Accuracy=99.31: 100%|██████████| 938/938 [01:36<00:00,  9.68it/s]\n",
            "Loss=0.009792953729629517 Batch_id=0 Accuracy=100.00:   0%|          | 1/938 [00:00<01:37,  9.59it/s]"
          ],
          "name": "stderr"
        },
        {
          "output_type": "stream",
          "text": [
            "\n",
            "Test set: Average loss: 0.0162, Accuracy: 9944/10000 (99.44%)\n",
            "\n",
            "EPOCH: 34\n",
            "Learning rate : 0.0003\n"
          ],
          "name": "stdout"
        },
        {
          "output_type": "stream",
          "text": [
            "Loss=0.0006679342477582395 Batch_id=937 Accuracy=99.35: 100%|██████████| 938/938 [01:37<00:00,  9.64it/s]\n",
            "Loss=0.006609445903450251 Batch_id=0 Accuracy=100.00:   0%|          | 1/938 [00:00<01:35,  9.77it/s]"
          ],
          "name": "stderr"
        },
        {
          "output_type": "stream",
          "text": [
            "\n",
            "Test set: Average loss: 0.0169, Accuracy: 9941/10000 (99.41%)\n",
            "\n",
            "EPOCH: 35\n",
            "Learning rate : 0.0003\n"
          ],
          "name": "stdout"
        },
        {
          "output_type": "stream",
          "text": [
            "Loss=0.010616266168653965 Batch_id=937 Accuracy=99.36: 100%|██████████| 938/938 [01:41<00:00,  6.08it/s]\n",
            "Loss=0.011590400710701942 Batch_id=0 Accuracy=100.00:   0%|          | 1/938 [00:00<01:36,  9.74it/s]"
          ],
          "name": "stderr"
        },
        {
          "output_type": "stream",
          "text": [
            "\n",
            "Test set: Average loss: 0.0169, Accuracy: 9943/10000 (99.43%)\n",
            "\n",
            "EPOCH: 36\n",
            "Learning rate : 0.0003\n"
          ],
          "name": "stdout"
        },
        {
          "output_type": "stream",
          "text": [
            "Loss=0.0336325578391552 Batch_id=937 Accuracy=99.36: 100%|██████████| 938/938 [01:37<00:00,  9.66it/s]\n",
            "Loss=0.024361224845051765 Batch_id=1 Accuracy=98.44:   0%|          | 1/938 [00:00<01:34,  9.94it/s]"
          ],
          "name": "stderr"
        },
        {
          "output_type": "stream",
          "text": [
            "\n",
            "Test set: Average loss: 0.0159, Accuracy: 9946/10000 (99.46%)\n",
            "\n",
            "EPOCH: 37\n",
            "Learning rate : 0.0003\n"
          ],
          "name": "stdout"
        },
        {
          "output_type": "stream",
          "text": [
            "Loss=0.11215043067932129 Batch_id=937 Accuracy=99.39: 100%|██████████| 938/938 [01:37<00:00,  9.60it/s]\n",
            "Loss=0.001246863161213696 Batch_id=0 Accuracy=100.00:   0%|          | 1/938 [00:00<01:43,  9.07it/s]"
          ],
          "name": "stderr"
        },
        {
          "output_type": "stream",
          "text": [
            "\n",
            "Test set: Average loss: 0.0167, Accuracy: 9946/10000 (99.46%)\n",
            "\n",
            "EPOCH: 38\n",
            "Learning rate : 0.0003\n"
          ],
          "name": "stdout"
        },
        {
          "output_type": "stream",
          "text": [
            "Loss=0.03230619430541992 Batch_id=937 Accuracy=99.32: 100%|██████████| 938/938 [01:36<00:00,  9.68it/s]\n",
            "Loss=0.042468685656785965 Batch_id=1 Accuracy=98.44:   0%|          | 1/938 [00:00<01:34,  9.90it/s]"
          ],
          "name": "stderr"
        },
        {
          "output_type": "stream",
          "text": [
            "\n",
            "Test set: Average loss: 0.0168, Accuracy: 9941/10000 (99.41%)\n",
            "\n",
            "EPOCH: 39\n",
            "Learning rate : 0.0003\n"
          ],
          "name": "stdout"
        },
        {
          "output_type": "stream",
          "text": [
            "Loss=0.0012921479064971209 Batch_id=937 Accuracy=99.38: 100%|██████████| 938/938 [01:35<00:00, 10.87it/s]\n"
          ],
          "name": "stderr"
        },
        {
          "output_type": "stream",
          "text": [
            "\n",
            "Test set: Average loss: 0.0170, Accuracy: 9943/10000 (99.43%)\n",
            "\n"
          ],
          "name": "stdout"
        }
      ]
    },
    {
      "cell_type": "code",
      "metadata": {
        "id": "ZHAOYBQpk6OL",
        "colab_type": "code",
        "outputId": "17991c65-01c6-4c69-e37f-6718668cd39f",
        "colab": {
          "base_uri": "https://localhost:8080/",
          "height": 650
        }
      },
      "source": [
        "plot_misclassified(*mis_classfied(model, test_loader), 'Only L1 reg')"
      ],
      "execution_count": 0,
      "outputs": [
        {
          "output_type": "display_data",
          "data": {
            "image/png": "[encoded data removed]",
            "text/plain": [
              "<Figure size 720x720 with 25 Axes>"
            ]
          },
          "metadata": {
            "tags": []
          }
        }
      ]
    },
    {
      "cell_type": "code",
      "metadata": {
        "id": "SM53aXc9NW0y",
        "colab_type": "code",
        "outputId": "7a97ae0d-c283-451a-cb29-a5e22da535d4",
        "colab": {
          "base_uri": "https://localhost:8080/",
          "height": 1000
        }
      },
      "source": [
        "# Only L2\n",
        "model = run_epochs(L2_weight_decay=0.0005, select_list=2)\n"
      ],
      "execution_count": 0,
      "outputs": [
        {
          "output_type": "stream",
          "text": [
            "Loss=2.3140456676483154 Batch_id=0 Accuracy=14.06:   0%|          | 1/938 [00:00<01:48,  8.60it/s]"
          ],
          "name": "stderr"
        },
        {
          "output_type": "stream",
          "text": [
            "EPOCH: 0\n",
            "Learning rate : 0.03\n"
          ],
          "name": "stdout"
        },
        {
          "output_type": "stream",
          "text": [
            "Loss=0.07271329313516617 Batch_id=937 Accuracy=93.24: 100%|██████████| 938/938 [01:34<00:00, 10.98it/s]\n",
            "Loss=0.11506863683462143 Batch_id=1 Accuracy=96.09:   0%|          | 2/938 [00:00<01:27, 10.64it/s]"
          ],
          "name": "stderr"
        },
        {
          "output_type": "stream",
          "text": [
            "\n",
            "Test set: Average loss: 0.0427, Accuracy: 9866/10000 (98.66%)\n",
            "\n",
            "EPOCH: 1\n",
            "Learning rate : 0.03\n"
          ],
          "name": "stdout"
        },
        {
          "output_type": "stream",
          "text": [
            "Loss=0.022895734757184982 Batch_id=937 Accuracy=97.78: 100%|██████████| 938/938 [01:32<00:00, 10.43it/s]\n",
            "Loss=0.012731500901281834 Batch_id=0 Accuracy=100.00:   0%|          | 1/938 [00:00<01:42,  9.13it/s]"
          ],
          "name": "stderr"
        },
        {
          "output_type": "stream",
          "text": [
            "\n",
            "Test set: Average loss: 0.0405, Accuracy: 9877/10000 (98.77%)\n",
            "\n",
            "EPOCH: 2\n",
            "Learning rate : 0.03\n"
          ],
          "name": "stdout"
        },
        {
          "output_type": "stream",
          "text": [
            "Loss=0.07485467195510864 Batch_id=937 Accuracy=98.14: 100%|██████████| 938/938 [01:32<00:00, 10.69it/s]\n",
            "Loss=0.03440496698021889 Batch_id=1 Accuracy=99.22:   0%|          | 2/938 [00:00<01:30, 10.33it/s]"
          ],
          "name": "stderr"
        },
        {
          "output_type": "stream",
          "text": [
            "\n",
            "Test set: Average loss: 0.0335, Accuracy: 9903/10000 (99.03%)\n",
            "\n",
            "EPOCH: 3\n",
            "Learning rate : 0.03\n"
          ],
          "name": "stdout"
        },
        {
          "output_type": "stream",
          "text": [
            "Loss=0.024225354194641113 Batch_id=937 Accuracy=98.23: 100%|██████████| 938/938 [01:33<00:00, 10.07it/s]\n",
            "Loss=0.053480371832847595 Batch_id=1 Accuracy=99.22:   0%|          | 2/938 [00:00<01:29, 10.50it/s]"
          ],
          "name": "stderr"
        },
        {
          "output_type": "stream",
          "text": [
            "\n",
            "Test set: Average loss: 0.0330, Accuracy: 9891/10000 (98.91%)\n",
            "\n",
            "EPOCH: 4\n",
            "Learning rate : 0.03\n"
          ],
          "name": "stdout"
        },
        {
          "output_type": "stream",
          "text": [
            "Loss=0.013430961407721043 Batch_id=937 Accuracy=98.35: 100%|██████████| 938/938 [01:31<00:00, 10.24it/s]\n",
            "Loss=0.122091144323349 Batch_id=1 Accuracy=96.09:   0%|          | 2/938 [00:00<01:29, 10.49it/s]"
          ],
          "name": "stderr"
        },
        {
          "output_type": "stream",
          "text": [
            "\n",
            "Test set: Average loss: 0.0287, Accuracy: 9929/10000 (99.29%)\n",
            "\n",
            "EPOCH: 5\n",
            "Learning rate : 0.03\n"
          ],
          "name": "stdout"
        },
        {
          "output_type": "stream",
          "text": [
            "Loss=0.2004948854446411 Batch_id=937 Accuracy=98.40: 100%|██████████| 938/938 [01:32<00:00, 10.15it/s]\n",
            "Loss=0.08285890519618988 Batch_id=1 Accuracy=99.22:   0%|          | 1/938 [00:00<01:33,  9.99it/s] "
          ],
          "name": "stderr"
        },
        {
          "output_type": "stream",
          "text": [
            "\n",
            "Test set: Average loss: 0.0333, Accuracy: 9897/10000 (98.97%)\n",
            "\n",
            "EPOCH: 6\n",
            "Learning rate : 0.03\n"
          ],
          "name": "stdout"
        },
        {
          "output_type": "stream",
          "text": [
            "Loss=0.021525688469409943 Batch_id=937 Accuracy=98.48: 100%|██████████| 938/938 [01:34<00:00,  9.95it/s]\n",
            "Loss=0.014564203098416328 Batch_id=1 Accuracy=98.44:   0%|          | 1/938 [00:00<01:34,  9.96it/s]"
          ],
          "name": "stderr"
        },
        {
          "output_type": "stream",
          "text": [
            "\n",
            "Test set: Average loss: 0.0323, Accuracy: 9899/10000 (98.99%)\n",
            "\n",
            "EPOCH: 7\n",
            "Learning rate : 0.03\n"
          ],
          "name": "stdout"
        },
        {
          "output_type": "stream",
          "text": [
            "Loss=0.012447300367057323 Batch_id=937 Accuracy=98.45: 100%|██████████| 938/938 [01:35<00:00,  9.87it/s]\n",
            "Loss=0.0990951880812645 Batch_id=0 Accuracy=98.44:   0%|          | 1/938 [00:00<01:35,  9.83it/s]"
          ],
          "name": "stderr"
        },
        {
          "output_type": "stream",
          "text": [
            "\n",
            "Test set: Average loss: 0.0288, Accuracy: 9911/10000 (99.11%)\n",
            "\n",
            "EPOCH: 8\n",
            "Learning rate : 0.03\n"
          ],
          "name": "stdout"
        },
        {
          "output_type": "stream",
          "text": [
            "Loss=0.06104840710759163 Batch_id=937 Accuracy=98.47: 100%|██████████| 938/938 [01:34<00:00, 10.84it/s]\n",
            "Loss=0.007265515625476837 Batch_id=1 Accuracy=98.44:   0%|          | 0/938 [00:00<?, ?it/s]"
          ],
          "name": "stderr"
        },
        {
          "output_type": "stream",
          "text": [
            "\n",
            "Test set: Average loss: 0.0308, Accuracy: 9900/10000 (99.00%)\n",
            "\n",
            "EPOCH: 9\n",
            "Learning rate : 0.03\n"
          ],
          "name": "stdout"
        },
        {
          "output_type": "stream",
          "text": [
            "Loss=0.08895948529243469 Batch_id=937 Accuracy=98.53: 100%|██████████| 938/938 [01:31<00:00, 10.21it/s]\n",
            "Loss=0.022066066041588783 Batch_id=0 Accuracy=100.00:   0%|          | 1/938 [00:00<01:37,  9.66it/s]"
          ],
          "name": "stderr"
        },
        {
          "output_type": "stream",
          "text": [
            "\n",
            "Test set: Average loss: 0.0348, Accuracy: 9898/10000 (98.98%)\n",
            "\n",
            "EPOCH: 10\n",
            "Learning rate : 0.003\n"
          ],
          "name": "stdout"
        },
        {
          "output_type": "stream",
          "text": [
            "Loss=0.087015300989151 Batch_id=937 Accuracy=99.02: 100%|██████████| 938/938 [01:29<00:00, 11.60it/s]\n",
            "Loss=0.008246717974543571 Batch_id=1 Accuracy=99.22:   0%|          | 2/938 [00:00<01:30, 10.37it/s]"
          ],
          "name": "stderr"
        },
        {
          "output_type": "stream",
          "text": [
            "\n",
            "Test set: Average loss: 0.0204, Accuracy: 9942/10000 (99.42%)\n",
            "\n",
            "EPOCH: 11\n",
            "Learning rate : 0.003\n"
          ],
          "name": "stdout"
        },
        {
          "output_type": "stream",
          "text": [
            "Loss=0.005027769133448601 Batch_id=937 Accuracy=99.10: 100%|██████████| 938/938 [01:29<00:00, 10.53it/s]\n",
            "Loss=0.02809196524322033 Batch_id=1 Accuracy=99.22:   0%|          | 2/938 [00:00<01:30, 10.38it/s]"
          ],
          "name": "stderr"
        },
        {
          "output_type": "stream",
          "text": [
            "\n",
            "Test set: Average loss: 0.0181, Accuracy: 9944/10000 (99.44%)\n",
            "\n",
            "EPOCH: 12\n",
            "Learning rate : 0.003\n"
          ],
          "name": "stdout"
        },
        {
          "output_type": "stream",
          "text": [
            "Loss=0.003467146772891283 Batch_id=937 Accuracy=99.12: 100%|██████████| 938/938 [01:32<00:00, 10.19it/s]\n",
            "Loss=0.03692806512117386 Batch_id=1 Accuracy=98.44:   0%|          | 2/938 [00:00<01:26, 10.77it/s]"
          ],
          "name": "stderr"
        },
        {
          "output_type": "stream",
          "text": [
            "\n",
            "Test set: Average loss: 0.0190, Accuracy: 9942/10000 (99.42%)\n",
            "\n",
            "EPOCH: 13\n",
            "Learning rate : 0.003\n"
          ],
          "name": "stdout"
        },
        {
          "output_type": "stream",
          "text": [
            "Loss=0.05719785764813423 Batch_id=937 Accuracy=99.18: 100%|██████████| 938/938 [01:33<00:00, 10.02it/s]\n",
            "Loss=0.003920236136764288 Batch_id=1 Accuracy=100.00:   0%|          | 2/938 [00:00<01:28, 10.56it/s]"
          ],
          "name": "stderr"
        },
        {
          "output_type": "stream",
          "text": [
            "\n",
            "Test set: Average loss: 0.0174, Accuracy: 9949/10000 (99.49%)\n",
            "\n",
            "EPOCH: 14\n",
            "Learning rate : 0.003\n"
          ],
          "name": "stdout"
        },
        {
          "output_type": "stream",
          "text": [
            "Loss=0.003553763497620821 Batch_id=937 Accuracy=99.18: 100%|██████████| 938/938 [01:33<00:00, 10.05it/s]\n",
            "Loss=0.005537225399166346 Batch_id=0 Accuracy=100.00:   0%|          | 1/938 [00:00<01:34,  9.88it/s]"
          ],
          "name": "stderr"
        },
        {
          "output_type": "stream",
          "text": [
            "\n",
            "Test set: Average loss: 0.0176, Accuracy: 9950/10000 (99.50%)\n",
            "\n",
            "EPOCH: 15\n",
            "Learning rate : 0.003\n"
          ],
          "name": "stdout"
        },
        {
          "output_type": "stream",
          "text": [
            "Loss=0.030327986925840378 Batch_id=937 Accuracy=99.19: 100%|██████████| 938/938 [01:34<00:00,  9.94it/s]\n",
            "Loss=0.04750814288854599 Batch_id=1 Accuracy=99.22:   0%|          | 2/938 [00:00<01:30, 10.32it/s]"
          ],
          "name": "stderr"
        },
        {
          "output_type": "stream",
          "text": [
            "\n",
            "Test set: Average loss: 0.0169, Accuracy: 9946/10000 (99.46%)\n",
            "\n",
            "EPOCH: 16\n",
            "Learning rate : 0.003\n"
          ],
          "name": "stdout"
        },
        {
          "output_type": "stream",
          "text": [
            "Loss=0.07955986261367798 Batch_id=937 Accuracy=99.17: 100%|██████████| 938/938 [01:35<00:00,  9.82it/s]\n",
            "Loss=0.03285949304699898 Batch_id=0 Accuracy=100.00:   0%|          | 1/938 [00:00<01:35,  9.77it/s]"
          ],
          "name": "stderr"
        },
        {
          "output_type": "stream",
          "text": [
            "\n",
            "Test set: Average loss: 0.0175, Accuracy: 9948/10000 (99.48%)\n",
            "\n",
            "EPOCH: 17\n",
            "Learning rate : 0.003\n"
          ],
          "name": "stdout"
        },
        {
          "output_type": "stream",
          "text": [
            "Loss=0.014119412750005722 Batch_id=937 Accuracy=99.19: 100%|██████████| 938/938 [01:34<00:00, 10.37it/s]\n",
            "Loss=0.0073037887923419476 Batch_id=1 Accuracy=98.44:   0%|          | 2/938 [00:00<01:28, 10.52it/s]"
          ],
          "name": "stderr"
        },
        {
          "output_type": "stream",
          "text": [
            "\n",
            "Test set: Average loss: 0.0162, Accuracy: 9951/10000 (99.51%)\n",
            "\n",
            "EPOCH: 18\n",
            "Learning rate : 0.003\n"
          ],
          "name": "stdout"
        },
        {
          "output_type": "stream",
          "text": [
            "Loss=0.0032788068056106567 Batch_id=937 Accuracy=99.23: 100%|██████████| 938/938 [01:31<00:00, 10.21it/s]\n",
            "Loss=0.01349856797605753 Batch_id=1 Accuracy=100.00:   0%|          | 2/938 [00:00<01:29, 10.47it/s]"
          ],
          "name": "stderr"
        },
        {
          "output_type": "stream",
          "text": [
            "\n",
            "Test set: Average loss: 0.0167, Accuracy: 9940/10000 (99.40%)\n",
            "\n",
            "EPOCH: 19\n",
            "Learning rate : 0.003\n"
          ],
          "name": "stdout"
        },
        {
          "output_type": "stream",
          "text": [
            "Loss=0.0022682170383632183 Batch_id=937 Accuracy=99.23: 100%|██████████| 938/938 [01:35<00:00,  9.80it/s]\n",
            "Loss=0.010768478736281395 Batch_id=0 Accuracy=100.00:   0%|          | 1/938 [00:00<01:35,  9.83it/s]"
          ],
          "name": "stderr"
        },
        {
          "output_type": "stream",
          "text": [
            "\n",
            "Test set: Average loss: 0.0161, Accuracy: 9953/10000 (99.53%)\n",
            "\n",
            "EPOCH: 20\n",
            "Learning rate : 0.003\n"
          ],
          "name": "stdout"
        },
        {
          "output_type": "stream",
          "text": [
            "Loss=0.02037196420133114 Batch_id=937 Accuracy=99.20: 100%|██████████| 938/938 [01:34<00:00, 10.77it/s]\n",
            "Loss=0.014685260131955147 Batch_id=0 Accuracy=100.00:   0%|          | 1/938 [00:00<01:35,  9.85it/s]"
          ],
          "name": "stderr"
        },
        {
          "output_type": "stream",
          "text": [
            "\n",
            "Test set: Average loss: 0.0170, Accuracy: 9948/10000 (99.48%)\n",
            "\n",
            "EPOCH: 21\n",
            "Learning rate : 0.003\n"
          ],
          "name": "stdout"
        },
        {
          "output_type": "stream",
          "text": [
            "Loss=0.19728924334049225 Batch_id=937 Accuracy=99.20: 100%|██████████| 938/938 [01:33<00:00, 10.00it/s]\n",
            "Loss=0.019316911697387695 Batch_id=0 Accuracy=100.00:   0%|          | 1/938 [00:00<01:39,  9.40it/s]"
          ],
          "name": "stderr"
        },
        {
          "output_type": "stream",
          "text": [
            "\n",
            "Test set: Average loss: 0.0168, Accuracy: 9949/10000 (99.49%)\n",
            "\n",
            "EPOCH: 22\n",
            "Learning rate : 0.003\n"
          ],
          "name": "stdout"
        },
        {
          "output_type": "stream",
          "text": [
            "Loss=0.01675618253648281 Batch_id=937 Accuracy=99.27: 100%|██████████| 938/938 [01:34<00:00,  9.96it/s]\n",
            "Loss=0.01025279052555561 Batch_id=1 Accuracy=100.00:   0%|          | 1/938 [00:00<01:34,  9.96it/s] "
          ],
          "name": "stderr"
        },
        {
          "output_type": "stream",
          "text": [
            "\n",
            "Test set: Average loss: 0.0169, Accuracy: 9949/10000 (99.49%)\n",
            "\n",
            "EPOCH: 23\n",
            "Learning rate : 0.003\n"
          ],
          "name": "stdout"
        },
        {
          "output_type": "stream",
          "text": [
            "Loss=0.011064953170716763 Batch_id=937 Accuracy=99.19: 100%|██████████| 938/938 [01:33<00:00, 10.05it/s]\n",
            "Loss=0.006657961290329695 Batch_id=0 Accuracy=100.00:   0%|          | 1/938 [00:00<01:38,  9.47it/s]"
          ],
          "name": "stderr"
        },
        {
          "output_type": "stream",
          "text": [
            "\n",
            "Test set: Average loss: 0.0170, Accuracy: 9949/10000 (99.49%)\n",
            "\n",
            "EPOCH: 24\n",
            "Learning rate : 0.003\n"
          ],
          "name": "stdout"
        },
        {
          "output_type": "stream",
          "text": [
            "Loss=0.00884403195232153 Batch_id=937 Accuracy=99.27: 100%|██████████| 938/938 [01:33<00:00, 10.03it/s]\n",
            "Loss=0.002360736019909382 Batch_id=0 Accuracy=100.00:   0%|          | 1/938 [00:00<01:35,  9.84it/s]"
          ],
          "name": "stderr"
        },
        {
          "output_type": "stream",
          "text": [
            "\n",
            "Test set: Average loss: 0.0162, Accuracy: 9953/10000 (99.53%)\n",
            "\n",
            "EPOCH: 25\n",
            "Learning rate : 0.0003\n"
          ],
          "name": "stdout"
        },
        {
          "output_type": "stream",
          "text": [
            "Loss=0.005177995655685663 Batch_id=937 Accuracy=99.30: 100%|██████████| 938/938 [01:36<00:00,  9.72it/s]\n",
            "Loss=0.004458247218281031 Batch_id=1 Accuracy=99.22:   0%|          | 2/938 [00:00<01:27, 10.69it/s]"
          ],
          "name": "stderr"
        },
        {
          "output_type": "stream",
          "text": [
            "\n",
            "Test set: Average loss: 0.0166, Accuracy: 9946/10000 (99.46%)\n",
            "\n",
            "EPOCH: 26\n",
            "Learning rate : 0.0003\n"
          ],
          "name": "stdout"
        },
        {
          "output_type": "stream",
          "text": [
            "Loss=0.011903888545930386 Batch_id=937 Accuracy=99.30: 100%|██████████| 938/938 [01:34<00:00,  9.88it/s]\n",
            "Loss=0.03249488025903702 Batch_id=0 Accuracy=98.44:   0%|          | 1/938 [00:00<01:42,  9.11it/s]"
          ],
          "name": "stderr"
        },
        {
          "output_type": "stream",
          "text": [
            "\n",
            "Test set: Average loss: 0.0163, Accuracy: 9946/10000 (99.46%)\n",
            "\n",
            "EPOCH: 27\n",
            "Learning rate : 0.0003\n"
          ],
          "name": "stdout"
        },
        {
          "output_type": "stream",
          "text": [
            "Loss=0.005833422765135765 Batch_id=937 Accuracy=99.33: 100%|██████████| 938/938 [01:34<00:00, 10.76it/s]\n",
            "Loss=0.06032376363873482 Batch_id=0 Accuracy=95.31:   0%|          | 1/938 [00:00<01:35,  9.78it/s]"
          ],
          "name": "stderr"
        },
        {
          "output_type": "stream",
          "text": [
            "\n",
            "Test set: Average loss: 0.0164, Accuracy: 9948/10000 (99.48%)\n",
            "\n",
            "EPOCH: 28\n",
            "Learning rate : 0.0003\n"
          ],
          "name": "stdout"
        },
        {
          "output_type": "stream",
          "text": [
            "Loss=0.03262624144554138 Batch_id=937 Accuracy=99.32: 100%|██████████| 938/938 [01:33<00:00, 10.76it/s]\n",
            "Loss=0.007899198681116104 Batch_id=0 Accuracy=100.00:   0%|          | 1/938 [00:00<01:36,  9.68it/s]"
          ],
          "name": "stderr"
        },
        {
          "output_type": "stream",
          "text": [
            "\n",
            "Test set: Average loss: 0.0159, Accuracy: 9945/10000 (99.45%)\n",
            "\n",
            "EPOCH: 29\n",
            "Learning rate : 0.0003\n"
          ],
          "name": "stdout"
        },
        {
          "output_type": "stream",
          "text": [
            "Loss=0.004846307449042797 Batch_id=937 Accuracy=99.32: 100%|██████████| 938/938 [01:34<00:00, 10.92it/s]\n",
            "Loss=0.00535727059468627 Batch_id=1 Accuracy=100.00:   0%|          | 2/938 [00:00<01:28, 10.56it/s]"
          ],
          "name": "stderr"
        },
        {
          "output_type": "stream",
          "text": [
            "\n",
            "Test set: Average loss: 0.0159, Accuracy: 9947/10000 (99.47%)\n",
            "\n",
            "EPOCH: 30\n",
            "Learning rate : 0.0003\n"
          ],
          "name": "stdout"
        },
        {
          "output_type": "stream",
          "text": [
            "Loss=0.10868239402770996 Batch_id=937 Accuracy=99.34: 100%|██████████| 938/938 [01:33<00:00, 10.00it/s]\n",
            "Loss=0.0022798373829573393 Batch_id=0 Accuracy=100.00:   0%|          | 1/938 [00:00<01:38,  9.55it/s]"
          ],
          "name": "stderr"
        },
        {
          "output_type": "stream",
          "text": [
            "\n",
            "Test set: Average loss: 0.0155, Accuracy: 9949/10000 (99.49%)\n",
            "\n",
            "EPOCH: 31\n",
            "Learning rate : 0.0003\n"
          ],
          "name": "stdout"
        },
        {
          "output_type": "stream",
          "text": [
            "Loss=0.0028843532782047987 Batch_id=937 Accuracy=99.33: 100%|██████████| 938/938 [01:32<00:00, 10.17it/s]\n",
            "Loss=0.0033216672018170357 Batch_id=0 Accuracy=100.00:   0%|          | 1/938 [00:00<01:35,  9.79it/s]"
          ],
          "name": "stderr"
        },
        {
          "output_type": "stream",
          "text": [
            "\n",
            "Test set: Average loss: 0.0158, Accuracy: 9948/10000 (99.48%)\n",
            "\n",
            "EPOCH: 32\n",
            "Learning rate : 0.0003\n"
          ],
          "name": "stdout"
        },
        {
          "output_type": "stream",
          "text": [
            "Loss=0.08377304673194885 Batch_id=937 Accuracy=99.31: 100%|██████████| 938/938 [01:39<00:00,  9.42it/s]\n",
            "Loss=0.020700542256236076 Batch_id=0 Accuracy=98.44:   0%|          | 1/938 [00:00<01:35,  9.85it/s]"
          ],
          "name": "stderr"
        },
        {
          "output_type": "stream",
          "text": [
            "\n",
            "Test set: Average loss: 0.0158, Accuracy: 9951/10000 (99.51%)\n",
            "\n",
            "EPOCH: 33\n",
            "Learning rate : 0.0003\n"
          ],
          "name": "stdout"
        },
        {
          "output_type": "stream",
          "text": [
            "Loss=0.03254878893494606 Batch_id=937 Accuracy=99.33: 100%|██████████| 938/938 [01:35<00:00,  9.78it/s]\n",
            "Loss=0.011570482514798641 Batch_id=0 Accuracy=100.00:   0%|          | 1/938 [00:00<01:42,  9.16it/s]"
          ],
          "name": "stderr"
        },
        {
          "output_type": "stream",
          "text": [
            "\n",
            "Test set: Average loss: 0.0158, Accuracy: 9948/10000 (99.48%)\n",
            "\n",
            "EPOCH: 34\n",
            "Learning rate : 0.0003\n"
          ],
          "name": "stdout"
        },
        {
          "output_type": "stream",
          "text": [
            "Loss=0.0680367574095726 Batch_id=937 Accuracy=99.37: 100%|██████████| 938/938 [01:34<00:00, 10.91it/s]\n",
            "Loss=0.07564844936132431 Batch_id=0 Accuracy=98.44:   0%|          | 1/938 [00:00<01:38,  9.47it/s]"
          ],
          "name": "stderr"
        },
        {
          "output_type": "stream",
          "text": [
            "\n",
            "Test set: Average loss: 0.0159, Accuracy: 9946/10000 (99.46%)\n",
            "\n",
            "EPOCH: 35\n",
            "Learning rate : 0.0003\n"
          ],
          "name": "stdout"
        },
        {
          "output_type": "stream",
          "text": [
            "Loss=0.017353802919387817 Batch_id=937 Accuracy=99.36: 100%|██████████| 938/938 [01:33<00:00, 10.02it/s]\n",
            "Loss=0.04383452609181404 Batch_id=1 Accuracy=99.22:   0%|          | 2/938 [00:00<01:30, 10.33it/s]"
          ],
          "name": "stderr"
        },
        {
          "output_type": "stream",
          "text": [
            "\n",
            "Test set: Average loss: 0.0158, Accuracy: 9948/10000 (99.48%)\n",
            "\n",
            "EPOCH: 36\n",
            "Learning rate : 0.0003\n"
          ],
          "name": "stdout"
        },
        {
          "output_type": "stream",
          "text": [
            "Loss=0.06111831218004227 Batch_id=937 Accuracy=99.33: 100%|██████████| 938/938 [01:34<00:00,  9.94it/s]\n",
            "Loss=0.0395473837852478 Batch_id=1 Accuracy=100.00:   0%|          | 2/938 [00:00<01:31, 10.24it/s]"
          ],
          "name": "stderr"
        },
        {
          "output_type": "stream",
          "text": [
            "\n",
            "Test set: Average loss: 0.0159, Accuracy: 9949/10000 (99.49%)\n",
            "\n",
            "EPOCH: 37\n",
            "Learning rate : 0.0003\n"
          ],
          "name": "stdout"
        },
        {
          "output_type": "stream",
          "text": [
            "Loss=0.12884521484375 Batch_id=937 Accuracy=99.33: 100%|██████████| 938/938 [01:34<00:00, 10.85it/s]\n",
            "Loss=0.029546627774834633 Batch_id=1 Accuracy=99.22:   0%|          | 2/938 [00:00<01:31, 10.27it/s]"
          ],
          "name": "stderr"
        },
        {
          "output_type": "stream",
          "text": [
            "\n",
            "Test set: Average loss: 0.0153, Accuracy: 9949/10000 (99.49%)\n",
            "\n",
            "EPOCH: 38\n",
            "Learning rate : 0.0003\n"
          ],
          "name": "stdout"
        },
        {
          "output_type": "stream",
          "text": [
            "Loss=0.00984012521803379 Batch_id=937 Accuracy=99.31: 100%|██████████| 938/938 [01:39<00:00,  9.44it/s]\n",
            "Loss=0.02989974059164524 Batch_id=0 Accuracy=100.00:   0%|          | 1/938 [00:00<01:37,  9.61it/s]"
          ],
          "name": "stderr"
        },
        {
          "output_type": "stream",
          "text": [
            "\n",
            "Test set: Average loss: 0.0161, Accuracy: 9950/10000 (99.50%)\n",
            "\n",
            "EPOCH: 39\n",
            "Learning rate : 0.0003\n"
          ],
          "name": "stdout"
        },
        {
          "output_type": "stream",
          "text": [
            "Loss=0.019397441297769547 Batch_id=937 Accuracy=99.36: 100%|██████████| 938/938 [01:34<00:00,  9.98it/s]\n"
          ],
          "name": "stderr"
        },
        {
          "output_type": "stream",
          "text": [
            "\n",
            "Test set: Average loss: 0.0161, Accuracy: 9947/10000 (99.47%)\n",
            "\n"
          ],
          "name": "stdout"
        }
      ]
    },
    {
      "cell_type": "code",
      "metadata": {
        "id": "rlgkd-5IKHld",
        "colab_type": "code",
        "outputId": "7a5a90ad-ace9-4882-fc68-03674d04bfeb",
        "colab": {
          "base_uri": "https://localhost:8080/",
          "height": 650
        }
      },
      "source": [
        "plot_misclassified(*mis_classfied(model, test_loader), 'Only L2 reg')"
      ],
      "execution_count": 0,
      "outputs": [
        {
          "output_type": "display_data",
          "data": {
            "image/png": "[encoded data removed]",
            "text/plain": [
              "<Figure size 720x720 with 25 Axes>"
            ]
          },
          "metadata": {
            "tags": []
          }
        }
      ]
    },
    {
      "cell_type": "code",
      "metadata": {
        "id": "uHeIkVkZNllA",
        "colab_type": "code",
        "outputId": "a571ebf9-6598-4737-b432-35c864800787",
        "colab": {
          "base_uri": "https://localhost:8080/",
          "height": 1000
        }
      },
      "source": [
        "\n",
        "# Both L2 and L1\n",
        "model = run_epochs(L1_weight_decay=0.0005, L2_weight_decay=0.0005, select_list=3)\n"
      ],
      "execution_count": 45,
      "outputs": [
        {
          "output_type": "stream",
          "text": [
            "Loss=2.338451385498047 Batch_id=0 Accuracy=6.25:   0%|          | 1/938 [00:00<01:47,  8.70it/s]"
          ],
          "name": "stderr"
        },
        {
          "output_type": "stream",
          "text": [
            "EPOCH: 0\n",
            "Learning rate : 0.03\n"
          ],
          "name": "stdout"
        },
        {
          "output_type": "stream",
          "text": [
            "Loss=0.01670289784669876 Batch_id=937 Accuracy=93.29: 100%|██████████| 938/938 [01:38<00:00,  9.50it/s]\n",
            "Loss=0.07959025353193283 Batch_id=0 Accuracy=98.44:   0%|          | 1/938 [00:00<01:41,  9.23it/s]"
          ],
          "name": "stderr"
        },
        {
          "output_type": "stream",
          "text": [
            "\n",
            "Test set: Average loss: 0.0612, Accuracy: 9787/10000 (97.87%)\n",
            "\n",
            "EPOCH: 1\n",
            "Learning rate : 0.03\n"
          ],
          "name": "stdout"
        },
        {
          "output_type": "stream",
          "text": [
            "Loss=0.05499311909079552 Batch_id=937 Accuracy=97.85: 100%|██████████| 938/938 [01:38<00:00,  9.48it/s]\n",
            "Loss=0.05302618443965912 Batch_id=0 Accuracy=96.88:   0%|          | 1/938 [00:00<01:40,  9.32it/s]"
          ],
          "name": "stderr"
        },
        {
          "output_type": "stream",
          "text": [
            "\n",
            "Test set: Average loss: 0.0476, Accuracy: 9867/10000 (98.67%)\n",
            "\n",
            "EPOCH: 2\n",
            "Learning rate : 0.03\n"
          ],
          "name": "stdout"
        },
        {
          "output_type": "stream",
          "text": [
            "Loss=0.035526420921087265 Batch_id=937 Accuracy=98.18: 100%|██████████| 938/938 [01:38<00:00,  9.48it/s]\n",
            "Loss=0.037882089614868164 Batch_id=0 Accuracy=100.00:   0%|          | 1/938 [00:00<01:45,  8.90it/s]"
          ],
          "name": "stderr"
        },
        {
          "output_type": "stream",
          "text": [
            "\n",
            "Test set: Average loss: 0.0332, Accuracy: 9898/10000 (98.98%)\n",
            "\n",
            "EPOCH: 3\n",
            "Learning rate : 0.03\n"
          ],
          "name": "stdout"
        },
        {
          "output_type": "stream",
          "text": [
            "Loss=0.1091838926076889 Batch_id=937 Accuracy=98.33: 100%|██████████| 938/938 [01:42<00:00,  9.18it/s]\n",
            "Loss=0.011342220939695835 Batch_id=0 Accuracy=100.00:   0%|          | 1/938 [00:00<02:00,  7.79it/s]"
          ],
          "name": "stderr"
        },
        {
          "output_type": "stream",
          "text": [
            "\n",
            "Test set: Average loss: 0.0419, Accuracy: 9868/10000 (98.68%)\n",
            "\n",
            "EPOCH: 4\n",
            "Learning rate : 0.03\n"
          ],
          "name": "stdout"
        },
        {
          "output_type": "stream",
          "text": [
            "Loss=0.008066706359386444 Batch_id=937 Accuracy=98.44: 100%|██████████| 938/938 [01:58<00:00,  7.92it/s]\n",
            "Loss=0.02711990475654602 Batch_id=0 Accuracy=98.44:   0%|          | 1/938 [00:00<02:02,  7.63it/s]"
          ],
          "name": "stderr"
        },
        {
          "output_type": "stream",
          "text": [
            "\n",
            "Test set: Average loss: 0.0344, Accuracy: 9906/10000 (99.06%)\n",
            "\n",
            "EPOCH: 5\n",
            "Learning rate : 0.03\n"
          ],
          "name": "stdout"
        },
        {
          "output_type": "stream",
          "text": [
            "Loss=0.23096664249897003 Batch_id=937 Accuracy=98.42: 100%|██████████| 938/938 [01:58<00:00,  7.94it/s]\n",
            "Loss=0.006746659055352211 Batch_id=0 Accuracy=100.00:   0%|          | 1/938 [00:00<02:00,  7.75it/s]"
          ],
          "name": "stderr"
        },
        {
          "output_type": "stream",
          "text": [
            "\n",
            "Test set: Average loss: 0.0386, Accuracy: 9881/10000 (98.81%)\n",
            "\n",
            "EPOCH: 6\n",
            "Learning rate : 0.03\n"
          ],
          "name": "stdout"
        },
        {
          "output_type": "stream",
          "text": [
            "Loss=0.015434939414262772 Batch_id=937 Accuracy=98.51: 100%|██████████| 938/938 [01:56<00:00,  8.04it/s]\n",
            "Loss=0.022084863856434822 Batch_id=0 Accuracy=100.00:   0%|          | 1/938 [00:00<01:58,  7.93it/s]"
          ],
          "name": "stderr"
        },
        {
          "output_type": "stream",
          "text": [
            "\n",
            "Test set: Average loss: 0.0261, Accuracy: 9927/10000 (99.27%)\n",
            "\n",
            "EPOCH: 7\n",
            "Learning rate : 0.03\n"
          ],
          "name": "stdout"
        },
        {
          "output_type": "stream",
          "text": [
            "Loss=0.03362351283431053 Batch_id=937 Accuracy=98.58: 100%|██████████| 938/938 [01:56<00:00,  8.08it/s]\n",
            "Loss=0.01619555428624153 Batch_id=0 Accuracy=98.44:   0%|          | 1/938 [00:00<01:56,  8.01it/s]"
          ],
          "name": "stderr"
        },
        {
          "output_type": "stream",
          "text": [
            "\n",
            "Test set: Average loss: 0.0321, Accuracy: 9903/10000 (99.03%)\n",
            "\n",
            "EPOCH: 8\n",
            "Learning rate : 0.03\n"
          ],
          "name": "stdout"
        },
        {
          "output_type": "stream",
          "text": [
            "Loss=0.046094488352537155 Batch_id=937 Accuracy=98.53: 100%|██████████| 938/938 [01:56<00:00,  8.07it/s]\n",
            "Loss=0.007103848736733198 Batch_id=0 Accuracy=100.00:   0%|          | 1/938 [00:00<01:58,  7.91it/s]"
          ],
          "name": "stderr"
        },
        {
          "output_type": "stream",
          "text": [
            "\n",
            "Test set: Average loss: 0.0255, Accuracy: 9930/10000 (99.30%)\n",
            "\n",
            "EPOCH: 9\n",
            "Learning rate : 0.03\n"
          ],
          "name": "stdout"
        },
        {
          "output_type": "stream",
          "text": [
            "Loss=0.019333796575665474 Batch_id=937 Accuracy=98.55: 100%|██████████| 938/938 [01:51<00:00,  8.45it/s]\n",
            "Loss=0.017601385712623596 Batch_id=0 Accuracy=100.00:   0%|          | 1/938 [00:00<01:55,  8.13it/s]"
          ],
          "name": "stderr"
        },
        {
          "output_type": "stream",
          "text": [
            "\n",
            "Test set: Average loss: 0.0333, Accuracy: 9901/10000 (99.01%)\n",
            "\n",
            "EPOCH: 10\n",
            "Learning rate : 0.003\n"
          ],
          "name": "stdout"
        },
        {
          "output_type": "stream",
          "text": [
            "Loss=0.005533126182854176 Batch_id=937 Accuracy=99.11: 100%|██████████| 938/938 [01:48<00:00,  8.64it/s]\n",
            "Loss=0.08537977933883667 Batch_id=0 Accuracy=96.88:   0%|          | 1/938 [00:00<01:54,  8.17it/s]"
          ],
          "name": "stderr"
        },
        {
          "output_type": "stream",
          "text": [
            "\n",
            "Test set: Average loss: 0.0184, Accuracy: 9946/10000 (99.46%)\n",
            "\n",
            "EPOCH: 11\n",
            "Learning rate : 0.003\n"
          ],
          "name": "stdout"
        },
        {
          "output_type": "stream",
          "text": [
            "Loss=0.06283457577228546 Batch_id=937 Accuracy=99.13: 100%|██████████| 938/938 [01:48<00:00,  8.64it/s]\n",
            "Loss=0.004742474295198917 Batch_id=0 Accuracy=100.00:   0%|          | 1/938 [00:00<01:54,  8.22it/s]"
          ],
          "name": "stderr"
        },
        {
          "output_type": "stream",
          "text": [
            "\n",
            "Test set: Average loss: 0.0178, Accuracy: 9952/10000 (99.52%)\n",
            "\n",
            "EPOCH: 12\n",
            "Learning rate : 0.003\n"
          ],
          "name": "stdout"
        },
        {
          "output_type": "stream",
          "text": [
            "Loss=0.06915152072906494 Batch_id=937 Accuracy=99.14: 100%|██████████| 938/938 [01:49<00:00,  8.55it/s]\n",
            "Loss=0.03453488275408745 Batch_id=0 Accuracy=96.88:   0%|          | 1/938 [00:00<01:51,  8.38it/s]"
          ],
          "name": "stderr"
        },
        {
          "output_type": "stream",
          "text": [
            "\n",
            "Test set: Average loss: 0.0166, Accuracy: 9958/10000 (99.58%)\n",
            "\n",
            "EPOCH: 13\n",
            "Learning rate : 0.003\n"
          ],
          "name": "stdout"
        },
        {
          "output_type": "stream",
          "text": [
            "Loss=0.0036058947443962097 Batch_id=937 Accuracy=99.22: 100%|██████████| 938/938 [01:44<00:00,  8.99it/s]\n",
            "Loss=0.009945935569703579 Batch_id=0 Accuracy=100.00:   0%|          | 1/938 [00:00<01:41,  9.24it/s]"
          ],
          "name": "stderr"
        },
        {
          "output_type": "stream",
          "text": [
            "\n",
            "Test set: Average loss: 0.0170, Accuracy: 9952/10000 (99.52%)\n",
            "\n",
            "EPOCH: 14\n",
            "Learning rate : 0.003\n"
          ],
          "name": "stdout"
        },
        {
          "output_type": "stream",
          "text": [
            "Loss=0.2731477618217468 Batch_id=937 Accuracy=99.21: 100%|██████████| 938/938 [01:38<00:00,  9.54it/s]\n",
            "Loss=0.014857495203614235 Batch_id=1 Accuracy=99.22:   0%|          | 1/938 [00:00<01:34,  9.89it/s] "
          ],
          "name": "stderr"
        },
        {
          "output_type": "stream",
          "text": [
            "\n",
            "Test set: Average loss: 0.0167, Accuracy: 9955/10000 (99.55%)\n",
            "\n",
            "EPOCH: 15\n",
            "Learning rate : 0.003\n"
          ],
          "name": "stdout"
        },
        {
          "output_type": "stream",
          "text": [
            "Loss=0.015948990359902382 Batch_id=937 Accuracy=99.24: 100%|██████████| 938/938 [01:41<00:00,  9.23it/s]\n",
            "Loss=0.04015440121293068 Batch_id=0 Accuracy=98.44:   0%|          | 1/938 [00:00<01:40,  9.32it/s]"
          ],
          "name": "stderr"
        },
        {
          "output_type": "stream",
          "text": [
            "\n",
            "Test set: Average loss: 0.0181, Accuracy: 9948/10000 (99.48%)\n",
            "\n",
            "EPOCH: 16\n",
            "Learning rate : 0.003\n"
          ],
          "name": "stdout"
        },
        {
          "output_type": "stream",
          "text": [
            "Loss=0.032781656831502914 Batch_id=937 Accuracy=99.22: 100%|██████████| 938/938 [01:38<00:00,  9.57it/s]\n",
            "Loss=0.061588987708091736 Batch_id=1 Accuracy=99.22:   0%|          | 1/938 [00:00<01:33,  9.98it/s] "
          ],
          "name": "stderr"
        },
        {
          "output_type": "stream",
          "text": [
            "\n",
            "Test set: Average loss: 0.0164, Accuracy: 9957/10000 (99.57%)\n",
            "\n",
            "EPOCH: 17\n",
            "Learning rate : 0.003\n"
          ],
          "name": "stdout"
        },
        {
          "output_type": "stream",
          "text": [
            "Loss=0.022472204640507698 Batch_id=937 Accuracy=99.23: 100%|██████████| 938/938 [01:38<00:00,  9.56it/s]\n",
            "Loss=0.02384481392800808 Batch_id=0 Accuracy=98.44:   0%|          | 1/938 [00:00<01:54,  8.21it/s]"
          ],
          "name": "stderr"
        },
        {
          "output_type": "stream",
          "text": [
            "\n",
            "Test set: Average loss: 0.0173, Accuracy: 9952/10000 (99.52%)\n",
            "\n",
            "EPOCH: 18\n",
            "Learning rate : 0.003\n"
          ],
          "name": "stdout"
        },
        {
          "output_type": "stream",
          "text": [
            "Loss=0.024512140080332756 Batch_id=937 Accuracy=99.25: 100%|██████████| 938/938 [01:39<00:00,  9.40it/s]\n",
            "Loss=0.0027047116309404373 Batch_id=0 Accuracy=100.00:   0%|          | 1/938 [00:00<01:34,  9.90it/s]"
          ],
          "name": "stderr"
        },
        {
          "output_type": "stream",
          "text": [
            "\n",
            "Test set: Average loss: 0.0169, Accuracy: 9955/10000 (99.55%)\n",
            "\n",
            "EPOCH: 19\n",
            "Learning rate : 0.003\n"
          ],
          "name": "stdout"
        },
        {
          "output_type": "stream",
          "text": [
            "Loss=0.1447151005268097 Batch_id=937 Accuracy=99.23: 100%|██████████| 938/938 [01:38<00:00,  9.55it/s]\n",
            "Loss=0.02301706373691559 Batch_id=0 Accuracy=98.44:   0%|          | 1/938 [00:00<01:38,  9.51it/s]"
          ],
          "name": "stderr"
        },
        {
          "output_type": "stream",
          "text": [
            "\n",
            "Test set: Average loss: 0.0175, Accuracy: 9950/10000 (99.50%)\n",
            "\n",
            "EPOCH: 20\n",
            "Learning rate : 0.003\n"
          ],
          "name": "stdout"
        },
        {
          "output_type": "stream",
          "text": [
            "Loss=0.014437629841268063 Batch_id=937 Accuracy=99.24: 100%|██████████| 938/938 [01:38<00:00,  9.57it/s]\n",
            "Loss=0.010021659545600414 Batch_id=0 Accuracy=100.00:   0%|          | 1/938 [00:00<01:46,  8.78it/s]"
          ],
          "name": "stderr"
        },
        {
          "output_type": "stream",
          "text": [
            "\n",
            "Test set: Average loss: 0.0179, Accuracy: 9952/10000 (99.52%)\n",
            "\n",
            "EPOCH: 21\n",
            "Learning rate : 0.003\n"
          ],
          "name": "stdout"
        },
        {
          "output_type": "stream",
          "text": [
            "Loss=0.004567376337945461 Batch_id=937 Accuracy=99.27: 100%|██████████| 938/938 [01:42<00:00,  3.61it/s]\n",
            "Loss=0.04248015210032463 Batch_id=0 Accuracy=98.44:   0%|          | 1/938 [00:00<01:39,  9.38it/s]"
          ],
          "name": "stderr"
        },
        {
          "output_type": "stream",
          "text": [
            "\n",
            "Test set: Average loss: 0.0194, Accuracy: 9950/10000 (99.50%)\n",
            "\n",
            "EPOCH: 22\n",
            "Learning rate : 0.003\n"
          ],
          "name": "stdout"
        },
        {
          "output_type": "stream",
          "text": [
            "Loss=0.0073099019937217236 Batch_id=937 Accuracy=99.28: 100%|██████████| 938/938 [01:37<00:00, 10.76it/s]\n",
            "Loss=0.012708140537142754 Batch_id=0 Accuracy=100.00:   0%|          | 1/938 [00:00<01:40,  9.29it/s]"
          ],
          "name": "stderr"
        },
        {
          "output_type": "stream",
          "text": [
            "\n",
            "Test set: Average loss: 0.0171, Accuracy: 9949/10000 (99.49%)\n",
            "\n",
            "EPOCH: 23\n",
            "Learning rate : 0.003\n"
          ],
          "name": "stdout"
        },
        {
          "output_type": "stream",
          "text": [
            "Loss=0.005045464262366295 Batch_id=937 Accuracy=99.29: 100%|██████████| 938/938 [01:37<00:00,  9.60it/s]\n",
            "Loss=0.039854057133197784 Batch_id=0 Accuracy=98.44:   0%|          | 1/938 [00:00<01:38,  9.49it/s]"
          ],
          "name": "stderr"
        },
        {
          "output_type": "stream",
          "text": [
            "\n",
            "Test set: Average loss: 0.0159, Accuracy: 9956/10000 (99.56%)\n",
            "\n",
            "EPOCH: 24\n",
            "Learning rate : 0.003\n"
          ],
          "name": "stdout"
        },
        {
          "output_type": "stream",
          "text": [
            "Loss=0.11932581663131714 Batch_id=937 Accuracy=99.30: 100%|██████████| 938/938 [01:37<00:00,  9.64it/s]\n",
            "Loss=0.002848265925422311 Batch_id=0 Accuracy=100.00:   0%|          | 1/938 [00:00<01:36,  9.75it/s]"
          ],
          "name": "stderr"
        },
        {
          "output_type": "stream",
          "text": [
            "\n",
            "Test set: Average loss: 0.0172, Accuracy: 9954/10000 (99.54%)\n",
            "\n",
            "EPOCH: 25\n",
            "Learning rate : 0.0003\n"
          ],
          "name": "stdout"
        },
        {
          "output_type": "stream",
          "text": [
            "Loss=0.0040453034453094006 Batch_id=937 Accuracy=99.31: 100%|██████████| 938/938 [01:37<00:00,  9.62it/s]\n",
            "Loss=0.04373648762702942 Batch_id=0 Accuracy=98.44:   0%|          | 1/938 [00:00<01:45,  8.92it/s]"
          ],
          "name": "stderr"
        },
        {
          "output_type": "stream",
          "text": [
            "\n",
            "Test set: Average loss: 0.0169, Accuracy: 9954/10000 (99.54%)\n",
            "\n",
            "EPOCH: 26\n",
            "Learning rate : 0.0003\n"
          ],
          "name": "stdout"
        },
        {
          "output_type": "stream",
          "text": [
            "Loss=0.12384793162345886 Batch_id=937 Accuracy=99.31: 100%|██████████| 938/938 [01:39<00:00,  9.47it/s]\n",
            "Loss=0.010854276828467846 Batch_id=1 Accuracy=99.22:   0%|          | 0/938 [00:00<?, ?it/s]"
          ],
          "name": "stderr"
        },
        {
          "output_type": "stream",
          "text": [
            "\n",
            "Test set: Average loss: 0.0155, Accuracy: 9960/10000 (99.60%)\n",
            "\n",
            "EPOCH: 27\n",
            "Learning rate : 0.0003\n"
          ],
          "name": "stdout"
        },
        {
          "output_type": "stream",
          "text": [
            "Loss=0.002516896231099963 Batch_id=937 Accuracy=99.35: 100%|██████████| 938/938 [01:42<00:00,  9.19it/s]\n",
            "Loss=0.010839622467756271 Batch_id=0 Accuracy=100.00:   0%|          | 1/938 [00:00<01:43,  9.03it/s]"
          ],
          "name": "stderr"
        },
        {
          "output_type": "stream",
          "text": [
            "\n",
            "Test set: Average loss: 0.0155, Accuracy: 9956/10000 (99.56%)\n",
            "\n",
            "EPOCH: 28\n",
            "Learning rate : 0.0003\n"
          ],
          "name": "stdout"
        },
        {
          "output_type": "stream",
          "text": [
            "Loss=0.008157511241734028 Batch_id=937 Accuracy=99.38: 100%|██████████| 938/938 [01:36<00:00,  9.67it/s]\n",
            "Loss=0.04048850014805794 Batch_id=0 Accuracy=98.44:   0%|          | 1/938 [00:00<01:47,  8.72it/s]"
          ],
          "name": "stderr"
        },
        {
          "output_type": "stream",
          "text": [
            "\n",
            "Test set: Average loss: 0.0159, Accuracy: 9957/10000 (99.57%)\n",
            "\n",
            "EPOCH: 29\n",
            "Learning rate : 0.0003\n"
          ],
          "name": "stdout"
        },
        {
          "output_type": "stream",
          "text": [
            "Loss=0.026241488754749298 Batch_id=937 Accuracy=99.36: 100%|██████████| 938/938 [01:38<00:00,  9.54it/s]\n",
            "Loss=0.02549465373158455 Batch_id=0 Accuracy=98.44:   0%|          | 1/938 [00:00<01:41,  9.21it/s]"
          ],
          "name": "stderr"
        },
        {
          "output_type": "stream",
          "text": [
            "\n",
            "Test set: Average loss: 0.0156, Accuracy: 9959/10000 (99.59%)\n",
            "\n",
            "EPOCH: 30\n",
            "Learning rate : 0.0003\n"
          ],
          "name": "stdout"
        },
        {
          "output_type": "stream",
          "text": [
            "Loss=0.01281337346881628 Batch_id=937 Accuracy=99.34: 100%|██████████| 938/938 [01:38<00:00,  9.55it/s]\n",
            "Loss=0.005949771963059902 Batch_id=0 Accuracy=100.00:   0%|          | 1/938 [00:00<01:39,  9.38it/s]"
          ],
          "name": "stderr"
        },
        {
          "output_type": "stream",
          "text": [
            "\n",
            "Test set: Average loss: 0.0165, Accuracy: 9957/10000 (99.57%)\n",
            "\n",
            "EPOCH: 31\n",
            "Learning rate : 0.0003\n"
          ],
          "name": "stdout"
        },
        {
          "output_type": "stream",
          "text": [
            "Loss=0.01203806884586811 Batch_id=937 Accuracy=99.38: 100%|██████████| 938/938 [01:36<00:00,  9.70it/s]\n",
            "Loss=0.021153202280402184 Batch_id=0 Accuracy=98.44:   0%|          | 1/938 [00:00<01:39,  9.44it/s]"
          ],
          "name": "stderr"
        },
        {
          "output_type": "stream",
          "text": [
            "\n",
            "Test set: Average loss: 0.0155, Accuracy: 9958/10000 (99.58%)\n",
            "\n",
            "EPOCH: 32\n",
            "Learning rate : 0.0003\n"
          ],
          "name": "stdout"
        },
        {
          "output_type": "stream",
          "text": [
            "Loss=0.024088244885206223 Batch_id=937 Accuracy=99.43: 100%|██████████| 938/938 [01:36<00:00,  9.71it/s]\n",
            "Loss=0.003968539647758007 Batch_id=0 Accuracy=100.00:   0%|          | 1/938 [00:00<01:41,  9.19it/s]"
          ],
          "name": "stderr"
        },
        {
          "output_type": "stream",
          "text": [
            "\n",
            "Test set: Average loss: 0.0155, Accuracy: 9961/10000 (99.61%)\n",
            "\n",
            "EPOCH: 33\n",
            "Learning rate : 0.0003\n"
          ],
          "name": "stdout"
        },
        {
          "output_type": "stream",
          "text": [
            "Loss=0.018379801884293556 Batch_id=937 Accuracy=99.31: 100%|██████████| 938/938 [01:36<00:00, 11.02it/s]\n",
            "Loss=0.06673505157232285 Batch_id=0 Accuracy=98.44:   0%|          | 1/938 [00:00<01:36,  9.70it/s]"
          ],
          "name": "stderr"
        },
        {
          "output_type": "stream",
          "text": [
            "\n",
            "Test set: Average loss: 0.0152, Accuracy: 9962/10000 (99.62%)\n",
            "\n",
            "EPOCH: 34\n",
            "Learning rate : 0.0003\n"
          ],
          "name": "stdout"
        },
        {
          "output_type": "stream",
          "text": [
            "Loss=0.01189797930419445 Batch_id=937 Accuracy=99.37: 100%|██████████| 938/938 [01:42<00:00,  9.13it/s]\n",
            "Loss=0.032098960131406784 Batch_id=0 Accuracy=98.44:   0%|          | 1/938 [00:00<01:47,  8.73it/s]"
          ],
          "name": "stderr"
        },
        {
          "output_type": "stream",
          "text": [
            "\n",
            "Test set: Average loss: 0.0158, Accuracy: 9955/10000 (99.55%)\n",
            "\n",
            "EPOCH: 35\n",
            "Learning rate : 0.0003\n"
          ],
          "name": "stdout"
        },
        {
          "output_type": "stream",
          "text": [
            "Loss=0.03610784932971001 Batch_id=937 Accuracy=99.36: 100%|██████████| 938/938 [01:36<00:00,  9.69it/s]\n",
            "Loss=0.04054004326462746 Batch_id=0 Accuracy=98.44:   0%|          | 1/938 [00:00<01:43,  9.08it/s]"
          ],
          "name": "stderr"
        },
        {
          "output_type": "stream",
          "text": [
            "\n",
            "Test set: Average loss: 0.0153, Accuracy: 9959/10000 (99.59%)\n",
            "\n",
            "EPOCH: 36\n",
            "Learning rate : 0.0003\n"
          ],
          "name": "stdout"
        },
        {
          "output_type": "stream",
          "text": [
            "Loss=0.14988087117671967 Batch_id=937 Accuracy=99.38: 100%|██████████| 938/938 [01:37<00:00,  9.59it/s]\n",
            "Loss=0.018643110990524292 Batch_id=1 Accuracy=100.00:   0%|          | 2/938 [00:00<01:29, 10.40it/s]"
          ],
          "name": "stderr"
        },
        {
          "output_type": "stream",
          "text": [
            "\n",
            "Test set: Average loss: 0.0162, Accuracy: 9958/10000 (99.58%)\n",
            "\n",
            "EPOCH: 37\n",
            "Learning rate : 0.0003\n"
          ],
          "name": "stdout"
        },
        {
          "output_type": "stream",
          "text": [
            "Loss=0.07619043439626694 Batch_id=937 Accuracy=99.36: 100%|██████████| 938/938 [01:37<00:00,  9.66it/s]\n",
            "Loss=0.02071485109627247 Batch_id=0 Accuracy=98.44:   0%|          | 1/938 [00:00<01:34,  9.88it/s]"
          ],
          "name": "stderr"
        },
        {
          "output_type": "stream",
          "text": [
            "\n",
            "Test set: Average loss: 0.0161, Accuracy: 9957/10000 (99.57%)\n",
            "\n",
            "EPOCH: 38\n",
            "Learning rate : 0.0003\n"
          ],
          "name": "stdout"
        },
        {
          "output_type": "stream",
          "text": [
            "Loss=0.002285524969920516 Batch_id=937 Accuracy=99.38: 100%|██████████| 938/938 [01:36<00:00,  9.76it/s]\n",
            "Loss=0.0036427974700927734 Batch_id=0 Accuracy=100.00:   0%|          | 1/938 [00:00<01:39,  9.41it/s]"
          ],
          "name": "stderr"
        },
        {
          "output_type": "stream",
          "text": [
            "\n",
            "Test set: Average loss: 0.0156, Accuracy: 9961/10000 (99.61%)\n",
            "\n",
            "EPOCH: 39\n",
            "Learning rate : 0.0003\n"
          ],
          "name": "stdout"
        },
        {
          "output_type": "stream",
          "text": [
            "Loss=0.028341710567474365 Batch_id=937 Accuracy=99.36: 100%|██████████| 938/938 [01:36<00:00,  9.76it/s]\n"
          ],
          "name": "stderr"
        },
        {
          "output_type": "stream",
          "text": [
            "\n",
            "Test set: Average loss: 0.0157, Accuracy: 9961/10000 (99.61%)\n",
            "\n"
          ],
          "name": "stdout"
        }
      ]
    },
    {
      "cell_type": "code",
      "metadata": {
        "id": "Gga-Xnm7cx31",
        "colab_type": "code",
        "colab": {
          "base_uri": "https://localhost:8080/",
          "height": 650
        },
        "outputId": "bd29ff8c-781d-47bd-85fc-32f3fe277ca3"
      },
      "source": [
        "plot_misclassified(*mis_classfied(model, test_loader), 'Both L1 and L2 reg')"
      ],
      "execution_count": 46,
      "outputs": [
        {
          "output_type": "display_data",
          "data": {
            "image/png": "[encoded data removed]",
            "text/plain": [
              "<Figure size 720x720 with 25 Axes>"
            ]
          },
          "metadata": {
            "tags": []
          }
        }
      ]
    },
    {
      "cell_type": "code",
      "metadata": {
        "id": "wy2gKYnWNsdi",
        "colab_type": "code",
        "colab": {
          "base_uri": "https://localhost:8080/",
          "height": 1000
        },
        "outputId": "490ba38d-3c30-485d-84b1-b56188cf207f"
      },
      "source": [
        "plot_history(test_losses, labels, title='Test Losses', ylabel='Loss', save=1)\n",
        "plot_history(train_losses, labels, title='Train Losses', ylabel='Loss')\n",
        "plot_history(test_acc, labels, title='Test Accuracy', ylabel='Accuracy')\n",
        "plot_history(train_acc, labels, title='Train Accuracy', ylabel='Accuracy')"
      ],
      "execution_count": 47,
      "outputs": [
        {
          "output_type": "stream",
          "text": [
            "Fig Saved\n"
          ],
          "name": "stdout"
        },
        {
          "output_type": "display_data",
          "data": {
            "image/png": "[encoded data removed]",
            "text/plain": [
              "<Figure size 432x288 with 1 Axes>"
            ]
          },
          "metadata": {
            "tags": []
          }
        },
        {
          "output_type": "display_data",
          "data": {
            "image/png": "[encoded data removed]",
            "text/plain": [
              "<Figure size 432x288 with 1 Axes>"
            ]
          },
          "metadata": {
            "tags": []
          }
        },
        {
          "output_type": "display_data",
          "data": {
            "image/png": "[encoded data removed]",
            "text/plain": [
              "<Figure size 432x288 with 1 Axes>"
            ]
          },
          "metadata": {
            "tags": []
          }
        },
        {
          "output_type": "display_data",
          "data": {
            "image/png": "[encoded data removed]",
            "text/plain": [
              "<Figure size 432x288 with 1 Axes>"
            ]
          },
          "metadata": {
            "tags": []
          }
        }
      ]
    },
    {
      "cell_type": "code",
      "metadata": {
        "id": "QKoWB7muKQn9",
        "colab_type": "code",
        "colab": {}
      },
      "source": [
        ""
      ],
      "execution_count": 0,
      "outputs": []
    },
    {
      "cell_type": "code",
      "metadata": {
        "id": "lvrSVM8fMIUe",
        "colab_type": "code",
        "colab": {}
      },
      "source": [
        ""
      ],
      "execution_count": 0,
      "outputs": []
    },
    {
      "cell_type": "code",
      "metadata": {
        "id": "HQNDUERqMI2o",
        "colab_type": "code",
        "colab": {}
      },
      "source": [
        ""
      ],
      "execution_count": 0,
      "outputs": []
    },
    {
      "cell_type": "code",
      "metadata": {
        "id": "3P7ALukuMI6f",
        "colab_type": "code",
        "colab": {}
      },
      "source": [
        ""
      ],
      "execution_count": 0,
      "outputs": []
    }
  ]
}