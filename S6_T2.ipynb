{
  "nbformat": 4,
  "nbformat_minor": 0,
  "metadata": {
    "colab": {
      "name": "S6-T2.ipynb",
      "provenance": [],
      "collapsed_sections": [],
      "authorship_tag": "ABX9TyNOZ9EmRcoUHuK9wT0805hS",
      "include_colab_link": true
    },
    "kernelspec": {
      "name": "python3",
      "display_name": "Python 3"
    }
  },
  "cells": [
    {
      "cell_type": "markdown",
      "metadata": {
        "id": "view-in-github",
        "colab_type": "text"
      },
      "source": [
        "<a href=\"https://colab.research.google.com/github/bharathts1507/TSAI-Assignments-EVA4/blob/master/S6_T2.ipynb\" target=\"_parent\"><img src=\"https://colab.research.google.com/assets/colab-badge.svg\" alt=\"Open In Colab\"/></a>"
      ]
    },
    {
      "cell_type": "code",
      "metadata": {
        "id": "BDBIw7jrF-0c",
        "colab_type": "code",
        "colab": {}
      },
      "source": [
        "from __future__ import print_function\n",
        "import torch\n",
        "import torch.nn as nn\n",
        "import torch.nn.functional as F\n",
        "import torch.optim as optim\n",
        "from torchvision import datasets, transforms\n",
        "import numpy as np\n",
        "%matplotlib inline\n",
        "import matplotlib.pyplot as plt"
      ],
      "execution_count": 0,
      "outputs": []
    },
    {
      "cell_type": "code",
      "metadata": {
        "id": "l5epfqZPGDg3",
        "colab_type": "code",
        "colab": {}
      },
      "source": [
        "# Train Phase transformations\n",
        "train_transforms = transforms.Compose([\n",
        "                                      #  transforms.Resize((28, 28)),\n",
        "                                      #  transforms.ColorJitter(brightness=0.10, contrast=0.1, saturation=0.10, hue=0.1),\n",
        "                                       transforms.RandomRotation((-7.0, 7.0), fill=(1,)),\n",
        "                                       transforms.ToTensor(),\n",
        "                                       transforms.Normalize((0.1307,), (0.3081,)) # The mean and std have to be sequences (e.g., tuples), therefore you should add a comma after the values. \n",
        "                                       # Note the difference between (0.1307) and (0.1307,)\n",
        "                                       ])\n",
        "\n",
        "# Test Phase transformations\n",
        "test_transforms = transforms.Compose([\n",
        "                                      #  transforms.Resize((28, 28)),\n",
        "                                      #  transforms.ColorJitter(brightness=0.10, contrast=0.1, saturation=0.10, hue=0.1),\n",
        "                                       transforms.ToTensor(),\n",
        "                                       transforms.Normalize((0.1307,), (0.3081,))\n",
        "                                       ])\n"
      ],
      "execution_count": 0,
      "outputs": []
    },
    {
      "cell_type": "code",
      "metadata": {
        "id": "dgd-T-dGGDkX",
        "colab_type": "code",
        "colab": {}
      },
      "source": [
        "train = datasets.MNIST('./data', train=True, download=True, transform=train_transforms)\n",
        "test = datasets.MNIST('./data', train=False, download=True, transform=test_transforms)"
      ],
      "execution_count": 0,
      "outputs": []
    },
    {
      "cell_type": "code",
      "metadata": {
        "id": "r3Ie6WBGGDnX",
        "colab_type": "code",
        "outputId": "d6196d53-9dd8-48ce-9109-a35bf1001246",
        "colab": {
          "base_uri": "https://localhost:8080/",
          "height": 34
        }
      },
      "source": [
        "SEED = 1\n",
        "\n",
        "# CUDA?\n",
        "cuda = torch.cuda.is_available()\n",
        "print(\"CUDA Available?\", cuda)\n",
        "\n",
        "# For reproducibility\n",
        "torch.manual_seed(SEED)\n",
        "\n",
        "if cuda:\n",
        "    torch.cuda.manual_seed(SEED)\n",
        "\n",
        "# dataloader arguments - something you'll fetch these from cmdprmt\n",
        "dataloader_args = dict(shuffle=True, batch_size=128, num_workers=4, pin_memory=True) if cuda else dict(shuffle=True, batch_size=64)\n",
        "\n",
        "# train dataloader\n",
        "train_loader = torch.utils.data.DataLoader(train, **dataloader_args)\n",
        "\n",
        "# test dataloader\n",
        "test_loader = torch.utils.data.DataLoader(test, **dataloader_args)"
      ],
      "execution_count": 4,
      "outputs": [
        {
          "output_type": "stream",
          "text": [
            "CUDA Available? False\n"
          ],
          "name": "stdout"
        }
      ]
    },
    {
      "cell_type": "code",
      "metadata": {
        "id": "2YY6RxY6GlFp",
        "colab_type": "code",
        "colab": {}
      },
      "source": [
        "\n",
        "dropout_value = 0.04\n",
        "class Net(nn.Module):\n",
        "    def __init__(self):\n",
        "        super(Net, self).__init__()\n",
        "        # Input Convolution Block\n",
        "        self.convblock1 = nn.Sequential(\n",
        "            nn.Conv2d(in_channels=1, out_channels=10, kernel_size=(3, 3), padding=1, bias=False),\n",
        "            nn.BatchNorm2d(10),\n",
        "            nn.Dropout(dropout_value),\n",
        "            nn.ReLU()\n",
        "        ) # input_side = 28, output_size = 28, RF = 3\n",
        "\n",
        "        # CONVOLUTION BLOCK 1\n",
        "        self.convblock2 = nn.Sequential(\n",
        "            nn.Conv2d(in_channels=10, out_channels=10, kernel_size=(3, 3), padding=1, bias=False),\n",
        "            nn.BatchNorm2d(10),\n",
        "            nn.Dropout(dropout_value),\n",
        "            nn.ReLU()\n",
        "        ) # output_size = 28, RF = 5\n",
        "\n",
        "        # TRANSITION BLOCK 1\n",
        "        self.pool1 = nn.MaxPool2d(2, 2) # output_size = 12, RF = 6\n",
        "\n",
        "        self.convblock3 = nn.Sequential(\n",
        "            nn.Conv2d(in_channels=10, out_channels=10, kernel_size=(3, 3), padding=0, bias=False),\n",
        "            nn.BatchNorm2d(10),\n",
        "            nn.Dropout(dropout_value),\n",
        "            nn.ReLU()\n",
        "        ) # output_size = 12, RF = 10\n",
        "\n",
        "        # CONVOLUTION BLOCK 2\n",
        "        self.convblock4 = nn.Sequential(\n",
        "            nn.Conv2d(in_channels=10, out_channels=10, kernel_size=(3, 3), padding=0, bias=False),\n",
        "            nn.BatchNorm2d(10),\n",
        "            nn.ReLU()\n",
        "        ) # output_size = 10, RF = 14\n",
        "        self.convblock5 = nn.Sequential(\n",
        "            nn.Conv2d(in_channels=10, out_channels=10, kernel_size=(3, 3), padding=0, bias=False),\n",
        "            nn.BatchNorm2d(10),\n",
        "            nn.Dropout(dropout_value),\n",
        "            nn.ReLU()\n",
        "        ) # output_size = 8, RF = 18\n",
        "\n",
        "        self.convblock6 = nn.Sequential(\n",
        "            nn.Conv2d(in_channels=10, out_channels=16, kernel_size=(3, 3), padding=0, bias=False),\n",
        "            nn.BatchNorm2d(16),\n",
        "            nn.Dropout(dropout_value),\n",
        "            nn.ReLU()\n",
        "        ) # output_size = 6, RF = 22\n",
        "\n",
        "        self.convblock7 = nn.Sequential(\n",
        "            nn.Conv2d(in_channels=16, out_channels=16, kernel_size=(3, 3), padding=0, bias=False),\n",
        "            nn.BatchNorm2d(16),\n",
        "            nn.Dropout(dropout_value),\n",
        "            nn.ReLU()\n",
        "        ) # output_size = 4, RF = 26\n",
        "\n",
        "        # OUTPUT BLOCK\n",
        "        self.gap = nn.AvgPool2d(kernel_size=(4,4)) \n",
        "\n",
        "        self.convblock8 = nn.Sequential(\n",
        "            nn.Conv2d(in_channels=16, out_channels=10, kernel_size=(1, 1), padding=0, bias=False),\n",
        "            # nn.ReLU() NEVER!\n",
        "        ) # output_size = 1, RF = 26\n",
        "\n",
        "    def forward(self, x):\n",
        "        x = self.convblock1(x)\n",
        "        x = self.convblock2(x)\n",
        "        x = self.pool1(x)\n",
        "        x = self.convblock3(x)\n",
        "        x = self.convblock4(x)\n",
        "        x = self.convblock5(x)\n",
        "        x = self.convblock6(x)\n",
        "        x = self.convblock7(x)\n",
        "        x = self.gap(x)\n",
        "        x = self.convblock8(x)\n",
        "        x = x.view(-1, 10)\n",
        "        return F.log_softmax(x, dim=-1)"
      ],
      "execution_count": 0,
      "outputs": []
    },
    {
      "cell_type": "code",
      "metadata": {
        "id": "UG2iWjUGGDqY",
        "colab_type": "code",
        "colab": {}
      },
      "source": [
        "# import torch.nn.functional as F\n",
        "# dropout_value = 0.1\n",
        "# class Net(nn.Module):\n",
        "#     def __init__(self):\n",
        "#         super(Net, self).__init__()\n",
        "#         # Input Block\n",
        "#         self.convblock1 = nn.Sequential(\n",
        "#             nn.Conv2d(in_channels=1, out_channels=10, kernel_size=(3, 3), padding=1, bias=False),\n",
        "#             nn.ReLU(),\n",
        "#             nn.BatchNorm2d(10),\n",
        "#             nn.Dropout(dropout_value)\n",
        "#         ) # output_size = 26, RF=3\n",
        "\n",
        "#         # CONVOLUTION BLOCK 1\n",
        "#         self.convblock2 = nn.Sequential(\n",
        "#             nn.Conv2d(in_channels=10, out_channels=20, kernel_size=(3, 3), padding=1, bias=False),\n",
        "#             nn.ReLU(),\n",
        "#             nn.BatchNorm2d(20),\n",
        "#             nn.Dropout(dropout_value)\n",
        "#         ) # output_size = 24, RF=5\n",
        "\n",
        "#         # TRANSITION BLOCK 1\n",
        "#         self.convblock3 = nn.Sequential(\n",
        "#             nn.Conv2d(in_channels=20, out_channels=10, kernel_size=(1, 1), padding=0, bias=False),\n",
        "#         ) # output_size = 24\n",
        "#         self.pool1 = nn.MaxPool2d(2, 2) # output_size = 12, RF=5, step=2\n",
        "\n",
        "#         # CONVOLUTION BLOCK 2\n",
        "#         self.convblock4 = nn.Sequential(\n",
        "#             nn.Conv2d(in_channels=10, out_channels=20, kernel_size=(3, 3), padding=0, bias=False),\n",
        "#             nn.ReLU(),            \n",
        "#             nn.BatchNorm2d(20),\n",
        "#             nn.Dropout(dropout_value)\n",
        "#         ) # output_size = 12, RF=9, step=2\n",
        "#         self.convblock5 = nn.Sequential(\n",
        "#             nn.Conv2d(in_channels=20, out_channels=32, kernel_size=(3, 3), padding=0, bias=False),\n",
        "#             nn.ReLU(),            \n",
        "#             nn.BatchNorm2d(32),\n",
        "#             nn.Dropout(dropout_value)\n",
        "#         ) # output_size = 6, RF=13, step=2\n",
        "#         # self.convblock6 = nn.Sequential(\n",
        "#         #     nn.Conv2d(in_channels=32, out_channels=16, kernel_size=(3, 3), padding=0, bias=False),\n",
        "#         #     nn.ReLU(),            \n",
        "#         #     nn.BatchNorm2d(16),\n",
        "#         #     nn.Dropout(dropout_value)\n",
        "#         # ) # output_size = 6\n",
        "#         # self.convblock7 = nn.Sequential(\n",
        "#         #     nn.Conv2d(in_channels=16, out_channels=16, kernel_size=(3, 3), padding=1, bias=False),\n",
        "#         #     nn.ReLU(),            \n",
        "#         #     nn.BatchNorm2d(16),\n",
        "#         #     nn.Dropout(dropout_value)\n",
        "#         # ) # output_size = 6\n",
        "        \n",
        "#         # OUTPUT BLOCK\n",
        "#         self.gap = nn.Sequential(\n",
        "#             nn.AvgPool2d(kernel_size=6)\n",
        "#         ) # output_size = 1, RF= 23, step=2\n",
        "\n",
        "#         self.convblock8 = nn.Sequential(\n",
        "#             nn.Conv2d(in_channels=32, out_channels=10, kernel_size=(1, 1), padding=0, bias=False),\n",
        "#             # nn.BatchNorm2d(10),\n",
        "#             # nn.ReLU(),\n",
        "#             # nn.Dropout(dropout_value)\n",
        "#         ) \n",
        "\n",
        "\n",
        "#         self.dropout = nn.Dropout(dropout_value)\n",
        "\n",
        "#     def forward(self, x):\n",
        "#         x = self.convblock1(x)\n",
        "#         x = self.convblock2(x)\n",
        "#         x = self.convblock3(x)\n",
        "#         x = self.pool1(x)\n",
        "#         x = self.convblock4(x)\n",
        "#         x = self.convblock5(x)\n",
        "#         # x = self.convblock6(x)\n",
        "#         # x = self.convblock7(x)\n",
        "#         x = self.gap(x)        \n",
        "#         x = self.convblock8(x)\n",
        "\n",
        "#         x = x.view(-1, 10)\n",
        "#         return F.log_softmax(x, dim=-1)"
      ],
      "execution_count": 0,
      "outputs": []
    },
    {
      "cell_type": "code",
      "metadata": {
        "id": "3xWEA4tUGDtf",
        "colab_type": "code",
        "outputId": "8dd908a7-cbde-4cbe-dde7-ff48d757b4ef",
        "colab": {
          "base_uri": "https://localhost:8080/",
          "height": 782
        }
      },
      "source": [
        "!pip install torchsummary\n",
        "from torchsummary import summary\n",
        "use_cuda = torch.cuda.is_available()\n",
        "device = torch.device(\"cuda\" if use_cuda else \"cpu\")\n",
        "print(device)\n",
        "model = Net().to(device)\n",
        "summary(model, input_size=(1, 28, 28))"
      ],
      "execution_count": 7,
      "outputs": [
        {
          "output_type": "stream",
          "text": [
            "Requirement already satisfied: torchsummary in /usr/local/lib/python3.6/dist-packages (1.5.1)\n",
            "cpu\n",
            "----------------------------------------------------------------\n",
            "        Layer (type)               Output Shape         Param #\n",
            "================================================================\n",
            "            Conv2d-1           [-1, 10, 28, 28]              90\n",
            "       BatchNorm2d-2           [-1, 10, 28, 28]              20\n",
            "           Dropout-3           [-1, 10, 28, 28]               0\n",
            "              ReLU-4           [-1, 10, 28, 28]               0\n",
            "            Conv2d-5           [-1, 10, 28, 28]             900\n",
            "       BatchNorm2d-6           [-1, 10, 28, 28]              20\n",
            "           Dropout-7           [-1, 10, 28, 28]               0\n",
            "              ReLU-8           [-1, 10, 28, 28]               0\n",
            "         MaxPool2d-9           [-1, 10, 14, 14]               0\n",
            "           Conv2d-10           [-1, 10, 12, 12]             900\n",
            "      BatchNorm2d-11           [-1, 10, 12, 12]              20\n",
            "          Dropout-12           [-1, 10, 12, 12]               0\n",
            "             ReLU-13           [-1, 10, 12, 12]               0\n",
            "           Conv2d-14           [-1, 10, 10, 10]             900\n",
            "      BatchNorm2d-15           [-1, 10, 10, 10]              20\n",
            "             ReLU-16           [-1, 10, 10, 10]               0\n",
            "           Conv2d-17             [-1, 10, 8, 8]             900\n",
            "      BatchNorm2d-18             [-1, 10, 8, 8]              20\n",
            "          Dropout-19             [-1, 10, 8, 8]               0\n",
            "             ReLU-20             [-1, 10, 8, 8]               0\n",
            "           Conv2d-21             [-1, 16, 6, 6]           1,440\n",
            "      BatchNorm2d-22             [-1, 16, 6, 6]              32\n",
            "          Dropout-23             [-1, 16, 6, 6]               0\n",
            "             ReLU-24             [-1, 16, 6, 6]               0\n",
            "           Conv2d-25             [-1, 16, 4, 4]           2,304\n",
            "      BatchNorm2d-26             [-1, 16, 4, 4]              32\n",
            "          Dropout-27             [-1, 16, 4, 4]               0\n",
            "             ReLU-28             [-1, 16, 4, 4]               0\n",
            "        AvgPool2d-29             [-1, 16, 1, 1]               0\n",
            "           Conv2d-30             [-1, 10, 1, 1]             160\n",
            "================================================================\n",
            "Total params: 7,758\n",
            "Trainable params: 7,758\n",
            "Non-trainable params: 0\n",
            "----------------------------------------------------------------\n",
            "Input size (MB): 0.00\n",
            "Forward/backward pass size (MB): 0.61\n",
            "Params size (MB): 0.03\n",
            "Estimated Total Size (MB): 0.64\n",
            "----------------------------------------------------------------\n"
          ],
          "name": "stdout"
        }
      ]
    },
    {
      "cell_type": "code",
      "metadata": {
        "id": "MyYmGhK7GDwj",
        "colab_type": "code",
        "colab": {}
      },
      "source": [
        "# from tqdm import tqdm\n",
        "\n",
        "# train_losses = []\n",
        "# test_losses = []\n",
        "# train_acc = []\n",
        "# test_acc = []\n",
        "\n",
        "# def train(model, device, train_loader, optimizer, epoch):\n",
        "#   model.train()\n",
        "#   pbar = tqdm(train_loader)\n",
        "#   correct = 0\n",
        "#   processed = 0\n",
        "#   for batch_idx, (data, target) in enumerate(pbar):\n",
        "#     # get samples\n",
        "#     data, target = data.to(device), target.to(device)\n",
        "\n",
        "#     # Init\n",
        "#     optimizer.zero_grad()\n",
        "#     # In PyTorch, we need to set the gradients to zero before starting to do backpropragation because PyTorch accumulates the gradients on subsequent backward passes. \n",
        "#     # Because of this, when you start your training loop, ideally you should zero out the gradients so that you do the parameter update correctly.\n",
        "\n",
        "#     # Predict\n",
        "#     y_pred = model(data)\n",
        "\n",
        "#     # Calculate loss\n",
        "#     loss = F.nll_loss(y_pred, target)\n",
        "#     train_losses.append(loss)\n",
        "\n",
        "#     # Backpropagation\n",
        "#     loss.backward()\n",
        "#     optimizer.step()\n",
        "\n",
        "#     # Update pbar-tqdm\n",
        "    \n",
        "#     pred = y_pred.argmax(dim=1, keepdim=True)  # get the index of the max log-probability\n",
        "#     correct += pred.eq(target.view_as(pred)).sum().item()\n",
        "#     processed += len(data)\n",
        "\n",
        "#     # print('\\nTrain set: Average loss: {:.4f}, Accuracy: {}/{} ({:.2f}%)\\n'.format(\n",
        "#     #     loss, correct, len(train_loader.dataset),\n",
        "#     #     100. * correct / len(train_loader.dataset)))\n",
        "    \n",
        "\n",
        "#     pbar.set_description(desc= f'Loss={loss.item()} Batch_id={batch_idx} Accuracy={100*correct/processed:0.2f}')\n",
        "#     train_acc.append(100*correct/processed)\n",
        "\n",
        "# def test(model, device, test_loader):\n",
        "#     model.eval()\n",
        "#     test_loss = 0\n",
        "#     correct = 0\n",
        "#     with torch.no_grad():\n",
        "#         for data, target in test_loader:\n",
        "#             data, target = data.to(device), target.to(device)\n",
        "#             output = model(data)\n",
        "#             test_loss += F.nll_loss(output, target, reduction='sum').item()  # sum up batch loss\n",
        "#             pred = output.argmax(dim=1, keepdim=True)  # get the index of the max log-probability\n",
        "#             correct += pred.eq(target.view_as(pred)).sum().item()\n",
        "\n",
        "#     test_loss /= len(test_loader.dataset)\n",
        "#     test_losses.append(test_loss)\n",
        "\n",
        "#     print('\\nTest set: Average loss: {:.4f}, Accuracy: {}/{} ({:.2f}%)\\n'.format(\n",
        "#         test_loss, correct, len(test_loader.dataset),\n",
        "#         100. * correct / len(test_loader.dataset)))\n",
        "    \n",
        "#     test_acc.append(100. * correct / len(test_loader.dataset))"
      ],
      "execution_count": 0,
      "outputs": []
    },
    {
      "cell_type": "code",
      "metadata": {
        "id": "mTR1vPvdNBhS",
        "colab_type": "code",
        "colab": {}
      },
      "source": [
        "from tqdm import tqdm\n",
        "\n",
        "train_losses = [[],[],[],[]]\n",
        "train_acc = [[],[],[],[]]\n",
        "test_losses = [[],[],[],[]]\n",
        "test_acc = [[],[],[],[]]\n",
        "\n",
        "def train(model, device, train_loader, optimizer, epoch, L1_weight_decay=0, select_list=0):\n",
        "  model.train()\n",
        "  pbar = tqdm(train_loader)\n",
        "  correct = 0\n",
        "  processed = 0\n",
        "  for batch_idx, (data, target) in enumerate(pbar):\n",
        "    # get samples\n",
        "    data, target = data.to(device), target.to(device)\n",
        "\n",
        "    # Init\n",
        "    optimizer.zero_grad()\n",
        "    # In PyTorch, we need to set the gradients to zero before starting to do backpropragation because PyTorch accumulates the gradients on subsequent backward passes. \n",
        "    # Because of this, when you start your training loop, ideally you should zero out the gradients so that you do the parameter update correctly.\n",
        "\n",
        "    # Predict\n",
        "    y_pred = model(data)\n",
        "\n",
        "    # Calculate loss\n",
        "    loss = F.nll_loss(y_pred, target)\n",
        "\n",
        "    # L1 loss - if required\n",
        "    if L1_weight_decay:\n",
        "        l1_crit = nn.L1Loss(size_average=False)\n",
        "        reg_loss = 0\n",
        "        for param in model.parameters():\n",
        "            # https://pytorch.org/docs/stable/tensors.html#torch.Tensor.norm\n",
        "            # reg_loss += param.norm(p=1) # can be viable alternative, but have to experiment\n",
        "        # below is not memory efficient as it will create new vector everytime\n",
        "            zero_vector = torch.rand_like(param) * 0\n",
        "            reg_loss += l1_crit(param, zero_vector)        \n",
        "        loss += L1_weight_decay * reg_loss  # add L1 norm regularizer \n",
        "    train_losses[select_list].append(loss)\n",
        "\n",
        "\n",
        "    # Backpropagation\n",
        "    loss.backward()\n",
        "    optimizer.step()\n",
        "\n",
        "    # Update pbar-tqdm\n",
        "    \n",
        "    pred = y_pred.argmax(dim=1, keepdim=True)  # get the index of the max log-probability\n",
        "    correct += pred.eq(target.view_as(pred)).sum().item()\n",
        "    processed += len(data)\n",
        "\n",
        "    pbar.set_description(desc= f'Loss={loss.item()} Batch_id={batch_idx} Accuracy={100*correct/processed:0.2f}')\n",
        "    train_acc[select_list].append(100*correct/processed)\n",
        "\n",
        "def test(model, device, test_loader, select_list=0):\n",
        "    model.eval()\n",
        "    test_loss = 0\n",
        "    correct = 0\n",
        "    with torch.no_grad():\n",
        "        for data, target in test_loader:\n",
        "            data, target = data.to(device), target.to(device)\n",
        "            output = model(data)\n",
        "            test_loss += F.nll_loss(output, target, reduction='sum').item()  # sum up batch loss\n",
        "            pred = output.argmax(dim=1, keepdim=True)  # get the index of the max log-probability\n",
        "            correct += pred.eq(target.view_as(pred)).sum().item()\n",
        "\n",
        "    test_loss /= len(test_loader.dataset)\n",
        "    test_losses[select_list].append(test_loss)\n",
        "\n",
        "    print('\\nTest set: Average loss: {:.4f}, Accuracy: {}/{} ({:.2f}%)\\n'.format(\n",
        "        test_loss, correct, len(test_loader.dataset),\n",
        "        100. * correct / len(test_loader.dataset)))\n",
        "    \n",
        "    test_acc[select_list].append(100. * correct / len(test_loader.dataset))"
      ],
      "execution_count": 0,
      "outputs": []
    },
    {
      "cell_type": "code",
      "metadata": {
        "id": "7NOI17KFNETq",
        "colab_type": "code",
        "colab": {}
      },
      "source": [
        "# summarize history for accuracy\n",
        "def plot_history(lists, labels, title=None, xlabel='epochs', ylabel=None, save=False):\n",
        "    '''\n",
        "    Take list of sequences and their respective label and plot them\n",
        "    '''\n",
        "    if title:\n",
        "        plt.title(title)\n",
        "    if xlabel:\n",
        "        plt.xlabel(xlabel)\n",
        "    if ylabel:\n",
        "        plt.ylabel(ylabel)\n",
        "    for vals, label in zip(lists, labels):\n",
        "        plt.plot(vals, label=label)\n",
        "    plt.legend(loc='best')\n",
        "    if save:\n",
        "        if title:\n",
        "            plt.savefig(title)\n",
        "            print('Fig Saved')\n",
        "        else:\n",
        "            print('Unable to save plot')\n",
        "    plt.show()\n",
        "\n",
        "\n",
        "labels = ['Without L1 or L2', 'Only L1 Reg', 'Only L2 Reg', 'Both L1 and L2']"
      ],
      "execution_count": 0,
      "outputs": []
    },
    {
      "cell_type": "code",
      "metadata": {
        "id": "Dx9Kxo9VNGlT",
        "colab_type": "code",
        "colab": {}
      },
      "source": [
        "def mis_classfied(model, test_loader, num=25):  \n",
        "    misclassified_images = torch.rand(25,28,28) * 0\n",
        "    ground_truth = torch.rand(25,1)*0\n",
        "    predicted = torch.rand(25,1)*0\n",
        "    num_false_images = 0\n",
        "\n",
        "    model.eval()\n",
        "    device = torch.device(\"cuda\" if use_cuda else \"cpu\")\n",
        "\n",
        "    with torch.no_grad():\n",
        "        for data, target in test_loader:\n",
        "            data, target = data.to(device), target.to(device)\n",
        "            output = model(data)\n",
        "            pred = output.argmax(dim=1, keepdim=True)  # get the index of the max log-probability\n",
        "            false_picker = torch.flatten(pred)-target\n",
        "            index = 0\n",
        "            for val in false_picker:\n",
        "                if (val != 0):\n",
        "                    misclassified_images[num_false_images] = data[index, 0, :, :]\n",
        "                    ground_truth[num_false_images] = target[index]\n",
        "                    predicted[num_false_images] = pred[index]\n",
        "                    num_false_images = num_false_images + 1\n",
        "                    if (num_false_images >= 25): \n",
        "                        break\n",
        "\n",
        "                index = index + 1\n",
        "               \n",
        "            if (num_false_images >= num):\n",
        "                  break\n",
        "    return misclassified_images, ground_truth, predicted"
      ],
      "execution_count": 0,
      "outputs": []
    },
    {
      "cell_type": "code",
      "metadata": {
        "id": "9LbfrzH1NGn3",
        "colab_type": "code",
        "colab": {}
      },
      "source": [
        "def plot_misclassified(misclassified_images, ground_truth, predicted, title=''):\n",
        "    num_img_rows = 5\n",
        "    num_img_cols = 5\n",
        "\n",
        "    fig = plt.figure()\n",
        "    fig.set_figheight(10)\n",
        "    fig.set_figwidth(10)\n",
        "    fig.suptitle(title) #super title\n",
        "\n",
        "    for i in range(25):\n",
        "        plt.subplot(5,5,i+1)\n",
        "        # plt.tight_layout()\n",
        "        plt.imshow(misclassified_images[i,:,:], cmap='gray', interpolation='none')\n",
        "        plt.title(\"Actual:{},Pred:{}\".format(ground_truth[i].numpy(), predicted[i].numpy()))\n",
        "        plt.xticks([])\n",
        "        plt.yticks([])"
      ],
      "execution_count": 0,
      "outputs": []
    },
    {
      "cell_type": "code",
      "metadata": {
        "id": "yIB-BgMXNKP7",
        "colab_type": "code",
        "colab": {}
      },
      "source": [
        "# EPOCHS = 40\n",
        "# L2_weight_decay = 0.0005\n",
        "\n",
        "def run_epochs(EPOCHS=40, L1_weight_decay=0, L2_weight_decay=0, select_list=0):\n",
        "    model =  Net().to(device)\n",
        "\n",
        "    for epoch in range(EPOCHS):\n",
        "        print(\"EPOCH:\", epoch)\n",
        "        if epoch < 10:\n",
        "            print('Learning rate :',0.03)\n",
        "            optimizer = optim.SGD(model.parameters(), lr=0.03, momentum=0.9, weight_decay=L2_weight_decay)\n",
        "        elif epoch < 25:\n",
        "            print('Learning rate :',0.003)\n",
        "            optimizer = optim.SGD(model.parameters(), lr=0.003, momentum=0.9, weight_decay=L2_weight_decay)\n",
        "        else:\n",
        "            print('Learning rate :',0.0003)\n",
        "            optimizer = optim.SGD(model.parameters(), lr=0.0003, momentum=0.9, weight_decay=L2_weight_decay)\n",
        "\n",
        "        train(model, device, train_loader, optimizer, epoch, L1_weight_decay=0, select_list=select_list)  # quick fix\n",
        "        test(model, device, test_loader, select_list=select_list) # quick fix\n",
        "    return model"
      ],
      "execution_count": 0,
      "outputs": []
    },
    {
      "cell_type": "code",
      "metadata": {
        "id": "AHL6KBVjNKSb",
        "colab_type": "code",
        "colab": {
          "base_uri": "https://localhost:8080/",
          "height": 1000
        },
        "outputId": "6877cacd-3eae-4b78-a81b-d11c780cdc08"
      },
      "source": [
        "\n",
        "# No L1 or L2\n",
        "model = run_epochs()"
      ],
      "execution_count": 14,
      "outputs": [
        {
          "output_type": "stream",
          "text": [
            "Loss=2.3505678176879883 Batch_id=0 Accuracy=9.38:   0%|          | 1/938 [00:00<01:55,  8.15it/s]"
          ],
          "name": "stderr"
        },
        {
          "output_type": "stream",
          "text": [
            "EPOCH: 0\n",
            "Learning rate : 0.03\n"
          ],
          "name": "stdout"
        },
        {
          "output_type": "stream",
          "text": [
            "Loss=0.02517308108508587 Batch_id=937 Accuracy=93.68: 100%|██████████| 938/938 [01:33<00:00, 10.01it/s]\n",
            "Loss=0.043057795614004135 Batch_id=1 Accuracy=98.44:   0%|          | 2/938 [00:00<01:31, 10.26it/s]"
          ],
          "name": "stderr"
        },
        {
          "output_type": "stream",
          "text": [
            "\n",
            "Test set: Average loss: 0.0464, Accuracy: 9842/10000 (98.42%)\n",
            "\n",
            "EPOCH: 1\n",
            "Learning rate : 0.03\n"
          ],
          "name": "stdout"
        },
        {
          "output_type": "stream",
          "text": [
            "Loss=0.009120987728238106 Batch_id=937 Accuracy=97.98: 100%|██████████| 938/938 [01:34<00:00,  9.92it/s]\n",
            "Loss=0.03542046993970871 Batch_id=0 Accuracy=98.44:   0%|          | 1/938 [00:00<01:41,  9.24it/s]"
          ],
          "name": "stderr"
        },
        {
          "output_type": "stream",
          "text": [
            "\n",
            "Test set: Average loss: 0.0458, Accuracy: 9852/10000 (98.52%)\n",
            "\n",
            "EPOCH: 2\n",
            "Learning rate : 0.03\n"
          ],
          "name": "stdout"
        },
        {
          "output_type": "stream",
          "text": [
            "Loss=0.008493755012750626 Batch_id=937 Accuracy=98.24: 100%|██████████| 938/938 [01:34<00:00, 10.60it/s]\n",
            "Loss=0.016490323469042778 Batch_id=0 Accuracy=100.00:   0%|          | 1/938 [00:00<01:34,  9.96it/s]"
          ],
          "name": "stderr"
        },
        {
          "output_type": "stream",
          "text": [
            "\n",
            "Test set: Average loss: 0.0329, Accuracy: 9898/10000 (98.98%)\n",
            "\n",
            "EPOCH: 3\n",
            "Learning rate : 0.03\n"
          ],
          "name": "stdout"
        },
        {
          "output_type": "stream",
          "text": [
            "Loss=0.02412530593574047 Batch_id=937 Accuracy=98.44: 100%|██████████| 938/938 [01:34<00:00,  9.94it/s]\n",
            "Loss=0.073514424264431 Batch_id=1 Accuracy=98.44:   0%|          | 1/938 [00:00<01:35,  9.83it/s]   "
          ],
          "name": "stderr"
        },
        {
          "output_type": "stream",
          "text": [
            "\n",
            "Test set: Average loss: 0.0260, Accuracy: 9911/10000 (99.11%)\n",
            "\n",
            "EPOCH: 4\n",
            "Learning rate : 0.03\n"
          ],
          "name": "stdout"
        },
        {
          "output_type": "stream",
          "text": [
            "Loss=0.0026757039595395327 Batch_id=937 Accuracy=98.64: 100%|██████████| 938/938 [01:34<00:00,  9.92it/s]\n",
            "Loss=0.003797139972448349 Batch_id=0 Accuracy=100.00:   0%|          | 1/938 [00:00<01:38,  9.47it/s]"
          ],
          "name": "stderr"
        },
        {
          "output_type": "stream",
          "text": [
            "\n",
            "Test set: Average loss: 0.0233, Accuracy: 9929/10000 (99.29%)\n",
            "\n",
            "EPOCH: 5\n",
            "Learning rate : 0.03\n"
          ],
          "name": "stdout"
        },
        {
          "output_type": "stream",
          "text": [
            "Loss=0.2918512225151062 Batch_id=937 Accuracy=98.70: 100%|██████████| 938/938 [01:35<00:00,  9.82it/s]\n",
            "Loss=0.002229457488283515 Batch_id=0 Accuracy=100.00:   0%|          | 1/938 [00:00<01:43,  9.09it/s]"
          ],
          "name": "stderr"
        },
        {
          "output_type": "stream",
          "text": [
            "\n",
            "Test set: Average loss: 0.0191, Accuracy: 9940/10000 (99.40%)\n",
            "\n",
            "EPOCH: 6\n",
            "Learning rate : 0.03\n"
          ],
          "name": "stdout"
        },
        {
          "output_type": "stream",
          "text": [
            "Loss=0.003140363609418273 Batch_id=937 Accuracy=98.80: 100%|██████████| 938/938 [01:35<00:00,  9.85it/s]\n",
            "Loss=0.015866266563534737 Batch_id=1 Accuracy=100.00:   0%|          | 1/938 [00:00<01:36,  9.76it/s]"
          ],
          "name": "stderr"
        },
        {
          "output_type": "stream",
          "text": [
            "\n",
            "Test set: Average loss: 0.0239, Accuracy: 9922/10000 (99.22%)\n",
            "\n",
            "EPOCH: 7\n",
            "Learning rate : 0.03\n"
          ],
          "name": "stdout"
        },
        {
          "output_type": "stream",
          "text": [
            "Loss=0.00911177508533001 Batch_id=937 Accuracy=98.94: 100%|██████████| 938/938 [01:35<00:00,  9.85it/s]\n",
            "Loss=0.0014125372981652617 Batch_id=0 Accuracy=100.00:   0%|          | 1/938 [00:00<01:37,  9.61it/s]"
          ],
          "name": "stderr"
        },
        {
          "output_type": "stream",
          "text": [
            "\n",
            "Test set: Average loss: 0.0205, Accuracy: 9934/10000 (99.34%)\n",
            "\n",
            "EPOCH: 8\n",
            "Learning rate : 0.03\n"
          ],
          "name": "stdout"
        },
        {
          "output_type": "stream",
          "text": [
            "Loss=0.0028715182561427355 Batch_id=937 Accuracy=98.86: 100%|██████████| 938/938 [01:34<00:00,  9.93it/s]\n",
            "Loss=0.019437864422798157 Batch_id=0 Accuracy=100.00:   0%|          | 1/938 [00:00<01:38,  9.56it/s]"
          ],
          "name": "stderr"
        },
        {
          "output_type": "stream",
          "text": [
            "\n",
            "Test set: Average loss: 0.0234, Accuracy: 9930/10000 (99.30%)\n",
            "\n",
            "EPOCH: 9\n",
            "Learning rate : 0.03\n"
          ],
          "name": "stdout"
        },
        {
          "output_type": "stream",
          "text": [
            "Loss=0.02235347405076027 Batch_id=937 Accuracy=98.94: 100%|██████████| 938/938 [01:32<00:00, 10.13it/s]\n",
            "Loss=0.02960946224629879 Batch_id=1 Accuracy=98.44:   0%|          | 2/938 [00:00<01:27, 10.72it/s]"
          ],
          "name": "stderr"
        },
        {
          "output_type": "stream",
          "text": [
            "\n",
            "Test set: Average loss: 0.0200, Accuracy: 9934/10000 (99.34%)\n",
            "\n",
            "EPOCH: 10\n",
            "Learning rate : 0.003\n"
          ],
          "name": "stdout"
        },
        {
          "output_type": "stream",
          "text": [
            "Loss=0.10256300866603851 Batch_id=937 Accuracy=99.20: 100%|██████████| 938/938 [01:37<00:00, 10.64it/s]\n",
            "Loss=0.009310315363109112 Batch_id=1 Accuracy=98.44:   0%|          | 2/938 [00:00<01:30, 10.36it/s]"
          ],
          "name": "stderr"
        },
        {
          "output_type": "stream",
          "text": [
            "\n",
            "Test set: Average loss: 0.0163, Accuracy: 9945/10000 (99.45%)\n",
            "\n",
            "EPOCH: 11\n",
            "Learning rate : 0.003\n"
          ],
          "name": "stdout"
        },
        {
          "output_type": "stream",
          "text": [
            "Loss=0.013642320409417152 Batch_id=937 Accuracy=99.18: 100%|██████████| 938/938 [01:36<00:00,  9.75it/s]\n",
            "Loss=0.0032224718015640974 Batch_id=0 Accuracy=100.00:   0%|          | 1/938 [00:00<01:49,  8.52it/s]"
          ],
          "name": "stderr"
        },
        {
          "output_type": "stream",
          "text": [
            "\n",
            "Test set: Average loss: 0.0150, Accuracy: 9947/10000 (99.47%)\n",
            "\n",
            "EPOCH: 12\n",
            "Learning rate : 0.003\n"
          ],
          "name": "stdout"
        },
        {
          "output_type": "stream",
          "text": [
            "Loss=0.17142514884471893 Batch_id=937 Accuracy=99.28: 100%|██████████| 938/938 [01:34<00:00,  9.92it/s]\n",
            "Loss=0.001753029297105968 Batch_id=1 Accuracy=100.00:   0%|          | 1/938 [00:00<01:34,  9.96it/s]"
          ],
          "name": "stderr"
        },
        {
          "output_type": "stream",
          "text": [
            "\n",
            "Test set: Average loss: 0.0149, Accuracy: 9947/10000 (99.47%)\n",
            "\n",
            "EPOCH: 13\n",
            "Learning rate : 0.003\n"
          ],
          "name": "stdout"
        },
        {
          "output_type": "stream",
          "text": [
            "Loss=0.006573658902198076 Batch_id=937 Accuracy=99.32: 100%|██████████| 938/938 [01:33<00:00, 11.15it/s]\n",
            "Loss=0.03157837316393852 Batch_id=1 Accuracy=100.00:   0%|          | 2/938 [00:00<01:27, 10.66it/s]"
          ],
          "name": "stderr"
        },
        {
          "output_type": "stream",
          "text": [
            "\n",
            "Test set: Average loss: 0.0147, Accuracy: 9948/10000 (99.48%)\n",
            "\n",
            "EPOCH: 14\n",
            "Learning rate : 0.003\n"
          ],
          "name": "stdout"
        },
        {
          "output_type": "stream",
          "text": [
            "Loss=0.31973502039909363 Batch_id=937 Accuracy=99.32: 100%|██████████| 938/938 [01:33<00:00, 10.00it/s]\n",
            "Loss=0.04024681821465492 Batch_id=0 Accuracy=96.88:   0%|          | 1/938 [00:00<01:37,  9.57it/s]"
          ],
          "name": "stderr"
        },
        {
          "output_type": "stream",
          "text": [
            "\n",
            "Test set: Average loss: 0.0144, Accuracy: 9948/10000 (99.48%)\n",
            "\n",
            "EPOCH: 15\n",
            "Learning rate : 0.003\n"
          ],
          "name": "stdout"
        },
        {
          "output_type": "stream",
          "text": [
            "Loss=0.0033372375182807446 Batch_id=937 Accuracy=99.30: 100%|██████████| 938/938 [01:34<00:00, 11.10it/s]\n",
            "Loss=0.0225546732544899 Batch_id=1 Accuracy=97.66:   0%|          | 2/938 [00:00<01:27, 10.65it/s]"
          ],
          "name": "stderr"
        },
        {
          "output_type": "stream",
          "text": [
            "\n",
            "Test set: Average loss: 0.0153, Accuracy: 9946/10000 (99.46%)\n",
            "\n",
            "EPOCH: 16\n",
            "Learning rate : 0.003\n"
          ],
          "name": "stdout"
        },
        {
          "output_type": "stream",
          "text": [
            "Loss=0.053173623979091644 Batch_id=937 Accuracy=99.33: 100%|██████████| 938/938 [01:36<00:00, 10.98it/s]\n",
            "Loss=0.01287767756730318 Batch_id=1 Accuracy=100.00:   0%|          | 1/938 [00:00<01:35,  9.84it/s]  "
          ],
          "name": "stderr"
        },
        {
          "output_type": "stream",
          "text": [
            "\n",
            "Test set: Average loss: 0.0147, Accuracy: 9945/10000 (99.45%)\n",
            "\n",
            "EPOCH: 17\n",
            "Learning rate : 0.003\n"
          ],
          "name": "stdout"
        },
        {
          "output_type": "stream",
          "text": [
            "Loss=0.009646359831094742 Batch_id=937 Accuracy=99.28: 100%|██████████| 938/938 [01:33<00:00,  9.99it/s]\n",
            "Loss=0.0028107864782214165 Batch_id=0 Accuracy=100.00:   0%|          | 1/938 [00:00<01:35,  9.82it/s]"
          ],
          "name": "stderr"
        },
        {
          "output_type": "stream",
          "text": [
            "\n",
            "Test set: Average loss: 0.0138, Accuracy: 9954/10000 (99.54%)\n",
            "\n",
            "EPOCH: 18\n",
            "Learning rate : 0.003\n"
          ],
          "name": "stdout"
        },
        {
          "output_type": "stream",
          "text": [
            "Loss=0.07154850661754608 Batch_id=937 Accuracy=99.30: 100%|██████████| 938/938 [01:34<00:00, 10.99it/s]\n",
            "Loss=0.0015415129018947482 Batch_id=0 Accuracy=100.00:   0%|          | 1/938 [00:00<01:39,  9.45it/s]"
          ],
          "name": "stderr"
        },
        {
          "output_type": "stream",
          "text": [
            "\n",
            "Test set: Average loss: 0.0146, Accuracy: 9948/10000 (99.48%)\n",
            "\n",
            "EPOCH: 19\n",
            "Learning rate : 0.003\n"
          ],
          "name": "stdout"
        },
        {
          "output_type": "stream",
          "text": [
            "Loss=0.11421487480401993 Batch_id=937 Accuracy=99.34: 100%|██████████| 938/938 [01:34<00:00,  9.95it/s]\n",
            "Loss=0.05371738225221634 Batch_id=0 Accuracy=98.44:   0%|          | 1/938 [00:00<01:45,  8.92it/s]"
          ],
          "name": "stderr"
        },
        {
          "output_type": "stream",
          "text": [
            "\n",
            "Test set: Average loss: 0.0138, Accuracy: 9951/10000 (99.51%)\n",
            "\n",
            "EPOCH: 20\n",
            "Learning rate : 0.003\n"
          ],
          "name": "stdout"
        },
        {
          "output_type": "stream",
          "text": [
            "Loss=0.07680206000804901 Batch_id=937 Accuracy=99.31: 100%|██████████| 938/938 [01:34<00:00,  9.94it/s]\n",
            "Loss=0.02197420597076416 Batch_id=0 Accuracy=98.44:   0%|          | 1/938 [00:00<01:40,  9.35it/s]"
          ],
          "name": "stderr"
        },
        {
          "output_type": "stream",
          "text": [
            "\n",
            "Test set: Average loss: 0.0149, Accuracy: 9946/10000 (99.46%)\n",
            "\n",
            "EPOCH: 21\n",
            "Learning rate : 0.003\n"
          ],
          "name": "stdout"
        },
        {
          "output_type": "stream",
          "text": [
            "Loss=0.0024631298147141933 Batch_id=937 Accuracy=99.34: 100%|██████████| 938/938 [01:34<00:00, 10.78it/s]\n",
            "Loss=0.0048365299589931965 Batch_id=1 Accuracy=99.22:   0%|          | 2/938 [00:00<01:31, 10.28it/s]"
          ],
          "name": "stderr"
        },
        {
          "output_type": "stream",
          "text": [
            "\n",
            "Test set: Average loss: 0.0154, Accuracy: 9947/10000 (99.47%)\n",
            "\n",
            "EPOCH: 22\n",
            "Learning rate : 0.003\n"
          ],
          "name": "stdout"
        },
        {
          "output_type": "stream",
          "text": [
            "Loss=0.005876655224710703 Batch_id=937 Accuracy=99.30: 100%|██████████| 938/938 [01:33<00:00, 10.08it/s]\n",
            "Loss=0.018464509397745132 Batch_id=1 Accuracy=100.00:   0%|          | 2/938 [00:00<01:26, 10.88it/s]"
          ],
          "name": "stderr"
        },
        {
          "output_type": "stream",
          "text": [
            "\n",
            "Test set: Average loss: 0.0142, Accuracy: 9945/10000 (99.45%)\n",
            "\n",
            "EPOCH: 23\n",
            "Learning rate : 0.003\n"
          ],
          "name": "stdout"
        },
        {
          "output_type": "stream",
          "text": [
            "Loss=0.001449784031137824 Batch_id=937 Accuracy=99.33: 100%|██████████| 938/938 [01:37<00:00, 10.68it/s]\n",
            "Loss=0.04383188486099243 Batch_id=0 Accuracy=98.44:   0%|          | 1/938 [00:00<01:33,  9.98it/s]"
          ],
          "name": "stderr"
        },
        {
          "output_type": "stream",
          "text": [
            "\n",
            "Test set: Average loss: 0.0141, Accuracy: 9952/10000 (99.52%)\n",
            "\n",
            "EPOCH: 24\n",
            "Learning rate : 0.003\n"
          ],
          "name": "stdout"
        },
        {
          "output_type": "stream",
          "text": [
            "Loss=0.015401684679090977 Batch_id=937 Accuracy=99.34: 100%|██████████| 938/938 [01:35<00:00,  9.82it/s]\n",
            "Loss=0.016537679359316826 Batch_id=1 Accuracy=99.22:   0%|          | 2/938 [00:00<01:29, 10.45it/s]"
          ],
          "name": "stderr"
        },
        {
          "output_type": "stream",
          "text": [
            "\n",
            "Test set: Average loss: 0.0135, Accuracy: 9950/10000 (99.50%)\n",
            "\n",
            "EPOCH: 25\n",
            "Learning rate : 0.0003\n"
          ],
          "name": "stdout"
        },
        {
          "output_type": "stream",
          "text": [
            "Loss=0.0015518602449446917 Batch_id=937 Accuracy=99.33: 100%|██████████| 938/938 [01:35<00:00,  9.79it/s]\n",
            "Loss=0.06440240889787674 Batch_id=0 Accuracy=95.31:   0%|          | 1/938 [00:00<01:37,  9.62it/s]"
          ],
          "name": "stderr"
        },
        {
          "output_type": "stream",
          "text": [
            "\n",
            "Test set: Average loss: 0.0142, Accuracy: 9945/10000 (99.45%)\n",
            "\n",
            "EPOCH: 26\n",
            "Learning rate : 0.0003\n"
          ],
          "name": "stdout"
        },
        {
          "output_type": "stream",
          "text": [
            "Loss=0.04015525430440903 Batch_id=937 Accuracy=99.36: 100%|██████████| 938/938 [01:34<00:00,  9.95it/s]\n",
            "Loss=0.004789422266185284 Batch_id=1 Accuracy=99.22:   0%|          | 1/938 [00:00<01:36,  9.67it/s]"
          ],
          "name": "stderr"
        },
        {
          "output_type": "stream",
          "text": [
            "\n",
            "Test set: Average loss: 0.0136, Accuracy: 9953/10000 (99.53%)\n",
            "\n",
            "EPOCH: 27\n",
            "Learning rate : 0.0003\n"
          ],
          "name": "stdout"
        },
        {
          "output_type": "stream",
          "text": [
            "Loss=0.005802853964269161 Batch_id=937 Accuracy=99.40: 100%|██████████| 938/938 [01:35<00:00,  9.82it/s]\n",
            "Loss=0.006398696452379227 Batch_id=1 Accuracy=100.00:   0%|          | 1/938 [00:00<01:34,  9.96it/s]"
          ],
          "name": "stderr"
        },
        {
          "output_type": "stream",
          "text": [
            "\n",
            "Test set: Average loss: 0.0135, Accuracy: 9952/10000 (99.52%)\n",
            "\n",
            "EPOCH: 28\n",
            "Learning rate : 0.0003\n"
          ],
          "name": "stdout"
        },
        {
          "output_type": "stream",
          "text": [
            "Loss=0.004761144984513521 Batch_id=937 Accuracy=99.37: 100%|██████████| 938/938 [01:33<00:00,  9.98it/s]\n",
            "Loss=0.011272403411567211 Batch_id=0 Accuracy=100.00:   0%|          | 1/938 [00:00<01:41,  9.20it/s]"
          ],
          "name": "stderr"
        },
        {
          "output_type": "stream",
          "text": [
            "\n",
            "Test set: Average loss: 0.0134, Accuracy: 9945/10000 (99.45%)\n",
            "\n",
            "EPOCH: 29\n",
            "Learning rate : 0.0003\n"
          ],
          "name": "stdout"
        },
        {
          "output_type": "stream",
          "text": [
            "Loss=0.0029098214581608772 Batch_id=937 Accuracy=99.39: 100%|██████████| 938/938 [01:33<00:00, 10.07it/s]\n",
            "Loss=0.003757225116714835 Batch_id=0 Accuracy=100.00:   0%|          | 1/938 [00:00<01:38,  9.48it/s]"
          ],
          "name": "stderr"
        },
        {
          "output_type": "stream",
          "text": [
            "\n",
            "Test set: Average loss: 0.0136, Accuracy: 9950/10000 (99.50%)\n",
            "\n",
            "EPOCH: 30\n",
            "Learning rate : 0.0003\n"
          ],
          "name": "stdout"
        },
        {
          "output_type": "stream",
          "text": [
            "Loss=0.005251748487353325 Batch_id=937 Accuracy=99.38: 100%|██████████| 938/938 [01:36<00:00, 10.37it/s]\n",
            "Loss=0.059150949120521545 Batch_id=0 Accuracy=98.44:   0%|          | 1/938 [00:00<01:33,  9.97it/s]"
          ],
          "name": "stderr"
        },
        {
          "output_type": "stream",
          "text": [
            "\n",
            "Test set: Average loss: 0.0144, Accuracy: 9947/10000 (99.47%)\n",
            "\n",
            "EPOCH: 31\n",
            "Learning rate : 0.0003\n"
          ],
          "name": "stdout"
        },
        {
          "output_type": "stream",
          "text": [
            "Loss=0.000899007951375097 Batch_id=937 Accuracy=99.40: 100%|██████████| 938/938 [01:35<00:00,  9.83it/s]\n",
            "Loss=0.0074062589555978775 Batch_id=0 Accuracy=100.00:   0%|          | 1/938 [00:00<01:41,  9.26it/s]"
          ],
          "name": "stderr"
        },
        {
          "output_type": "stream",
          "text": [
            "\n",
            "Test set: Average loss: 0.0133, Accuracy: 9949/10000 (99.49%)\n",
            "\n",
            "EPOCH: 32\n",
            "Learning rate : 0.0003\n"
          ],
          "name": "stdout"
        },
        {
          "output_type": "stream",
          "text": [
            "Loss=0.007755790837109089 Batch_id=937 Accuracy=99.37: 100%|██████████| 938/938 [01:35<00:00,  9.86it/s]\n",
            "Loss=0.013353089801967144 Batch_id=1 Accuracy=100.00:   0%|          | 2/938 [00:00<01:28, 10.53it/s]"
          ],
          "name": "stderr"
        },
        {
          "output_type": "stream",
          "text": [
            "\n",
            "Test set: Average loss: 0.0134, Accuracy: 9952/10000 (99.52%)\n",
            "\n",
            "EPOCH: 33\n",
            "Learning rate : 0.0003\n"
          ],
          "name": "stdout"
        },
        {
          "output_type": "stream",
          "text": [
            "Loss=0.018600624054670334 Batch_id=937 Accuracy=99.41: 100%|██████████| 938/938 [01:35<00:00, 10.77it/s]\n",
            "Loss=0.001744627021253109 Batch_id=1 Accuracy=99.22:   0%|          | 1/938 [00:00<01:35,  9.86it/s]"
          ],
          "name": "stderr"
        },
        {
          "output_type": "stream",
          "text": [
            "\n",
            "Test set: Average loss: 0.0134, Accuracy: 9952/10000 (99.52%)\n",
            "\n",
            "EPOCH: 34\n",
            "Learning rate : 0.0003\n"
          ],
          "name": "stdout"
        },
        {
          "output_type": "stream",
          "text": [
            "Loss=0.016202658414840698 Batch_id=937 Accuracy=99.40: 100%|██████████| 938/938 [01:34<00:00,  9.88it/s]\n",
            "Loss=0.05885231867432594 Batch_id=0 Accuracy=98.44:   0%|          | 1/938 [00:00<02:21,  6.61it/s]"
          ],
          "name": "stderr"
        },
        {
          "output_type": "stream",
          "text": [
            "\n",
            "Test set: Average loss: 0.0138, Accuracy: 9948/10000 (99.48%)\n",
            "\n",
            "EPOCH: 35\n",
            "Learning rate : 0.0003\n"
          ],
          "name": "stdout"
        },
        {
          "output_type": "stream",
          "text": [
            "Loss=0.023323241621255875 Batch_id=937 Accuracy=99.34: 100%|██████████| 938/938 [01:34<00:00,  9.96it/s]\n",
            "Loss=0.010982813313603401 Batch_id=0 Accuracy=100.00:   0%|          | 1/938 [00:00<01:36,  9.69it/s]"
          ],
          "name": "stderr"
        },
        {
          "output_type": "stream",
          "text": [
            "\n",
            "Test set: Average loss: 0.0134, Accuracy: 9949/10000 (99.49%)\n",
            "\n",
            "EPOCH: 36\n",
            "Learning rate : 0.0003\n"
          ],
          "name": "stdout"
        },
        {
          "output_type": "stream",
          "text": [
            "Loss=0.16911892592906952 Batch_id=937 Accuracy=99.44: 100%|██████████| 938/938 [01:34<00:00,  9.94it/s]\n",
            "Loss=0.0015194768784567714 Batch_id=0 Accuracy=100.00:   0%|          | 1/938 [00:00<01:35,  9.81it/s]"
          ],
          "name": "stderr"
        },
        {
          "output_type": "stream",
          "text": [
            "\n",
            "Test set: Average loss: 0.0143, Accuracy: 9952/10000 (99.52%)\n",
            "\n",
            "EPOCH: 37\n",
            "Learning rate : 0.0003\n"
          ],
          "name": "stdout"
        },
        {
          "output_type": "stream",
          "text": [
            "Loss=0.10705944150686264 Batch_id=937 Accuracy=99.39: 100%|██████████| 938/938 [01:34<00:00,  9.88it/s]\n",
            "Loss=0.004924635402858257 Batch_id=0 Accuracy=100.00:   0%|          | 1/938 [00:00<01:48,  8.60it/s]"
          ],
          "name": "stderr"
        },
        {
          "output_type": "stream",
          "text": [
            "\n",
            "Test set: Average loss: 0.0139, Accuracy: 9949/10000 (99.49%)\n",
            "\n",
            "EPOCH: 38\n",
            "Learning rate : 0.0003\n"
          ],
          "name": "stdout"
        },
        {
          "output_type": "stream",
          "text": [
            "Loss=0.0012186591047793627 Batch_id=937 Accuracy=99.37: 100%|██████████| 938/938 [01:34<00:00,  9.94it/s]\n",
            "Loss=0.006604460999369621 Batch_id=0 Accuracy=100.00:   0%|          | 1/938 [00:00<01:37,  9.60it/s]"
          ],
          "name": "stderr"
        },
        {
          "output_type": "stream",
          "text": [
            "\n",
            "Test set: Average loss: 0.0134, Accuracy: 9951/10000 (99.51%)\n",
            "\n",
            "EPOCH: 39\n",
            "Learning rate : 0.0003\n"
          ],
          "name": "stdout"
        },
        {
          "output_type": "stream",
          "text": [
            "Loss=0.0803697481751442 Batch_id=937 Accuracy=99.38: 100%|██████████| 938/938 [01:35<00:00,  9.86it/s]\n"
          ],
          "name": "stderr"
        },
        {
          "output_type": "stream",
          "text": [
            "\n",
            "Test set: Average loss: 0.0136, Accuracy: 9949/10000 (99.49%)\n",
            "\n"
          ],
          "name": "stdout"
        }
      ]
    },
    {
      "cell_type": "code",
      "metadata": {
        "id": "Utzym3rKNT9v",
        "colab_type": "code",
        "colab": {
          "base_uri": "https://localhost:8080/",
          "height": 650
        },
        "outputId": "8f8e5cdb-98a1-4a11-e297-6829a7960800"
      },
      "source": [
        "plot_misclassified(*mis_classfied(model, test_loader), 'Without L1 or L2 Norm')"
      ],
      "execution_count": 24,
      "outputs": [
        {
          "output_type": "display_data",
          "data": {
            "image/png": "[encoded data removed]",
            "text/plain": [
              "<Figure size 720x720 with 25 Axes>"
            ]
          },
          "metadata": {
            "tags": []
          }
        }
      ]
    },
    {
      "cell_type": "code",
      "metadata": {
        "id": "EpHO2YG2NWyM",
        "colab_type": "code",
        "colab": {}
      },
      "source": [
        "\n",
        "# Only L1\n",
        "model = run_epochs(L1_weight_decay=0.0005, select_list=1)\n",
        "plot_misclassified(*mis_classfied(model, test_loader), 'Only L1 reg')"
      ],
      "execution_count": 0,
      "outputs": []
    },
    {
      "cell_type": "code",
      "metadata": {
        "id": "SM53aXc9NW0y",
        "colab_type": "code",
        "colab": {}
      },
      "source": [
        "# Only L2\n",
        "model = run_epochs(L2_weight_decay=0.0005, select_list=2)\n",
        "plot_misclassified(*mis_classfied(model, test_loader), 'Only L2 reg')"
      ],
      "execution_count": 0,
      "outputs": []
    },
    {
      "cell_type": "code",
      "metadata": {
        "id": "uHeIkVkZNllA",
        "colab_type": "code",
        "colab": {}
      },
      "source": [
        "\n",
        "# Both L2 and L1\n",
        "model = run_epochs(L1_weight_decay=0.0005, L2_weight_decay=0.0005, select_list=3)\n",
        "plot_misclassified(*mis_classfied(model, test_loader), 'Both L1 and L2 reg')"
      ],
      "execution_count": 0,
      "outputs": []
    },
    {
      "cell_type": "code",
      "metadata": {
        "id": "wy2gKYnWNsdi",
        "colab_type": "code",
        "colab": {}
      },
      "source": [
        "plot_history(test_losses, labels, title='Test Losses', ylabel='Loss', save=1)\n",
        "plot_history(train_losses, labels, title='Train Losses', ylabel='Loss')\n",
        "plot_history(test_acc, labels, title='Test Accuracy', ylabel='Accuracy')\n",
        "plot_history(train_acc, labels, title='Train Accuracy', ylabel='Accuracy')"
      ],
      "execution_count": 0,
      "outputs": []
    },
    {
      "cell_type": "code",
      "metadata": {
        "id": "cWVOTnOYGDzt",
        "colab_type": "code",
        "outputId": "4a070d79-30e2-405a-abdf-4a53c92fe080",
        "colab": {
          "base_uri": "https://localhost:8080/",
          "height": 1000
        }
      },
      "source": [
        "# from torch.optim.lr_scheduler import StepLR\n",
        "\n",
        "# model =  Net().to(device)\n",
        "# optimizer = optim.SGD(model.parameters(), lr=0.01, momentum=0.9, weight_decay=0.01)\n",
        "# scheduler = StepLR(optimizer, step_size=6, gamma=0.1)\n",
        "\n",
        "\n",
        "# EPOCHS = 40\n",
        "# for epoch in range(EPOCHS):\n",
        "#     print(\"EPOCH:\", epoch)\n",
        "#     train(model, device, train_loader, optimizer, epoch)\n",
        "#     scheduler.step()\n",
        "#     test(model, device, test_loader)"
      ],
      "execution_count": 0,
      "outputs": [
        {
          "output_type": "stream",
          "text": [
            "Loss=2.329705238342285 Batch_id=0 Accuracy=9.38:   0%|          | 1/938 [00:00<02:16,  6.88it/s]"
          ],
          "name": "stderr"
        },
        {
          "output_type": "stream",
          "text": [
            "EPOCH: 0\n"
          ],
          "name": "stdout"
        },
        {
          "output_type": "stream",
          "text": [
            "Loss=0.10179602354764938 Batch_id=937 Accuracy=90.92: 100%|██████████| 938/938 [01:30<00:00, 10.33it/s]\n",
            "Loss=0.22025135159492493 Batch_id=1 Accuracy=96.88:   0%|          | 2/938 [00:00<01:30, 10.29it/s]"
          ],
          "name": "stderr"
        },
        {
          "output_type": "stream",
          "text": [
            "\n",
            "Test set: Average loss: 0.1623, Accuracy: 9638/10000 (96.38%)\n",
            "\n",
            "EPOCH: 1\n"
          ],
          "name": "stdout"
        },
        {
          "output_type": "stream",
          "text": [
            "Loss=0.10102304071187973 Batch_id=937 Accuracy=97.16: 100%|██████████| 938/938 [01:32<00:00, 10.55it/s]\n",
            "Loss=0.06885883212089539 Batch_id=0 Accuracy=100.00:   0%|          | 1/938 [00:00<01:37,  9.56it/s]"
          ],
          "name": "stderr"
        },
        {
          "output_type": "stream",
          "text": [
            "\n",
            "Test set: Average loss: 0.0964, Accuracy: 9853/10000 (98.53%)\n",
            "\n",
            "EPOCH: 2\n"
          ],
          "name": "stdout"
        },
        {
          "output_type": "stream",
          "text": [
            "Loss=0.08699624985456467 Batch_id=937 Accuracy=97.28: 100%|██████████| 938/938 [01:34<00:00,  9.92it/s]\n",
            "Loss=0.10432171821594238 Batch_id=0 Accuracy=100.00:   0%|          | 1/938 [00:00<01:43,  9.03it/s]"
          ],
          "name": "stderr"
        },
        {
          "output_type": "stream",
          "text": [
            "\n",
            "Test set: Average loss: 0.0908, Accuracy: 9826/10000 (98.26%)\n",
            "\n",
            "EPOCH: 3\n"
          ],
          "name": "stdout"
        },
        {
          "output_type": "stream",
          "text": [
            "Loss=0.2448921799659729 Batch_id=937 Accuracy=97.34: 100%|██████████| 938/938 [01:34<00:00,  9.93it/s]\n",
            "Loss=0.12469275295734406 Batch_id=0 Accuracy=96.88:   0%|          | 1/938 [00:00<01:37,  9.61it/s]"
          ],
          "name": "stderr"
        },
        {
          "output_type": "stream",
          "text": [
            "\n",
            "Test set: Average loss: 0.1022, Accuracy: 9819/10000 (98.19%)\n",
            "\n",
            "EPOCH: 4\n"
          ],
          "name": "stdout"
        },
        {
          "output_type": "stream",
          "text": [
            "Loss=0.08562548458576202 Batch_id=937 Accuracy=97.43: 100%|██████████| 938/938 [01:33<00:00, 10.06it/s]\n",
            "Loss=0.07620199769735336 Batch_id=0 Accuracy=98.44:   0%|          | 1/938 [00:00<01:37,  9.59it/s]"
          ],
          "name": "stderr"
        },
        {
          "output_type": "stream",
          "text": [
            "\n",
            "Test set: Average loss: 0.1033, Accuracy: 9783/10000 (97.83%)\n",
            "\n",
            "EPOCH: 5\n"
          ],
          "name": "stdout"
        },
        {
          "output_type": "stream",
          "text": [
            "Loss=0.3328879773616791 Batch_id=937 Accuracy=97.44: 100%|██████████| 938/938 [01:33<00:00, 10.05it/s]\n",
            "Loss=0.13515867292881012 Batch_id=1 Accuracy=98.44:   0%|          | 1/938 [00:00<01:36,  9.74it/s]"
          ],
          "name": "stderr"
        },
        {
          "output_type": "stream",
          "text": [
            "\n",
            "Test set: Average loss: 0.0936, Accuracy: 9757/10000 (97.57%)\n",
            "\n",
            "EPOCH: 6\n"
          ],
          "name": "stdout"
        },
        {
          "output_type": "stream",
          "text": [
            "Loss=0.0801144540309906 Batch_id=937 Accuracy=98.40: 100%|██████████| 938/938 [01:33<00:00, 10.08it/s]\n",
            "Loss=0.056562770158052444 Batch_id=0 Accuracy=100.00:   0%|          | 1/938 [00:00<01:36,  9.71it/s]"
          ],
          "name": "stderr"
        },
        {
          "output_type": "stream",
          "text": [
            "\n",
            "Test set: Average loss: 0.0456, Accuracy: 9927/10000 (99.27%)\n",
            "\n",
            "EPOCH: 7\n"
          ],
          "name": "stdout"
        },
        {
          "output_type": "stream",
          "text": [
            "Loss=0.14285321533679962 Batch_id=937 Accuracy=98.66: 100%|██████████| 938/938 [01:31<00:00, 10.22it/s]\n",
            "Loss=0.06287622451782227 Batch_id=1 Accuracy=99.22:   0%|          | 2/938 [00:00<01:31, 10.19it/s]"
          ],
          "name": "stderr"
        },
        {
          "output_type": "stream",
          "text": [
            "\n",
            "Test set: Average loss: 0.0451, Accuracy: 9920/10000 (99.20%)\n",
            "\n",
            "EPOCH: 8\n"
          ],
          "name": "stdout"
        },
        {
          "output_type": "stream",
          "text": [
            "Loss=0.056449998170137405 Batch_id=937 Accuracy=98.66: 100%|██████████| 938/938 [01:35<00:00,  9.81it/s]\n",
            "Loss=0.04297385364770889 Batch_id=1 Accuracy=99.22:   0%|          | 1/938 [00:00<01:34,  9.91it/s]"
          ],
          "name": "stderr"
        },
        {
          "output_type": "stream",
          "text": [
            "\n",
            "Test set: Average loss: 0.0454, Accuracy: 9920/10000 (99.20%)\n",
            "\n",
            "EPOCH: 9\n"
          ],
          "name": "stdout"
        },
        {
          "output_type": "stream",
          "text": [
            "Loss=0.13578082621097565 Batch_id=937 Accuracy=98.64: 100%|██████████| 938/938 [01:34<00:00,  9.94it/s]\n",
            "Loss=0.062267448753118515 Batch_id=0 Accuracy=100.00:   0%|          | 1/938 [00:00<01:35,  9.80it/s]"
          ],
          "name": "stderr"
        },
        {
          "output_type": "stream",
          "text": [
            "\n",
            "Test set: Average loss: 0.0444, Accuracy: 9924/10000 (99.24%)\n",
            "\n",
            "EPOCH: 10\n"
          ],
          "name": "stdout"
        },
        {
          "output_type": "stream",
          "text": [
            "Loss=0.06977657228708267 Batch_id=937 Accuracy=98.61: 100%|██████████| 938/938 [01:34<00:00,  9.96it/s]\n",
            "Loss=0.12205434590578079 Batch_id=0 Accuracy=96.88:   0%|          | 1/938 [00:00<01:34,  9.92it/s]"
          ],
          "name": "stderr"
        },
        {
          "output_type": "stream",
          "text": [
            "\n",
            "Test set: Average loss: 0.0481, Accuracy: 9921/10000 (99.21%)\n",
            "\n",
            "EPOCH: 11\n"
          ],
          "name": "stdout"
        },
        {
          "output_type": "stream",
          "text": [
            "Loss=0.17839789390563965 Batch_id=937 Accuracy=98.57: 100%|██████████| 938/938 [01:34<00:00, 10.77it/s]\n",
            "Loss=0.05496680736541748 Batch_id=0 Accuracy=100.00:   0%|          | 1/938 [00:00<01:39,  9.43it/s]"
          ],
          "name": "stderr"
        },
        {
          "output_type": "stream",
          "text": [
            "\n",
            "Test set: Average loss: 0.0471, Accuracy: 9923/10000 (99.23%)\n",
            "\n",
            "EPOCH: 12\n"
          ],
          "name": "stdout"
        },
        {
          "output_type": "stream",
          "text": [
            "Loss=0.24645422399044037 Batch_id=937 Accuracy=98.82: 100%|██████████| 938/938 [01:34<00:00, 10.83it/s]\n",
            "Loss=0.0550847202539444 Batch_id=0 Accuracy=100.00:   0%|          | 1/938 [00:00<01:36,  9.76it/s]"
          ],
          "name": "stderr"
        },
        {
          "output_type": "stream",
          "text": [
            "\n",
            "Test set: Average loss: 0.0402, Accuracy: 9936/10000 (99.36%)\n",
            "\n",
            "EPOCH: 13\n"
          ],
          "name": "stdout"
        },
        {
          "output_type": "stream",
          "text": [
            "Loss=0.06069521605968475 Batch_id=937 Accuracy=98.89: 100%|██████████| 938/938 [01:34<00:00,  9.96it/s]\n",
            "Loss=0.21798303723335266 Batch_id=1 Accuracy=96.88:   0%|          | 2/938 [00:00<01:32, 10.15it/s]"
          ],
          "name": "stderr"
        },
        {
          "output_type": "stream",
          "text": [
            "\n",
            "Test set: Average loss: 0.0404, Accuracy: 9936/10000 (99.36%)\n",
            "\n",
            "EPOCH: 14\n"
          ],
          "name": "stdout"
        },
        {
          "output_type": "stream",
          "text": [
            "Loss=0.35944366455078125 Batch_id=937 Accuracy=98.90: 100%|██████████| 938/938 [01:34<00:00, 11.09it/s]\n",
            "Loss=0.12193288654088974 Batch_id=0 Accuracy=96.88:   0%|          | 1/938 [00:00<01:38,  9.50it/s]"
          ],
          "name": "stderr"
        },
        {
          "output_type": "stream",
          "text": [
            "\n",
            "Test set: Average loss: 0.0393, Accuracy: 9936/10000 (99.36%)\n",
            "\n",
            "EPOCH: 15\n"
          ],
          "name": "stdout"
        },
        {
          "output_type": "stream",
          "text": [
            "Loss=0.11115071922540665 Batch_id=937 Accuracy=98.83: 100%|██████████| 938/938 [01:34<00:00,  9.96it/s]\n",
            "Loss=0.13302990794181824 Batch_id=0 Accuracy=96.88:   0%|          | 1/938 [00:00<01:40,  9.34it/s]"
          ],
          "name": "stderr"
        },
        {
          "output_type": "stream",
          "text": [
            "\n",
            "Test set: Average loss: 0.0408, Accuracy: 9935/10000 (99.35%)\n",
            "\n",
            "EPOCH: 16\n"
          ],
          "name": "stdout"
        },
        {
          "output_type": "stream",
          "text": [
            "Loss=0.0483454130589962 Batch_id=540 Accuracy=98.74:  58%|█████▊    | 541/938 [00:53<00:41,  9.52it/s]"
          ],
          "name": "stderr"
        }
      ]
    },
    {
      "cell_type": "code",
      "metadata": {
        "id": "M4A9WGSZGUQt",
        "colab_type": "code",
        "colab": {}
      },
      "source": [
        "# %matplotlib inline\n",
        "# import matplotlib.pyplot as plt\n",
        "\n",
        "# fig, axs = plt.subplots(2,2,figsize=(15,10))\n",
        "# axs[0, 0].plot(train_losses)\n",
        "# axs[0, 0].set_title(\"Training Loss\")\n",
        "# axs[1, 0].plot(train_acc[4000:])\n",
        "# axs[1, 0].set_title(\"Training Accuracy\")\n",
        "# axs[0, 1].plot(test_losses)\n",
        "# axs[0, 1].set_title(\"Test Loss\")\n",
        "# axs[1, 1].plot(test_acc)\n",
        "# axs[1, 1].set_title(\"Test Accuracy\")"
      ],
      "execution_count": 0,
      "outputs": []
    },
    {
      "cell_type": "code",
      "metadata": {
        "id": "yZ7QFC6dGD3H",
        "colab_type": "code",
        "colab": {}
      },
      "source": [
        "# plt.plot(train_epoch_end)\n",
        "# plt.plot(test_acc)\n",
        "# plt.title('model accuracy')\n",
        "# plt.ylabel('y label')\n",
        "# plt.xlabel('epoch')\n",
        "# plt.legend(['train', 'validation'], loc='upper left')\n",
        "# plt.show()\n",
        "# print(max(train_epoch_end[:15]))\n",
        "# print(max(test_acc[:15]))"
      ],
      "execution_count": 0,
      "outputs": []
    },
    {
      "cell_type": "code",
      "metadata": {
        "id": "QKoWB7muKQn9",
        "colab_type": "code",
        "colab": {}
      },
      "source": [
        ""
      ],
      "execution_count": 0,
      "outputs": []
    },
    {
      "cell_type": "code",
      "metadata": {
        "id": "lvrSVM8fMIUe",
        "colab_type": "code",
        "colab": {}
      },
      "source": [
        ""
      ],
      "execution_count": 0,
      "outputs": []
    },
    {
      "cell_type": "code",
      "metadata": {
        "id": "HQNDUERqMI2o",
        "colab_type": "code",
        "colab": {}
      },
      "source": [
        ""
      ],
      "execution_count": 0,
      "outputs": []
    },
    {
      "cell_type": "code",
      "metadata": {
        "id": "3P7ALukuMI6f",
        "colab_type": "code",
        "colab": {}
      },
      "source": [
        ""
      ],
      "execution_count": 0,
      "outputs": []
    }
  ]
}